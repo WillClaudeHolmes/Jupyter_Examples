{
 "cells": [
  {
   "cell_type": "markdown",
   "metadata": {
    "collapsed": true
   },
   "source": [
    "<h1>Derivative Illustration</h1>\n",
    "<p>This notebook gives an interactive illustration of a function's derivative.  In addition to an interactive graph which shows a function's derivative, this notebook is an example of using interacive widgets.  Some good resources I used in developing this are:\n",
    "<ul>\n",
    "<li>A blog post on <a href=https://blog.dominodatalab.com/interactive-dashboards-in-jupyter/>Building Interactive Dashboards with Jupyter</a></li>\n",
    "<li>The <a href=https://github.com/ipython/ipywidgets>ipywidgets</a> documentation on <a href=https://ipywidgets.readthedocs.io/en/latest/examples/Using%20Interact.html>Using Interact</a></li>\n",
    "<li>A <a href=http://earthpy.org/pyncview_pm.html>good description</a> of using interact for data analysis.</li>\n",
    "</ul>\n",
    "In a future notebook, we will explore <a href=https://github.com/jupyter-incubator/dashboards>Jupyter Dashboards</a> as well which would help the layout of the interactive graph.\n",
    "</p>\n",
    "<h2>Initialization</h2>\n",
    "<p>Below are the imports for the notebook.  Note that we are setting the matplotlib backend to 'notebook' with the <code>%matplotlib notebook</code> magic function.  This is somewhat described in the <a href=http://ipython.readthedocs.io/en/stable/interactive/plotting.html>ipython plotting documentation</a>.  The derivative function is described in the <a href=https://docs.scipy.org/doc/scipy-0.18.0/reference/generated/scipy.misc.derivative.html>scipy documentation</a></p>"
   ]
  },
  {
   "cell_type": "code",
   "execution_count": 1,
   "metadata": {
    "collapsed": true
   },
   "outputs": [],
   "source": [
    "import numpy as np\n",
    "from scipy.misc import derivative\n",
    "\n",
    "%matplotlib notebook\n",
    "import matplotlib\n",
    "from matplotlib import pyplot as plt\n",
    "\n",
    "import ipywidgets\n",
    "from ipywidgets import widgets #interact, interactive, widgets\n",
    "from IPython.display import display"
   ]
  },
  {
   "cell_type": "code",
   "execution_count": 2,
   "metadata": {
    "collapsed": false
   },
   "outputs": [],
   "source": [
    "left=0\n",
    "right = 4*np.pi\n",
    "NumSteps = 100\n",
    "\n",
    "BoxWidth = \"100%\"\n",
    "LRLayout=ipywidgets.Layout(width='50%')\n",
    "\n",
    "point_widget = widgets.FloatSlider(min=left, max=right, step=(right-left)/NumSteps,\n",
    "                                   value=(right-left)/2, description=\"Point\",\n",
    "                                   layout=ipywidgets.Layout(width='100%'))\n",
    "\n",
    "left_widget  = widgets.FloatSlider(min=-10., max=10., step=.5, description=\"Left\", value=left, layout=LRLayout)\n",
    "right_widget = widgets.FloatSlider(min=0.,   max=20., step=.5, description=\"Right\", value=right, layout=LRLayout)\n",
    "LRWidget= ipywidgets.Box(children=[left_widget,right_widget],\n",
    "                         layout=ipywidgets.Layout(display='flex',flex_flow=\"row\",width='100%'))\n",
    "\n",
    "\n",
    "DIBox=ipywidgets.Box(children=[LRWidget,point_widget],\n",
    "                     layout=ipywidgets.Layout(display='flex', flex_flow='column', align_items = 'stregtch', width=BoxWidth))"
   ]
  },
  {
   "cell_type": "code",
   "execution_count": 3,
   "metadata": {
    "collapsed": false
   },
   "outputs": [
    {
     "data": {
      "text/plain": [
       "<IPython.core.display.Javascript object>"
      ]
     },
     "metadata": {},
     "output_type": "display_data"
    },
    {
     "data": {
      "text/html": [
       "<img src=\"data:image/png;base64,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\">"
      ],
      "text/plain": [
       "<IPython.core.display.HTML object>"
      ]
     },
     "metadata": {},
     "output_type": "execute_result"
    }
   ],
   "source": [
    "def f(x):\n",
    "    return x**2\n",
    "\n",
    "VerAxisR = 1.1\n",
    "\n",
    "MyFig, MyAxes = plt.subplots()\n",
    "MyAxes.set_xlim(( left_widget.value, right))\n",
    "MyAxes.set_ylim((-1, 1))\n",
    "MyLineFunction, = MyAxes.plot([], [], label='Function f')\n",
    "MyLinePoint,  = MyAxes.plot([], [], marker='H', ls='none', MFC=(1,0,0,.25),\n",
    "                            mec=(1,0,0,1), label='Point')\n",
    "MyLineDerivative, = MyAxes.plot([], [], label='Derivative')\n",
    "\n",
    "def Updatef(left,right):\n",
    "    XFuntionValues = np.linspace(left,right)\n",
    "    YFunctionValues = [f(x) for x in XFuntionValues]\n",
    "    MyLineFunction.set_data(XFuntionValues,YFunctionValues)\n",
    "    high=max(YFunctionValues)\n",
    "    low =min(YFunctionValues)\n",
    "    ave=(high+low)/2\n",
    "    h=VerAxisR*(high - low)/2\n",
    "    MyAxes.set_ylim((ave-h, ave+h))\n",
    "    \n",
    "def UpdatePoint(x):\n",
    "    MyLinePoint.set_data([x],[f(x)])\n",
    "    m=derivative(f, x, order=5)\n",
    "    b=f(x) - m*x\n",
    "    MyLineDerivative.set_data([left_widget.value, right_widget.value],\n",
    "                              [m*left_widget.value+b, m*right_widget.value+b])\n",
    "\n",
    "def PointChange(ChangeDict):\n",
    "    UpdatePoint(point_widget.value)\n",
    "    \n",
    "def LRChange(ChangeDict):\n",
    "    Updatef(left_widget.value,right_widget.value)\n",
    "    MyAxes.set_xlim(( left_widget.value, right_widget.value))\n",
    "    UpdatePoint(point_widget.value)\n",
    "    point_widget.step=(point_widget.max-point_widget.min)/NumSteps\n",
    "    \n",
    "def LChange(ChangeDict):\n",
    "    point_widget.min=left_widget.value\n",
    "    if point_widget.value < left_widget.value:\n",
    "        point_widget.value = left_widget.value\n",
    "        UpdatePoint(point_widget.value)\n",
    "    LRChange(ChangeDict)    \n",
    "\n",
    "def RChange(ChangeDict):\n",
    "    point_widget.max=right_widget.value\n",
    "    if point_widget.value > right_widget.value:\n",
    "        point_widget.value = right_widget.value\n",
    "        UpdatePoint(point_widget.value)\n",
    "    LRChange(ChangeDict)    \n",
    "\n",
    "point_widget.observe(PointChange, names='value')\n",
    "left_widget.observe (LChange,    names='value')\n",
    "right_widget.observe(RChange,    names='value')\n",
    "UpdatePoint(point_widget.value)\n",
    "Updatef(left_widget.value,right_widget.value)\n",
    "display(DIBox)"
   ]
  },
  {
   "cell_type": "code",
   "execution_count": null,
   "metadata": {
    "collapsed": false
   },
   "outputs": [],
   "source": [
    "plt.draw()"
   ]
  },
  {
   "cell_type": "code",
   "execution_count": null,
   "metadata": {
    "collapsed": false
   },
   "outputs": [],
   "source": [
    "display(plt)"
   ]
  },
  {
   "cell_type": "code",
   "execution_count": null,
   "metadata": {
    "collapsed": false
   },
   "outputs": [],
   "source": [
    "import IPython\n",
    "print(IPython.display.set_matplotlib_formats.__doc__)"
   ]
  },
  {
   "cell_type": "code",
   "execution_count": null,
   "metadata": {
    "collapsed": true
   },
   "outputs": [],
   "source": [
    ""
   ]
  }
 ],
 "metadata": {
  "anaconda-cloud": {},
  "kernelspec": {
   "display_name": "Python [conda root]",
   "language": "python",
   "name": "conda-root-py"
  },
  "language_info": {
   "codemirror_mode": {
    "name": "ipython",
    "version": 3.0
   },
   "file_extension": ".py",
   "mimetype": "text/x-python",
   "name": "python",
   "nbconvert_exporter": "python",
   "pygments_lexer": "ipython3",
   "version": "3.5.2"
  },
  "widgets": {
   "state": {
    "de4b02edaeea48c5928299075bdd1e2d": {
     "views": [
      {
       "cell_index": 3.0
      }
     ]
    }
   },
   "version": "1.2.0"
  }
 },
 "nbformat": 4,
 "nbformat_minor": 0
}