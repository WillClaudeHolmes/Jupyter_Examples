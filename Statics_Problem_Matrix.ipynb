{
 "cells": [
  {
   "cell_type": "markdown",
   "metadata": {
    "collapsed": false
   },
   "source": [
    "# Using Numpy Matrix Class\n",
    "This notebook is very similar to [the same problem](Statics_Problem.ipynb) solved using plain numpy arrays for the matrices and vectors.  The difference is that this notebook uses [numpy.matrix](https://docs.scipy.org/doc/numpy/reference/generated/numpy.matrix.html#numpy-matrix) for the matrices and vectors.  I, [Will Holmes](http://www.linkedin.com/in/will-holmes), prefer the method in [the other notebook](Statics_Problem.ipynb).  While using the numpy.matrix class is more mathematically correct, I like the simplicity of the notation and not having to take transposes.  I guess the main thing I dislike about the formalism in this notebook is the fact that to get the element of vector, I still have to use a two dimensional index.  For example, the x component of the unit vector $\\lambda_{AB}$ is given by $\\lambda\\_AB[X,0]$ rather than $\\lambda\\_AB[X]$.   "
   ]
  },
  {
   "cell_type": "code",
   "execution_count": 1,
   "metadata": {
    "collapsed": true
   },
   "outputs": [],
   "source": [
    "#import stuff for working with matrices.\n",
    "from numpy import *\n",
    "#Set printing of numpy items to 3 decimal points.\n",
    "set_printoptions(precision = 3)\n",
    "#Use X, Y, Z for matrix indexing.\n",
    "X, Y, Z =(0, 1, 2)\n",
    "\n",
    "#Define function for calculating unit vector from given input vector.\n",
    "def λ(v):\n",
    "    return v/sqrt(v.T.dot(v))"
   ]
  },
  {
   "cell_type": "markdown",
   "metadata": {},
   "source": [
    "# Problem 3.50 (Statics by Hibbler 6<sup>th</sup> Edition)\n",
    "<img src=\"Statics_Problem.png\" style=\"float:right;width:3.5in;\">Using the figure to the right, determine the tensions in cables AB and AC. The\n",
    "applied force F is $500\\ lbf$, $F = 500\\ lbf$, and the tension in cable AD\n",
    "is 210 lbf, $T_{\\text{AD}} = 210\\ lbf$. For this problem, you must complete\n",
    "the following steps.\n",
    "1.  Determine the unit vectors AB and AC and AD\n",
    "2.  Write down force equilibrium conditions for point A.\n",
    "3.  Clearly Indicate the two equations you need to solve to determine the\n",
    "    tensions $T_{AB}$ and $T_{AC}$. This may be in matrix form\n",
    "    or as written out equations.\n",
    "4.  Solve your two equations for $T_{AB}$ and $T_{AC}$ using\n",
    "    whatever method you wish.\n",
    "5.  In step 2, you should have written down three equations for force\n",
    "    equilibrium at point A. You then used two of them to solve for\n",
    "    $T_{AB}$ and $T_{AC}$. Check your answers for\n",
    "    $T_{AB}$ and $T_{AC}$ using the third equation. Clearly indicate if your answer is correct or incorrect. If it is incorrect and time remains, correct your errors."
   ]
  },
  {
   "cell_type": "markdown",
   "metadata": {},
   "source": [
    "## Problem Overview\n",
    "The fundamental idea for this problem is to complete a free body diagram for point A.  In this case, we have one applied force and a known cable tension force.  Even though this is a 3D FBD which can give us three equilibrium equations, we only need two equations to solve the problem.  We will use two equations and then use the third as a check of our work.  Our Equilibrium Equation is then:\n",
    "$$F_{AB}\\lambda_{AB}+F_{AC}\\lambda_{AC}+F_{AD}\\lambda_{AD}+F_{app}=0$$"
   ]
  },
  {
   "cell_type": "markdown",
   "metadata": {},
   "source": [
    "## Unit Vectors\n",
    "To solve this, we first need to determine the unit vectors.  To find the unit vectors we write down the points, find the position vectors, and then find the unit vectors.\n",
    "\n",
    "*Note in the cell below, the points A,B,C and D are the column vectors.  The purpose of the [.T](https://docs.scipy.org/doc/numpy/reference/generated/numpy.matrix.T.html#numpy.matrix.T) after the call to [matrix](https://docs.scipy.org/doc/numpy/reference/generated/numpy.matrix.html) is to take the [transpose](https://docs.scipy.org/doc/numpy/reference/generated/numpy.matrix.T.html#numpy.matrix.T) since the vector was entered as a row vector (There first matrix index has only one item).  The .T turns the 1 X 3 matrix into a 3 X 1 matrix.  The .T in the print statement is to print results as a row since this is more compact.*"
   ]
  },
  {
   "cell_type": "code",
   "execution_count": 2,
   "metadata": {
    "collapsed": false,
    "scrolled": false
   },
   "outputs": [
    {
     "name": "stdout",
     "output_type": "stream",
     "text": [
      "The unit vectors are:\n",
      " λ_AB= [[ 0.429 -0.286 -0.857]] \n",
      " λ_AC= [[-0.442 -0.147 -0.885]] \n",
      " λ_AD= [[-0.286  0.429 -0.857]]\n"
     ]
    }
   ],
   "source": [
    "A=matrix([ 0,  0,  6]).T\n",
    "B=matrix([3,  -2,  0]).T\n",
    "C=matrix([-3, -1,  0]).T\n",
    "D=matrix([-2,  3,  0]).T\n",
    "λ_AB=λ(B-A)\n",
    "λ_AC=λ(C-A)\n",
    "λ_AD=λ(D-A)\n",
    "print(\"The unit vectors are:\\n λ_AB=\",λ_AB.T,\"\\n λ_AC=\",λ_AC.T,\"\\n λ_AD=\",λ_AD.T)"
   ]
  },
  {
   "cell_type": "markdown",
   "metadata": {},
   "source": [
    "## Applied Forces\n",
    "We are given values for the applied force and $T_{AD}$."
   ]
  },
  {
   "cell_type": "code",
   "execution_count": 3,
   "metadata": {
    "collapsed": false
   },
   "outputs": [
    {
     "name": "stdout",
     "output_type": "stream",
     "text": [
      "F_app is:\n",
      " [[  0   0 500]]\n",
      "\n",
      "F_AD is:\n",
      " [[ -60.   90. -180.]]\n"
     ]
    }
   ],
   "source": [
    "F_app=matrix([0, 0, 500]).T\n",
    "print(\"F_app is:\\n\",F_app.T)\n",
    "T_AD=210\n",
    "F_AD=T_AD*λ_AD\n",
    "print(\"\\nF_AD is:\\n\",F_AD.T)"
   ]
  },
  {
   "cell_type": "markdown",
   "metadata": {},
   "source": [
    "## Equilibrium\n",
    "The equilibrium equation, $F_{AB}\\lambda_{AB}+F_{AC}\\lambda_{AC}+F_{AD}\\lambda_{AD}+F_{app}=0$, is then:\n",
    "\n",
    "$$\\mathbf{M} \\left[ \\begin{array}{c}T_{AB}\\\\T_{AC}\\end{array} \\right] = -F_{app} - F_{AD}$$\n",
    "\n",
    "Using the x and y equations, the matrix $\\mathbf{M}$ is defined below."
   ]
  },
  {
   "cell_type": "code",
   "execution_count": 4,
   "metadata": {
    "collapsed": false,
    "scrolled": true
   },
   "outputs": [
    {
     "name": "stdout",
     "output_type": "stream",
     "text": [
      "[[ 0.429 -0.442]\n",
      " [-0.286 -0.147]]\n"
     ]
    }
   ],
   "source": [
    "M=matrix([[λ_AB[X, 0],λ_AC[X, 0]],\n",
    "          [λ_AB[Y, 0],λ_AC[Y, 0]]])\n",
    "print(M)"
   ]
  },
  {
   "cell_type": "markdown",
   "metadata": {},
   "source": [
    "The RHS, $-F_{app} - F_{AD}$, is"
   ]
  },
  {
   "cell_type": "code",
   "execution_count": 5,
   "metadata": {
    "collapsed": false
   },
   "outputs": [
    {
     "data": {
      "text/plain": [
       "matrix([[ 60.],\n",
       "        [-90.]])"
      ]
     },
     "execution_count": 5,
     "metadata": {},
     "output_type": "execute_result"
    }
   ],
   "source": [
    "RHS=matrix([-F_app[X,0]-F_AD[X,0],-F_app[Y,0]-F_AD[Y,0]]).T\n",
    "RHS"
   ]
  },
  {
   "cell_type": "markdown",
   "metadata": {},
   "source": [
    "## Solution\n",
    "The inverse of $\\mathbf{M}$ is:"
   ]
  },
  {
   "cell_type": "code",
   "execution_count": 6,
   "metadata": {
    "collapsed": false,
    "scrolled": true
   },
   "outputs": [
    {
     "name": "stdout",
     "output_type": "stream",
     "text": [
      "[[ 0.778 -2.333]\n",
      " [-1.507 -2.261]]\n"
     ]
    }
   ],
   "source": [
    "print(M.I)"
   ]
  },
  {
   "cell_type": "markdown",
   "metadata": {},
   "source": [
    "The solution for the tensions, $T_{AB}$ and $T_{AC}$, is then:"
   ]
  },
  {
   "cell_type": "code",
   "execution_count": 7,
   "metadata": {
    "collapsed": false
   },
   "outputs": [
    {
     "name": "stdout",
     "output_type": "stream",
     "text": [
      "The solution is\n",
      " T_AB =  256.666666667 \n",
      " T_AC =  113.038833052\n"
     ]
    }
   ],
   "source": [
    "solutions=M.I.dot(RHS)\n",
    "T_AB, T_AC =[solutions[0,0],solutions[1,0]]\n",
    "print('The solution is\\n T_AB = ',T_AB,'\\n T_AC = ',T_AC)"
   ]
  },
  {
   "cell_type": "markdown",
   "metadata": {
    "collapsed": true
   },
   "source": [
    "We can check our solution using equilibrium in the z direction.  Our Z eqation is:\n",
    "$$F_{AB}\\lambda_{AB}+F_{AC}\\lambda_{AC}+F_{AD}\\lambda_{AD}+F_{app}=0$$"
   ]
  },
  {
   "cell_type": "code",
   "execution_count": 8,
   "metadata": {
    "collapsed": false
   },
   "outputs": [
    {
     "data": {
      "text/plain": [
       "0.0"
      ]
     },
     "execution_count": 8,
     "metadata": {},
     "output_type": "execute_result"
    }
   ],
   "source": [
    "T_AB*λ_AB[Z,0]+T_AC*λ_AC[Z,0]+T_AD*λ_AD[Z,0]+F_app[Z,0]"
   ]
  },
  {
   "cell_type": "markdown",
   "metadata": {},
   "source": [
    "Since the above equation does give zero, the system is in equilibrium in the z direction.  Note that we could also run this check with all the equations as shown below."
   ]
  },
  {
   "cell_type": "code",
   "execution_count": 9,
   "metadata": {
    "collapsed": false
   },
   "outputs": [
    {
     "data": {
      "text/plain": [
       "matrix([[ 0.],\n",
       "        [ 0.],\n",
       "        [ 0.]])"
      ]
     },
     "execution_count": 9,
     "metadata": {},
     "output_type": "execute_result"
    }
   ],
   "source": [
    "T_AB*λ_AB+T_AC*λ_AC+T_AD*λ_AD+F_app"
   ]
  },
  {
   "cell_type": "code",
   "execution_count": null,
   "metadata": {
    "collapsed": true
   },
   "outputs": [],
   "source": []
  }
 ],
 "metadata": {
  "anaconda-cloud": {},
  "celltoolbar": "Raw Cell Format",
  "kernelspec": {
   "display_name": "Python [conda root]",
   "language": "python",
   "name": "conda-root-py"
  },
  "language_info": {
   "codemirror_mode": {
    "name": "ipython",
    "version": 3
   },
   "file_extension": ".py",
   "mimetype": "text/x-python",
   "name": "python",
   "nbconvert_exporter": "python",
   "pygments_lexer": "ipython3",
   "version": "3.5.2"
  }
 },
 "nbformat": 4,
 "nbformat_minor": 1
}
