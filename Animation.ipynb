{
 "cells": [
  {
   "cell_type": "code",
   "execution_count": 1,
   "metadata": {
    "collapsed": true
   },
   "outputs": [],
   "source": [
    "import numpy as np\n",
    "import matplotlib.pyplot as plt\n",
    "\n",
    "from matplotlib import animation, rc\n",
    "from IPython.display import HTML\n",
    "\n",
    "%matplotlib inline"
   ]
  },
  {
   "cell_type": "code",
   "execution_count": 2,
   "metadata": {
    "collapsed": false
   },
   "outputs": [
    {
     "ename": "NameError",
     "evalue": "name 'figure' is not defined",
     "traceback": [
      "\u001b[0;31m---------------------------------------------------------------------------\u001b[0m",
      "\u001b[0;31mNameError\u001b[0m                                 Traceback (most recent call last)",
      "\u001b[0;32m<ipython-input-2-ca6b161cab1b>\u001b[0m in \u001b[0;36m<module>\u001b[0;34m()\u001b[0m\n\u001b[0;32m----> 1\u001b[0;31m \u001b[0mfigure\u001b[0m\u001b[1;33m(\u001b[0m\u001b[0mfigsize\u001b[0m\u001b[1;33m=\u001b[0m\u001b[1;33m(\u001b[0m\u001b[0mfsx\u001b[0m\u001b[1;33m,\u001b[0m \u001b[0mfsy\u001b[0m\u001b[1;33m)\u001b[0m\u001b[1;33m)\u001b[0m\u001b[1;33m\u001b[0m\u001b[0m\n\u001b[0m\u001b[1;32m      2\u001b[0m \u001b[0mplot\u001b[0m\u001b[1;33m(\u001b[0m\u001b[0mta\u001b[0m\u001b[1;33m,\u001b[0m \u001b[0mpa\u001b[0m\u001b[1;33m,\u001b[0m \u001b[1;34m'H'\u001b[0m\u001b[1;33m,\u001b[0m \u001b[0mMFC\u001b[0m\u001b[1;33m=\u001b[0m\u001b[1;33m(\u001b[0m\u001b[1;36m1\u001b[0m\u001b[1;33m,\u001b[0m \u001b[1;36m0\u001b[0m\u001b[1;33m,\u001b[0m \u001b[1;36m0\u001b[0m\u001b[1;33m,\u001b[0m \u001b[1;36m0\u001b[0m\u001b[1;33m)\u001b[0m\u001b[1;33m,\u001b[0m\u001b[0mmec\u001b[0m\u001b[1;33m=\u001b[0m\u001b[1;34m'r'\u001b[0m\u001b[1;33m)\u001b[0m\u001b[1;33m\u001b[0m\u001b[0m\n\u001b[1;32m      3\u001b[0m \u001b[0mxlabel\u001b[0m\u001b[1;33m(\u001b[0m\u001b[1;34m'Time'\u001b[0m\u001b[1;33m)\u001b[0m\u001b[1;33m\u001b[0m\u001b[0m\n\u001b[1;32m      4\u001b[0m \u001b[0mylabel\u001b[0m\u001b[1;33m(\u001b[0m\u001b[1;34m'Population'\u001b[0m\u001b[1;33m)\u001b[0m\u001b[1;33m\u001b[0m\u001b[0m\n\u001b[1;32m      5\u001b[0m \u001b[0mtitle\u001b[0m\u001b[1;33m(\u001b[0m\u001b[1;34m'Population vs Time'\u001b[0m\u001b[1;33m)\u001b[0m\u001b[1;33m\u001b[0m\u001b[0m\n",
      "\u001b[0;31mNameError\u001b[0m: name 'figure' is not defined"
     ],
     "output_type": "error"
    }
   ],
   "source": [
    "figure(figsize=(fsx, fsy))\n",
    "plot(ta, pa, 'H', MFC=(1, 0, 0, 0),mec='r')\n",
    "xlabel('Time')\n",
    "ylabel('Population')\n",
    "title('Population vs Time')\n",
    "show()"
   ]
  },
  {
   "cell_type": "code",
   "execution_count": 3,
   "metadata": {
    "collapsed": false
   },
   "outputs": [
    {
     "data": {
      "image/png": "[encoded data removed]",
      "text/plain": [
       "<matplotlib.figure.Figure at 0xd604ac1cc0>"
      ]
     },
     "metadata": {},
     "output_type": "display_data"
    }
   ],
   "source": [
    "# First set up the figure, the axis, and the plot element we want to animate\n",
    "fig, ax = plt.subplots()\n",
    "\n",
    "ax.set_xlim(( 0, 2))\n",
    "ax.set_ylim((-2, 2))\n",
    "\n",
    "line, = ax.plot([], [], lw=2)"
   ]
  },
  {
   "cell_type": "code",
   "execution_count": 4,
   "metadata": {
    "collapsed": true
   },
   "outputs": [],
   "source": [
    "# initialization function: plot the background of each frame\n",
    "def init():\n",
    "    line.set_data([], [])\n",
    "    return (line,)"
   ]
  },
  {
   "cell_type": "code",
   "execution_count": 5,
   "metadata": {
    "collapsed": true
   },
   "outputs": [],
   "source": [
    "# animation function. This is called sequentially\n",
    "def animate(i):\n",
    "    x = np.linspace(0, 2, 1000)\n",
    "    y = np.sin(2 * np.pi * (x - 0.01 * i))\n",
    "    line.set_data(x, y)\n",
    "    return (line,)"
   ]
  },
  {
   "cell_type": "code",
   "execution_count": 6,
   "metadata": {
    "collapsed": false
   },
   "outputs": [],
   "source": [
    "# call the animator. blit=True means only re-draw the parts that have changed.\n",
    "anim = animation.FuncAnimation(fig, animate,\n",
    "                               frames=100, interval=20, blit=True)"
   ]
  },
  {
   "cell_type": "code",
   "execution_count": 7,
   "metadata": {
    "collapsed": false
   },
   "outputs": [
    {
     "data": {
      "text/html": [
       "<video width=\"432.0\" height=\"288.0\" controls autoplay loop>\n",
       "  <source type=\"video/mp4\" src=\"data:video/mp4;base64,AAAAHGZ0eXBNNFYgAAACAGlzb21pc28yYXZjMQAAAAhmcmVlAAB+Am1kYXQAAAKuBgX//6rcRem9\n",
       "5tlIt5Ys2CDZI+7veDI2NCAtIGNvcmUgMTQ4IHIyNzIxIDcyZDUzYWIgLSBILjI2NC9NUEVHLTQg\n",
       "QVZDIGNvZGVjIC0gQ29weWxlZnQgMjAwMy0yMDE2IC0gaHR0cDovL3d3dy52aWRlb2xhbi5vcmcv\n",
       "eDI2NC5odG1sIC0gb3B0aW9uczogY2FiYWM9MSByZWY9MyBkZWJsb2NrPTE6MDowIGFuYWx5c2U9\n",
       "MHgzOjB4MTEzIG1lPWhleCBzdWJtZT03IHBzeT0xIHBzeV9yZD0xLjAwOjAuMDAgbWl4ZWRfcmVm\n",
       "PTEgbWVfcmFuZ2U9MTYgY2hyb21hX21lPTEgdHJlbGxpcz0xIDh4OGRjdD0xIGNxbT0wIGRlYWR6\n",
       "b25lPTIxLDExIGZhc3RfcHNraXA9MSBjaHJvbWFfcXBfb2Zmc2V0PS0yIHRocmVhZHM9NiBsb29r\n",
       "YWhlYWRfdGhyZWFkcz0xIHNsaWNlZF90aHJlYWRzPTAgbnI9MCBkZWNpbWF0ZT0xIGludGVybGFj\n",
       "ZWQ9MCBibHVyYXlfY29tcGF0PTAgY29uc3RyYWluZWRfaW50cmE9MCBiZnJhbWVzPTMgYl9weXJh\n",
       "bWlkPTIgYl9hZGFwdD0xIGJfYmlhcz0wIGRpcmVjdD0xIHdlaWdodGI9MSBvcGVuX2dvcD0wIHdl\n",
       "aWdodHA9MiBrZXlpbnQ9MjUwIGtleWludF9taW49MjUgc2NlbmVjdXQ9NDAgaW50cmFfcmVmcmVz\n",
       "aD0wIHJjX2xvb2thaGVhZD00MCByYz1jcmYgbWJ0cmVlPTEgY3JmPTIzLjAgcWNvbXA9MC42MCBx\n",
       "cG1pbj0wIHFwbWF4PTY5IHFwc3RlcD00IGlwX3JhdGlvPTEuNDAgYXE9MToxLjAwAIAAABC9ZYiE\n",
       "ADP//vbsvgU1/Z/QlxEsxdpKcD4qpICAdzTAAAADAAB4He8/ZuGlCGIBGma0x4lYV4ETfyHITBpq\n",
       "bP4dZJ3rTW2WmWPMi7akAYcHmnE2LwP6j/UaH6Do1kI7dyDGDSADnj7V2st1+CkiEyocn+bDLzPg\n",
       "Y2jbDV9I5btxxJMbl1qEXGHaHUQJl1hGUN4u5NwI2ypImZbnOVkrCl3wfeeC63Rg49G5JOlTGanF\n",
       "cmW2qpKtctB08S4wGCf2WJXYf6Ej5r3qaVOMP5FW7P9zu5zCTm+Hg68qeMotXVGAJbGSOKgV//+c\n",
       "hmtIIm1XTGcLRIfhOXgkqbK+f5cG+J42r866uJhqCFzXmo3sf2EK/Id5ttEhNchr8BGCcWkHaPsq\n",
       "gx3Dd9z/RPsUt12grbIiGmCssjT6vGO+9FHjmUKWfmaC6eEC14srj7+hLj3GdT/L2JV6LZB2jzro\n",
       "cMi90D8tokMJ6Q3rNVtO8jyjAQgUcABAAAE1LKJb4uAzPx9c8F5gy/WzH5f8ByeAAPEsZ/5jHx98\n",
       "rCYSr/5vS0QArwr7foPqhSNIFcFIbKoUl7SwXUh1iIYG8lgCImHP1i0hRNmKvUGXOZOi8t06XVdg\n",
       "vzJYsHrtcATutXflX8f3Np84yDMEdAJHjqFBak2czc6ZNoXJ0xAmkqHgtWwWycNJOeJ29gLKYOi1\n",
       "M+n0sClgJkUt46SM8KvZG2qQFZYCu/qcKH6TIQWgPnRJhfQOPvy9Qjj//qvRhp/m+pvtNTZ/MoH6\n",
       "m9eROQtGGM3xLb8iEuqCdhMbncCulbvoohV3JvBSD4WQOZXBct7VV+gJ5Y5aXc988kz2EqJHHBa7\n",
       "1YXyQZq7ISzUtLTDPXxKsp3N7TVkBXIx2W1EiG2AFypW4XuolqS4+Dfn7iXkQmzi84kwOggAibW9\n",
       "y1x6cQLa7JuVorCRCDMjYvw+6vM4fcQGFrtO9j8f+SESlejGk+ufnxwO7ELoyhfsml3Mbyl3lRY2\n",
       "q3yo4X6kcBataEMK1Up7iw76tBcZictoROZMtc8AQWQp/oxjTTrNQmNMGfDpn4/AWM9cy7kL0To+\n",
       "qdvE9MNNwD2lrks6Z4KnYSnmtB6RFYq48Lhvd/x3gNj3+D2dQhOaJmBgKz4Z8ITp2uDTO5tFSKQr\n",
       "B038mmN/IrUaJYQtKvX5afE5Me8sDPr+zaEdTdKIN6/nzrRkpgOogFtjhhiM4byd7jo+fGjLmanX\n",
       "VJ/xt+p3wdT7+v4VRJh3KVpA7X5DkLWjfqNjMc7nG9p10NpVjispoJvNeMY2rFS1Wtlqa8RAGT+e\n",
       "cFYVmPzieVcUJAItwYUNktiaJeiR2fGR87yPWskuV84ctMV2Xm6koOpsIwEubIyxbiiNF+CgjOJD\n",
       "SqML+BRkycyghL5dD+Fw0IKKwZldcjSe+RgyulHaB+E3cAnekbcj2/aPo8pktv5Yl8WN6YHXJ6AU\n",
       "X5nffrWlFrN2lTHSndQKyigJBKGumJK/e6oTt0n2tH8gxEr78WhUDyno5zmD/wQ2jgEHSpd57VyO\n",
       "7Vc2sXXnSVJCqqERBQ2AXUOOlTuKMDEL0pIeENCu45RPTko7qJg+mrloEoc4wFVM+mgV+QBdHV3s\n",
       "cF1px+/sqq1a9DvTJWn79tZ22IdN/tkCxkAWHnQNFZ/rwnkCvbM8oDQvUYktfcUM8qEfcFWgKxZv\n",
       "/bLlvKVUubm3bowO5UM+4vm9CBAqyHoCc/LcxzfeY8E6rSGBH7L7xmgxoIeCHOjuYoTLUlLq/4v0\n",
       "KA8GxEoHkf3ArVDp8THNAFr12wIcCXn7juDD1Uu/niwMhKVVbRWeWJV0rdD9nmzCgTcfFDwQqFZD\n",
       "QuiOgBF1AoZDoLUPfrDRLq8rQj64fTUZw3qRQWVu/h2MfwVc4vHbj4kJfFWEQZUd2xejPPp3BzP5\n",
       "e1d++pOTGE9VPPAiJK+HyRTqUQVDIBibFx1y1EB2fICgoSafiTugCIHFRgCQXrfVSoH6AT0LLzSx\n",
       "dXQKuk9tk4ZH0zcj9iocdyDFZHY16dnIzf/y7pukZKcM+BQAEUMmVv3scA6MbrmYozwCYf61pHQ1\n",
       "tXCO0OvMQcT6Xps+PTY4TstK6FAId2c2M199laGrnbNxPDA3//RAOXD8aaQ5i92pYAtqAaL1WgLI\n",
       "NAiOZOERPU3s0V+vsQA8NnBWwzcclJevmugcohRQaQ5ZR3nly94AZbcG1PHEP0qas95sR743r60k\n",
       "OeRMHLZ2U44AR9nGkNQ1DggXf/fV6oKL69zETF9YGh0cTYKQ+XH6Ur2DLcKAy1NxPluDlx6mRpAR\n",
       "3cLqQ7hRQUj5K+8epKqK8g9+RVsZhtkENkzTfn1mrnHbfwd8Pxs80/yV5ytTpAQOLsIwXdNyAHIj\n",
       "2c6AuDsM9ORwsU81uw/MPjNVn6yLEd/iJHCVSy/szZhoLgZAkRbXhGhhbkYR9WfVjdo0F8xvsX6Q\n",
       "5LIQO22g78PSyYlu0Ww7NVv2ySPcWJ5bhKNSgBkZmKanrSA7CpROmvCu9w1kPO2Fdln0e9LOpZZS\n",
       "iWy5jKRvrhx4UaZs+UtZRSt7lQffpSvYk9K81YA7bpzAvBIsxy32Kefwxo4K2N20AKjyGc55mHIm\n",
       "bjGYp7S3BHJ6U6iauifEWXdQVCl5uZ/yRPrep9lEKA77HeEHxDjNN68K/aL9L2hOTHMA3GbKk9WY\n",
       "tYjBfGhjSDqS/K/aDKkYUQL4c8twZ+AoCxWtIx5Nhj74DJOyT/mYaAsZuCxUCLLGU6cuN1qYmQUN\n",
       "c1Dair/xQrWxiuRqls1pJSVX8nSdVBRmuOl/03rVt41Q0iAoVlSne5AplyyQSTjaVh7crFsdUY2c\n",
       "lxAq/V+zRjVeTv1/JvgNNJCPcGZ43EoTUUFdIf/Y5jFxeNI3t2uiQx7s5zVNPPgcrtNDwG2BTrg1\n",
       "CbwNFVluJKWKDKrJU+RAoA/WvP0Wc+agGWqezGp9zSq1vU075XxU4nNjvB1JKSCFytZ1Iyrevsif\n",
       "3uze+KmRH/eT44D4OT/zVqpP6CS8QOx1vafQItKE9Th3UnPzfryFYiWWvJAhqN6/tJ9MiuZCsjZb\n",
       "f9hdR43XuOoPriZY2/QWOoacrYZrwthMUP56xnFPjj//+5XThmKIxBgsvCE68O/ycBcKBgyOXn3o\n",
       "Yw0A7N6MdwWqPjxWq58ZGx3wUlG/k8Sa3wEq2MK9zsBlQydH9QufEEfa/pEgweD3oL5k5m7Bg8s/\n",
       "4IiAmUeCl7tIf94UY+A0RgAAr3PSw9/axQrL7eFj2DF6d/mA0979F82Xv8J9QVELHTUPEUHAb7y0\n",
       "wUWoY5Of6STF9IdciMXFsNqYik0CRrE11o/IO3XgWfpsHMJiC4I+xrUMFAuU8ib1EHLpn29isAN5\n",
       "lpz1BP48KbCR0Xynj5mAYS7plv9Tob63az3Tyj7/LDbzUhy5hQvUAfrb8enN++b4+FqIeQlCTa43\n",
       "H+BUpMrJrh0OtH63PtuklTkPozO8T/HfUG0yL9dqLSgCp335PZ9N+KxgYmfOYneAJi4aSiUculvC\n",
       "EJpSJechwzzUhrN6QuRKBsj3+gAgmHptdOis03DhRKEs7E0G5omfniSh0VDQBWQA4DfogId+VIFR\n",
       "NuxDg/dEGqwKldwwnJ+Oe/ihv5+GFulckFy8WHfAfTZ0/XOOskAtMJuFce8VjBCVBrh3Z4Dx5lTb\n",
       "orx5qWmsQ06+xGPozopS3+6hroKQZ2k33Kn6LTZpDnR1SppQaF65n+NzfoKJGuuan6xu4kBcmWho\n",
       "FkyU+t0G/XDKM0kW1zjroSqu4i6haDSPyIqUwtUxAY2TROHYaOCMnrBROqORuuXSUCMLHacdtNYa\n",
       "QjTlKxkkmH8brePu/jbe2kFXWwF0PN7/4Pr+Y1HRwwUnVfeeUdSOsLQi8mOji9jqGaJlby7AVRGe\n",
       "920L5WKZYSi25jq66Tg10HKWJkXcj5mTXVlB6rpNl7ujijhD+Qp7/xs2PCmBJsQ+iRlO9VOosWzK\n",
       "+pB9mtmdD3IIDF3sDJhMxBaTKFXhzUDVmBK9jhylZUXZp7wapTGTWQK1m5DSg/75fo5WMOEMbq5f\n",
       "eqDd0owqEQOob6iypsc661ykwsl+juSUy2EhuR5nBujsiZ+sZdgnkSbXoHdJRYsbsg0c8Ilf2CjV\n",
       "2Z+/mSYTyf/0SUPbdM8ssU4GNtd0QMdIM8gXxTD/bhm+C0sIzamg3K0AImC9+51938Af3O9gG23G\n",
       "AioBUTh8zOBiB7QHPEYp0oj+Qj676wC997d6g81LbwBGln/X56bEV5ILNoKc1JZuTqtx3qeOf91M\n",
       "803VefH9dIrG0w9AWt5WJcvoq4EMJhUp5Z0sfhPmG1JMl0i3gKwFGjx1ielLTbrK0XuiXUUNo+HZ\n",
       "2wQan8SJ3/jIeoR/s7fGejqifNYuKnez6gaNzhM2uhld86UKN+pB1Q+rDgbx9phrtqAOndH84PiO\n",
       "ZCXU5tEY9q2mUrtT2QL63PBErEvVLR8cRzYTtJaD2zZ1fO/DLzDvi1FFmcK0fDES6dql07kxWx9s\n",
       "NS4LLseDbjIqDg/dP38VwrNQIXPGYYNZkjqxFJF2KHcpAOLnqVHF51V/8s93FWHe81n+kqMpdchw\n",
       "MjG4qgnbxyHLh82RE9KCZm6vdzk1lYcn/Qxvvsystv/adE0+JnWj/QmNhgS9AoqUzVTz6mKvgLJp\n",
       "w2GuW4dMGlReLuiLKlZzBPkpCyrdnhvAddSNcGw0X2n/91wQLSdZbE7sYJxknhmFbvAerAVf3+S4\n",
       "z1EU3HoSAgG/lEfyeavaK9EfjzWyFFSu6fSSngSLA4CIETWKOBXaYQ5rqs/9zuKwH22qBD08gmoY\n",
       "Mew381StsQ82GzhnNpTY6fkdpjuX/qEDKhfjg0/HnwNMgwxNFsRz59hFirESZhgCA+jpzMD343qW\n",
       "64plHHsQeXxYEa/4PT1MbKex4o5qTkNAKds9os0oN6xu5bhS+iLtdNWOaQWlKDzFMh1kbiskxp78\n",
       "FoJqXEXVy0CiFbMyBJz8nl1e2QxKDVUPhPId2eFXs+oJSJqGVBjYKcr4ByrCcI7ab8/HLUtha5o8\n",
       "3tNfjaPfiYeRIWSbfKDW73nMsRYUQ/gSraHbqrSux4kaWb7SeE26CoFnZ/okmGkKz+85S62+TtHP\n",
       "xNdbyqpfA/EkpxlK9BZsSlHA6Nry/X6DwrrVUOMSKQ/whNcyW8bgneDvuYlUsmK0POhr2z/WXhTY\n",
       "kwe7jYBh1oF5vRE87tup+yRo0RdVAeMDhDT9hFqXvP9WgnXqVhlRajZHDa0Qw+f4JOPAsgJMJeJp\n",
       "W93okHJMjF7FB8OzHjMrlRn1/emN/Fpt1pENDwi1iTN/ulAM3QP6eeB093uZj1QRl2lIhlU7/4MN\n",
       "wUW2uwoNJG8RgJk7YX7fZ/IPzDw0YlBKy5K/s+zAFTmHrsvpRktde/kVZUpr355x3phC68WdsBWx\n",
       "BbgVQ3klOd7SFKw6TQoWFIAmqMjNNGYCbBufPiZRvxdFRkp3B2+wLtVYamBeMmCYPVI4JB0j1Axy\n",
       "IOPl0/Mslfw6KKabB9oIPXDT5yvVyjbecUAIKMRycx2dxI343z8fXJk7AbewtvZkATb656b2Ewtq\n",
       "Bjt0HqOVBkNk6kfVnVjF0mpdh74pYctbuUyb+WuzU++G59X6852cxzQSehSFqwh9sPFgiWFvLz91\n",
       "PIekikZPGl0uW4PrnvRBOlsCqqjwmyMHLkMHi8Xa9QjXPFgmsEjU4RAqQrqrvytNDz36p8WJNABi\n",
       "8hAAAdwEPQAAAytBmiRsQv/+jLB+RI0AmtrRZWPfRLtCiJeRXFdJYJg4wvi1XCm232ZcwPIt16/I\n",
       "CWVsB6/VR6sJqbiETZ1BMzoPtBh/eAOkZ9KiQD/nmUqM8hu9zVmBUIEDtktvhku/eX9JEV9A4isy\n",
       "j4DrqA5GAxvty5LWUm18dnsFLYqZW+6Yiw6jAgW3ucPz4224CUCd+Z08FZ/njc2RQhcS3NMJFbAh\n",
       "YeQ9lOFJHqGCFkyIEMbiFeBbsito5ey5kE97OnwA10nc5kZuupnhb8WCThqqQgy9qsryIrRNle3/\n",
       "osr4Lk34Op7WL6MunU0VEng8axTZVGkx/50O/lwv4RWVfpUChWpG/L9fHc1Ej5FOdweB/3fC8Mjp\n",
       "Nyw7mk/E5OE0h5YKfEBxwUmxzFUuR0m93Oa6Jv9u4eh5DTQ1QAJHWgQLfem8GS/TDw429YzWROrq\n",
       "6evZEDBh4RfgszYH1XV3n/HHoCT4p85UpcJC5Pc3WOlFjR6zxH+8FIjRIRkJbAlg5xvHfmaSLIJT\n",
       "AUFbbule8qW2rS/SKJjIg6hY0adY9m4jtz9xaJ5qBdQ7Zl9wCGaSdMxrfCrK7r1qY+7CiucD78nr\n",
       "+QnXgSEfdPhF8XFAafE9+FQIQ9q8h7wNXM+B20DwP2ZB85Rr+FHnGv28uZJv70A2frtKzSl9WXgT\n",
       "IG1OWqJX0I+txxzbHOBqVyZiGVLA4BCKgQzLuUWZ1/KS5hKLt0524uWcLDmK1T7v/9W7h33fyTvU\n",
       "CDqbQzzYw3K/i+Wa3Yl1Rb5/x5zAZCpzOi9H2phdtgt3bgi/MBkMQYRgCRiu/3+k2PMWCn2cPVFs\n",
       "AxFyIb0/7sd2CjLtwlnchUQY3NY0BkN9yvKmpSscq4LDdIpED/TbI8isyzx7NzBYdlOcioLtGUTn\n",
       "kAZeVghqxlY5/eCONKXeEREUSIcNm+i5a+0zWIrcopbjQVpf3RIy+1JKunozgm1//4b1rvtvb5HW\n",
       "fjmbTFYSQK+awxk64TVZSp173N21sKG4SxzZIVtNocmoaBanhCQVsqQPvm86CaEf/4j1TUooFiVN\n",
       "bx1TIvmLhaLOJn4RmbqD865tqdtjyQc6AAABKkGeQniEfwVVTn3lKoyDVTagZBkhOmN79sv1vYFA\n",
       "8NOABFcj2CUqKAHKpgAAAwA2POruHCPus9dbE3PeY8rG7UIlm1fkipJ1wsvQ9VUi5PIGrOEBgmhL\n",
       "KQ2wZ0TNH0VlSZ/qssqXG32srrruQGBpRP6K8GzvSNZVgVGc1uEe1EqFhRb+cNts9VLJfXRd0Xu2\n",
       "nhtHKNqJ01BFZCaJ2uIjiRfj13A5zvVPxdkOCE/RhyutZyDji51Uv8fWESIYE0U7anbqu1qadF+N\n",
       "QIXzfxLSC2ati3L6UUMglLgchsR+Pe2rfHfRd46E8mttJzPSC+IwUThWeVb6qUvl/cqwHedOclB9\n",
       "grOczxOxn5+rlvHQmtXDJFdP6CCZ2l4uSX+jrlWkoAaX0XRHfDaIBRUAAADoAZ5hdEf/Avgumbqt\n",
       "YOm+jWge6GSiztxFt8VNyyheuTifaDcQe8gAgBDqnI752DkzEydSSl9SKXAou4LLHn/epbbB+Z2U\n",
       "QVF5MA2zHNJuH0JRDUE9ADFzuH0paxv1Lah6sbQAsNlQirQCZnV9tFUC2aBgBF0pfmwrMwYjuxw1\n",
       "AtzZuE1B5F3fpCC0gLuJyD3xtiuGlX6OlEi6NpAriafn1i0LlVgfHGI9fz74njRejXYE4wW3u4PJ\n",
       "fxSB9lRaKfrGoqH3tiIue5t8uxYAAAMAAhYGWbMDD9dkIVlpc5cBLSYXCyTWRbEDfgAAAMgBnmNq\n",
       "R/8B0IA8zHtFPJedN5sutC+eyts6RosK768s26jWGyEAJYb+RuaedOfXSkMaG/VR9lr7HT4JSopQ\n",
       "/swKLAinoDd0J4AIj/P7Qrfc4JGi6KeeyZiOirEnmmEp4Gqt23ugs/Ytvyy1nABiN6elSTdX+K6F\n",
       "j/V770kPwziOV7lkvaG5OY0f0euBUDX7L5l2E/wPmgVNsXUE0eZM7v/o6/0WGuWmRz3OJfit1KkS\n",
       "sbJByFaYnvPwX9R1G3SVklkbEBLiOoDlgQAAAixBmmhJqEFomUwIX//+jLABlvW8aOVz2v9fw6Rs\n",
       "mnAHBIoMyyBHyQEG7IMarI+KmdFXBHVenz2jNaMRvgRUmLGvTc4eE6IT/FW+yuqiDJ3lSqXBy2r+\n",
       "9oJZLaFiw1ZQqp6u6PoUFQxp1aA79RcY1xgV6Toi0Mlp+TtzMU6bmYb4NSfSSNvOGX7H3ybYrWQ0\n",
       "xtD3JQ5sWElgI8r/RHGTg0BtL0rkOSLmcQh/14PR5u3lMUVcOUdhNLjc7XxOO65Dr+UEj6ugeZv+\n",
       "e42aPKU3IojLeukSU+a4VhbQV/zSf0vFAfNFX+2EeD+vcGNe+oqkfkhmi9vHIe+1Yb3Jq17olyEP\n",
       "8EZzOu2gYD1i7Y7PxB80anhb12Utebgx1P/xQGS87af+/+eYotSRI6cDSYaKmNA1cd5l01jFH/4n\n",
       "znF3Uxj1dpSAtreHqqnJYaI8uDA7ht/KoI71SbHgee/jY46rSaU8HXtvZpROOeQObeXwzJnJAs78\n",
       "QK8IlAlJURJghH4lWdzcpZ9NSFhzu39dM8njAivjbFhzlrOMyWRPrffCZQ5NeTQ/uBvfWvSf+wl1\n",
       "MGN/bXcr4Gshgp3gYp0SHvm8+L6NE3iskcEP1p0iDy1zB/ivdgAVLkbLNHOJMOxdKPP8xd0UHVtf\n",
       "ELOLZfBdiu2M4gC6Ktl1qdZuteRlUkhSiIBDWpqasEtd8nO6TZOhNIzviONyTY+i6zl1xHyWTh9x\n",
       "5FPVpXzEshvnhxlwaDNBAAAA0UGehkURLCP/ASYqDxdPbm0JinIRq3c+KyKsIl3lSUQKvg8sgQpY\n",
       "Qtg6iqUrDzzE1PgrngAPEZi0NhmxWoqTk5DIWCpL9eLg6O1SQBpUiTymj8ZTXuV/EpMCIQ1N0sXo\n",
       "9Kl3p+r93FcadqdJ7qvFq3n5BqwEtfJqiAXFdSwdOs2Jlrmvxrrc3DxD8N2iwqmJglzfgj1sEOYU\n",
       "oEa4EmpjmCcOF8ssSRD3veIxf3dHozMfLuLUBfHIDcYaKjr7dlYM2x5c6OWec6OCXOH1OzBIvK6h\n",
       "AAAArAGepXRH/wHPiqaPzWmIlm82vyLPYYPhHVPo4Bny9JS/CgA4AIDRpcT4Gkos/We7/6Bgc6fV\n",
       "ojby6vOWuXmpasoXmwu5RWtLOBY4U3A0/6s41LgHwOG/SqZkhBj00M63D3lOXWIQDX9Ig6HgEU7L\n",
       "UKsnGsz+JM4M8v8XNCdMSBkjfZ0UePxu3dKmNJjud87rSI1TuxGD4xRb1bh3i6gLK5PUQ6WhhyJz\n",
       "lICxChkAAACmAZ6nakf/AdCAPMx7QVSSnaqACeNEEK9VmkBKKC9WABoPfpFxwcFOhMCLT+FFfrYO\n",
       "Fso0YEp6NO8qOuXwPBljHUbp33AiXrtJnhe0dlvAO7c/mHdbE35sKCW3yrMLcB6pzv1ISixL5+4e\n",
       "mEVkg1Youhbhho6eZkcadvCMcT1CzlDa7SG3h7j8HuGzqLXHp1oVTWEYSCRZ1NMWk1z3cZGIDSmZ\n",
       "ZD+aZwAAAhpBmqtJqEFsmUwIX//+jLABoPW83bPe0+MOV8DE08NqMesEIhVu5eAmJCWA+89/FOR/\n",
       "2qdpdh12fcJSk1mxd6Utqet0EPRuRpNyzhGfuf0fhlGqfddNDE3M7f14bT1nqc7LCa5q5hGg3kBT\n",
       "0qsx74qF/k5AGHYvWdp8D6qfMUroPZSBpxue80zFpUkdYC8bS7QmJlLNBrM5J26Gu2ji4aXWLN7/\n",
       "T96PHVy6koysEBToqGQTajLHdnqXEdN4YE/Th4dHiMb3eWL7hhSHpZLsEDwYKVlwtr8qytHXg1rT\n",
       "/M7TVfYL1UBNe9L6ooNzl4u8tfRqotyAxwW67TSluR1ckV1mRqblUasJgxWgCg/0VQUCqHJ7+ZII\n",
       "k1hIlH4fKhz41xpStcguhzoytVcZdKbIqCoX9gdPL2QYgOGlSibaGAdapo2xe74V3gr14E+1+Hoq\n",
       "Vg1Ni3ikqjxPAjBK6WsqBXwWdMxS/7nYxdB0gRR7Efg2G/DJqQH7Syc1xrzdEDMdlTWOVChaJ0j2\n",
       "k5a6vFYTDahVndQdE4ka1fpBF5l04eopuQQig1vSKqrUeeq8QT541ARqzuWpa3gdL9HlZ2PtN8wp\n",
       "Ncrw94m4LTZu4+QYGV+RvpBFLshjdAjEdWZV11mY/7Y1t+m/MSaE9pdxBPaJKm2bP0PsAgGjKaxg\n",
       "21zj8hneZrBS6Nn431Sq+yQeQhLF2UIAcSjy32mcj5oKAAAAxkGeyUUVLCP/ASYqDw7Pvf84Fgud\n",
       "cg+SlsDbsWwda2OeOzuB/PdfoEvs2+PwAeQnhfHqYvA1jq1UsziN8nvoJ0qLxvdxdUXOa997tdeb\n",
       "YHhBWm4hikgt6TfiIH8y7xxGV0UJCwnLeoHSs/CWrqSS0Chk+5S77XMOUmCnVKaBvQ+WMlXdEFGx\n",
       "xNtpSx79CQYT+hUbdg1cr0JCxYU5Bf6MVpzwZO/kbVpnBcHj92jvGT3U4MTctbriEpIJfvLrlJnb\n",
       "xlNFrfEbMQAAALkBnupqR/8B0IA7bNrAXejHIS6KyCe+xWA7u7z3UUhb0iEjK/eNwJdPHpQAeSe8\n",
       "NecJnBN3jN0EMjNcu+Uw/9Y3/aexfqztAgbe51TDkhqDuFEMlBbYmpfMcazek0gtmJiFSLJF8iQ+\n",
       "MkVU7yd9205TRrxT87nBttPF/ItxyQsRWz77p/oqe+uCXkj0KPWIb+lyiV8GYJsft0f6zdsYqVRl\n",
       "syiIoVuHctTyKsF+qTtsYUS8oZ88aBUBgQAAAXtBmu5JqEFsmUwIX//+jLAA0HCc/3PMJuouK4AM\n",
       "qUTva5v0yeoDNHzUfKONpLYDa7ypHnOdWn4QabymhiBOB+pw42mir05trwQ9IF7APK7rTNaI9f72\n",
       "lo4C/+lJ75hfleOKzdzZNJNaIj0ae/MYpC3MgFg5cOe90+QORoB/6ZxSdllZtbtbBC7pkAbmBfgs\n",
       "xuEOlrb1lJBNkiuKxQeu/dfN1G5wPi5q9j3epNGS8+mbXmMFvj/KYX5HnJUq4UThik852JpWmJ4T\n",
       "hzdrN8aY+y6DrHg3laOBBjyagUx4OB6g4Ud158gBIoisVqHOi5hrwpKN/VnPZ3cU25l+9pQAcHHP\n",
       "gx8QTI8FMbvrAwWLYPpAR8ngh+yhg9BjBQ3Qt47yckugcbDzDsAAAclBo0iu2BZaSJZO0toLw6xv\n",
       "Xc2AMM7hTCiMbxbW3PI88ZaWVLEPlWV6hmDdX9e/u3pHm3SVqIXZaPf31KvvkjSMKRlgEfLhMGSV\n",
       "VmBCLL2gfHykAAABEUGfDEUVLCP/ASYqDr9VazY6DZAAlUN0efpRLDhBbn44uDWJNl/eXcwmCm/B\n",
       "UnLO3kcXwpq7MOTEwlF7usFzi0o+BguNZhd0pch/lEVgmD2ulXf/Au4ouj7Zim5ZLi9u8O7m/u02\n",
       "MXXFEEpNmX5zhRelCq9yvazrxugoT+xWAAXDJ/TnFgPHNOcBkwfXw7LVYWETTrRgIzyKgUG4V9UN\n",
       "TnRu7rGG254UbbsD7Uk2BvVa17SW6nnR5R3Wlwl7tWdsg0GU6zDjgW1bAY80y89EXXo/iy2ZSZ7s\n",
       "HEz3uZPH2EMowRlgz/LGWCU1iyx9lkaaZZQ0Yfz8mkXDMAd23uiCx7xiNwI6e8IAWbjtunhUEs2x\n",
       "QwAAAKoBny1qR/8B0IA7bF+C0vEI7Qb/a3Dzk2r33gAIexqaIA67cmwQik4XedFLvDSpxVW69zAy\n",
       "4K8Cs3ScsxMlN8CT8dsVmLFlDVWiHqV2HlnZVVX7LbQX6h+cSeRR7plNNubEq9Jp6+uDrwxVyqda\n",
       "JMixCcecueuMuiAYFsW6TvWyG+AuABBem+fVPtB7/0C0eYDq5LbIiCx0zowwzwZXW2LBZeNuNeTF\n",
       "02CqgQAAAbVBmzFJqEFsmUwIX//+jLAAyz+jmvnlzADopTSYK5IhTy13EgsLNfHDHv13WuKLSRfx\n",
       "515/UqBtvxVEpAyBvENCIh5ZKS5RF9vrNf1dB0Nu/3qnG/1cmSq2+74xhf8ZzT9t4getn/4Bxqq4\n",
       "Vo4JQT9pG1pb537dNsxhsM1g7wQGv7/iRinZzQLMBOPQsKAZYS/Ii0Ji1GcDZqoaBPeMG3VoLk82\n",
       "L4AgOnJxbXRzGqeUPfBhFPDczH+rMexMPnjKQcXzOmRbcZAPKzWXPn8wZJFwJ4yPsGqhypqfme6J\n",
       "fhkwG7YzIKWy+8afh2dl45D73MbWnpo6yznGFk06JUoaT7r43cAO8qO4n4XU3E4JAfZxWrpaDvRu\n",
       "utFyhXubk9jrY3G93OE6HrBrDF6QM+5QC4lnMSQYp3R08kjmPBIQiMcN6sYcslZCefnO2NpAmPf6\n",
       "QIvbcNAgQdqyHvfKVEBqNGrTZ7bTThcwCF9c39lvh5o/K0I5LcRXvVz/umfIm2u6Po6jMpFmBVr7\n",
       "XIvR2Ydjh6F4GSg0xKR1VeS9JQDpVbhgOu0yQElbN9kor4Oey6BEbutIMboZgQAAARZBn09FFSwj\n",
       "/wEmKg6/V9AyVIhZTLFGd9VF+Jv/AjgBGc1UXfx6GATBIY+1RHfLaKvtRSs2Q7AQAvqCAPrVKlLg\n",
       "k8HtLNAOdPaEYMvamAcjwok1M0rrU4w1ThpFa6glDv+ouOhvbKIFAljRTKLjXweDx2mb2ksQEGb3\n",
       "G+108QvePat42dfU9MaeT6X4+A4hZjiywYjT/5Vy92K5HGfs2rjCM8aWWQYeYKIAEPsDtrFmaEM6\n",
       "8Mp0E8tKPmsq5nGMQ1CJClLfoMFIxum9RFDeRubFo9+2HpASAlNIbIeJWYGmWCt7LJzl447+WZ43\n",
       "30qmlGifiFFpgS6Goq+xB4v5KVmAMrVd6Rpqc+qu1cirk9//6X1EElZTwAAAAL4Bn3BqR/8B0IA7\n",
       "bHrIjjMgPz6Vj80vYb5LHUaiOgxBABJkytNnIA8/2p33Ahaaar8f+mYml9fkfa7VZ9+53Ek1H3QY\n",
       "8umItnKCysRrBOYshHd4hnH4oWKcIm7Y2XELDY7Z5yB/WuswbWVe7fF67jCJ93GLiagwyjE11wf5\n",
       "re3cbBbAru2+wE8YU6UljGjLOBuqLoAAAA0mN2SXiemhO1cSAPbpn9VsfqnYXPi+TK+RueiLwzQ+\n",
       "p5H59tdBgcR0AAABg0GbdEmoQWyZTAhf//6MsADKLDsNwKdaMAIzbgm9423/VrldpcTaRUc4AiYW\n",
       "ndW36dobtypTdbwOuqyGLfjTbUUenOaqrW2BoZPFjkLjHEj1O0Hw2p2hIUo1lDqkg6u86hXqfTjq\n",
       "uNd74WulXEvM3lK0CXDq5tDPoZfUHsRkJ8XbKHskLeNLFOlHdZDttro46/uVqTVmcqxbLFlA6GXT\n",
       "rq/q0zsh8fyOCGOQD4lkZ2wxJTD9onN3vdX9WXqYZneYc6jja7iupKQ6aCdY18vkeN33hEYsB6t+\n",
       "vfkx+QOriXUb8BxakHxaFlhTbqYReyHUgMVPmgj30tE1iywwDBdbmR4V2zNMWQQoOsejK3CDCdyr\n",
       "lPxmaHJ+VPrF73+7gbALmJUZHbTX13rc6usa8rsxhve4dK34BF45z+3EY2Vh+nV5DmeugGg6b/96\n",
       "7jqHsxvElZnv8tmk86LXFjn6P4lCNobD+efJ8mg0Pmaauv99ANf9HNqlsqALargXy+fA/XOz8ioe\n",
       "iQAAAQtBn5JFFSwj/wEmKg6/U+9VTXigaNEhgxUgecsZwiJACaMAAAMAbNA0iw9dUCCIcHQaBBRN\n",
       "NIw/J9O1X2OjGwcknewkdmxoJXtlL/6ObtxDcW8fJyIJn33fQQ2y/0B0wukiyXMcwlb6BabZCg9k\n",
       "8zx77OKL/Yo7jaJ2FjB6AvOMGF8HCVtolnwA5umQ5vn+zJmqbJXxdxx4hxkiUg0cxfr09YZ9KD0P\n",
       "Wl52BZzO2hEYKSc7T4HrGvyrR4BkMj18rNvyH30ayiTiWXl00RRIQQzNMRFPioqGk9kBMGZ+PnTg\n",
       "ejueX/kRb/gERQh0aLvLdGYQ8BGTxwyWDu+5v1cyKJ4Jupbr3uJwRRF4BxwAAACfAZ+zakf/AdCA\n",
       "O21Itd1vLAFVysRUG9XPgUND6LHc1QeQpqzgAgWeQq2xsfsbUcgl+B0jQB2tYs65ID+Bq0lirx5B\n",
       "8uJLeWSFGWpwn8qwtXzugXpqUpvxMBogKDO9F9zRnifMeGkzo6+ZsKCvdo5NTiVz64Eu91xsrcfy\n",
       "SkO2w0eH7tf+NMMwNt6dbcTj8FUyjQcljp9h2idsLCK+GFbAAAABdkGbt0moQWyZTAhn//6eEADJ\n",
       "8JzxOYTZzIPJ8AUHUqVP1YJw4d6wezX/0Ozbz04+BnwNRGc6c9Pg0ZmVKsB0Ew2F5neJif6aeoNC\n",
       "U5299qfj+/bYvaQAcXGJ2NRXwutWrqHrN9Q/bTzVKav0/xMr95jR7Wzn3bkSxlCNceqxDmO8nCGv\n",
       "i8wLtk4dJC6/oY70q4SW4DVDCafGG4dU1Bk45J52EqqukdgeK7rfJgDGBjYRsPpBCbNOaYM+qGxJ\n",
       "8khXdRSLsoCfV+II0vvfIMrypiop4v8UvcJU5KYq05sdVS6adCM8ESSSlSLhfiMtTuUx7PNDwGhz\n",
       "6zqv5u2DImMJyA16GXakHQ/ImhNrDyQcFZnz1QbIOFKHGD7BIxvWWPnYKUieN/N6qCC1GiGNQMkS\n",
       "ZoEzodoKwp7QhpRhFALr8fsli5+/Cef/6ESkclFhYlzkt7pbmlDrBBuwHrwX8uDKpP5IPoW9UvUh\n",
       "YhxK3OYBOGCPFMJgXEmBAAABIEGf1UUVLCP/ASYqCwF/sXTnrgRwxkwi8z5EkeEgmpG2cmmbkAJN\n",
       "0lnKTGzj/D3ojmeVmQoL4TvMZPu++5eQpsgNohfe+gNgrDJBAQ0K9vcGsfHsXl6KiNhPaynXLKPI\n",
       "FPNRlecoCAlK2EG5dwaRjXdTyQG0owoBjT5spCRkY84HNXNsZHh8LkE4LxLwT3d5edsJN2ZQ7z0A\n",
       "3i1bX+A3HSi2NYa3lf16cn2ZPcbPUmUvSD6kSiXCoLxPhFOohOKGUpzIlUnWOnxJU/IxNPaQ3MpV\n",
       "As73qRxJBYDIx38Bm3Q5caC6SDCyN96syGCFpyupAKb3227z48MNlH5zRqYYmlkcidPPnxvW87Fm\n",
       "uhL3K3hhkpzBaXB7Gdtk0gw4DCnHTAAAALwBn/ZqR/8B0IAdZoHT3fiR2xKZi7bF6K+LqVseZYaf\n",
       "AAEpblo1vBrvXLYYVpbX0dcBdh/OBw/5WfGPo+SRU60Bk9sJaZqE2t94HEWoSBYnrVyQNLsuTp7w\n",
       "NhJLSY9i5IdKRihZilzA9evKGghqBYnuYVJ6ab8A+6EYLTUbv8dZQqMqEe6oQK2jxpVaOdm8D3dT\n",
       "U4BgUqXO90cJUQvpz90FajXx6oovoaq/hyOyxJcBPmlFx8UVeZR16KAhoQAAAe1Bm/tJqEFsmUwI\n",
       "Z//+nhAAw8+h5MgAiR2uQhDrp0BRLeiY3iW0990wSjy+jqKikjQaH5gix38Ur8OXOaGQTx0Ng+ZD\n",
       "gEx6p0sqjpg5hKi3qU267WI/WN39mc9C/gH0YRoKK9X9KaXvXYEOrl7UbFB3+w6dl0InXcQPJYVu\n",
       "vQmqKsMy2N5snjAOV+aD7wSqopRMFeqCpjvHFMZXzQWond1E7ubVZVV3cE5Zix+rC6xrG67SMNvW\n",
       "x3VPi3+J7OLUnuhWMaZvLeG9ESupto+J6ThctKWVBjxOIG6SUe7vHECHJEP0eLJpSTxZ/7dbV0+4\n",
       "pBOtxQJ9e+tXa0BD9+vXUwAmcofqq65SHrxP0wBDMzTuf5zPajZV6nded57UuDxZZUKN9cD8LwSa\n",
       "cKseOf32VdqXWijR/Ko6Nl/RIvgemdpuzF5tiFQlWItsJNrZNuMxF8hgjMAYoeXwsLFrr+Q9dPOB\n",
       "9PcbUOClsR9+fN35QA/kRxfB6lldVs2QipQ0CTJ20Ph5EkBo+fdzM4WcIdU2jGCIF7oYhsebMfxQ\n",
       "QoiiTwFDJXzb6kfM0BMvufb6iGP0AEEuJGk87o/hSJNDM0lch2xquGIgnXlWiWHzxg9u18NhyZgT\n",
       "ojMVvSAKdeaLBz/X8tQwdLhmB6Yx5jcrUUZRAAAA5UGeGUUVLCP/ASYqDeTeDXowgVPkgBa0DEAA\n",
       "xCaZ13T5neJYoX0351AX23NoEmrY0s2h2oJOEbL+H8nEvgyLRX+7Jbt0DvYBOYUb1Dbv+qKetMmX\n",
       "Yypyds4CDcVWIhdCI8NqG/t0y/1g76m/FuCVPXig2ULz5Zpwx8MWPd+zxbfwjvcsQ5ROXdWFyimY\n",
       "Ck0dQFwuBb+2asdApqJ0JNstdrLWtqo4aHm9WvkUTxkfDbOqHXGAABSIvadYirF7YjCMNH2HotFT\n",
       "Gc+ENnnbV5vlPTQUJ+ZSKcNXwMbSTj6Hi+udZN4qDlgAAACuAZ44dEf/Ac+KoRghFpn2Px3u1hNW\n",
       "h/LmfRWDzVQAFdAavECFuSdmmOLBwBtFtsPag6UkjYSmbNDl21Ic7SWUe2iTNC8rDEOocLuYoSYC\n",
       "VPL8QTcWRutzNlxbEpRqK6UYUd6lqBenhaH+FfIF3vJNaHf76FkwH6KSYFnh/X0mw9tqaKNJn+4Y\n",
       "BdMwFjChOBCbK8BkPCDlpsp+Mke+COPQC2QOZi1nxsdII1VWeCnhAAAAuQGeOmpH/wHQgDi/6o9i\n",
       "ZbUpk4YB22PkGXV5SEBBiIT4eAEkFf0kHjHRhOnITQ5+mPidNXvTEQEKyEImNqbfnS0v25tUX/Dt\n",
       "iYljHhhpHMBVMYyd/Yv1xIDCvdmldXoiBb4uVSyx8bk3laKXQBta7Rto8OdH7Wg/dp8XQP+bjhOe\n",
       "qTXyhNbTkc+t/BzzuUSM7jlc2qPs1o3kaekdOyojtU4gcZN9Ag8Pnx6oF5RAKX5VQh3OmFwbWMmA\n",
       "AAACCkGaP0moQWyZTAhf//6MsADGcJz9sy3x9LsAKHQOGDYvfj8lyGRKMczCsr1+KuhWGVGafRJc\n",
       "ams6MWG5F/I8f5BqK2K4hIhlF7JIrgD6znS5JKAuw/210j3b8BP3ITPiMauY+r0y0e/lOLanD33R\n",
       "Z5HuwjwEDZdG3yVwp6PEw/w4VUoloTFu4kM1OyY6b2aCZNzAIYvl3VHY0PLjZRO//EHklou9CfRS\n",
       "iHrIGjbXD9f6h+8nlD5LlHQL90I4d9h7M5ReNZT+6w6YEZUjod3HYbVJqF14Lel8SrH9ZzzwPBiQ\n",
       "jAjjKtoEKdoOADEyj/zTjnNIWUl2Uy/ejHmQz+SxgvrMhkk7tR4+qAGO+mTg1loub3JwUmVpZ5l4\n",
       "WVfu8QyUduZJ8eS4YO5yfytHjL9bJT2mOtrAtf2ZGAEPCH4F5OakFUPSfnuJLXw2nwyfS1QC4ATR\n",
       "f3iO6WV9eb7cw+l2xYbD4h+nkrA5xcQHKZSmvx9TOZN9doIRBTEvhy14xLMJTQb3f5Q7FlCwiijO\n",
       "WeIusV4Lc65SP3CZhPSdzTJCo8/9ln6rc3Y4RTgrnuIik1q+KKCG4pZM03Kf9/8fNi2rPOPrSsDE\n",
       "fZvSWxYtLHHaKgJDyPFEV68OXjaRP9LPQTfHWCO+cO9AJXI5BrsNtMz+2ivOWNfSAmYu41dsRAJ8\n",
       "GqFOOd5iVmXqvfQqQQAAALZBnl1FFSwj/wEmKg3k3UnnmEApgYz/dKFCDBs+Spp5VfJ5Cl62PxXA\n",
       "RBNzN3K+yz5tIAVk2BB+83UXHoEJUXKXeRKsXbEKI80Vw3TZ5ON8wqx99yabo5sdGBBu4ZiiexJQ\n",
       "Ch/0pA8cpgfyuvR72GlDw78EwbpZ7BX4oY59xjCdlEBv/60t0aMrryOdCyXQaAMyW7WKBhfD7ADL\n",
       "258nlOLTq1nX42+H0rsEcg4gdLvzkzmZnpkiHwAAANgBnnx0R/8Bz4qg6pi0MQu71x8Jn5g3Q8ze\n",
       "IaYgVsPFF4AAgUpGs6glx43Ok9zyXSNklewMLUBXaipkFbVc6PL5S93fVxNIGr/aGEX2ktk/81So\n",
       "rUP4R9u05ZTcYCdwgm6z9glaQpX5t8Qh3H/FPPHJJtxsCBuGpMdAas0xumhs9TI7g08I3CO58Czm\n",
       "6H0Jw7AiO7xPf/QVJv4YXG6Oi1gf4zjCelcJB/6L+hq2AkDRNJWRKNVi9ODYNae2XRAXAtX8CCIq\n",
       "3sp/HLCg0RYk0h9tOHgadaaYM6AAAADBAZ5+akf/AdCAOLBrSi6sHynT0pNIZUfm83Xnru9zdI1+\n",
       "uRXwAkgEaaer7JTbJqE6xDb5Fs0TZUKd7YN00MescaFMmyjYIVjw9pj355eIbE0dzawCN/V55Jhk\n",
       "GwJvVw6RG7Lq7t8ur/e1ipGVjII282iGekFULo76a284MwNDQpnNLjRuyGRguBwAAgQFztJQ9E//\n",
       "QPUIXj5ty5vpdHtshBCohTmAv1U6NHQuunfj2vir1k+/WHvmgT4ZekfAqg2PKAAAAhJBmmNJqEFs\n",
       "mUwIX//+jLAAwIEO2tJPAC5URe2dozSxUp55q7LCk6cirRiUY/RepqZBMLPNN9FYns8zkdgqZvGL\n",
       "5N5PaOgzkk8j1aH3FCb5AbRd0tt6UkIoBhkVBmIKsCUy18JfQ+o4lXEb12HJ7NbU8drF3bqGjK8k\n",
       "RkJhLSFNq0sB5xV/vD93pusDkOehpddY5F1f5p2sbXRcz9cj4ObXe4D3NRsZgC9xR6J/d2oGBoKO\n",
       "J/B2H4AM9SRgxWOCB9BGdc5nSBYgcsP5HWtFTa6TgRH7Ms8I2mjYBsaksAeoApIQYS9VLtCRmoUq\n",
       "ZTTAP8Z8HdahYn7fKOoahfZQAJ/388UjCXULqzyqVgnPZ1aqI4h6pwuXaiEs1SV/L/EQT2mt0Iey\n",
       "vtfMnJl9KhdbMvqCdKEcc5muwAyMDGyYQu+rWgYSnDFqIpYQT3LtSVjjgFItNQ0Wmht1RU9vAayX\n",
       "/yW2FiINcMojEWJw47Iamsdc0jWE87Qp/85EhC9E9wJWcs+lYevCQh2Mnww7NwpjiF+1DYSG+khJ\n",
       "z/jAxq9FHgG2xAzWL3lROCA85xU3/zTEpb5l6Mox31AHD6IVNFdvBIMfg/+FbcW8nwruWAqAAyZp\n",
       "whzQdI2tNb1mBCNwJsWxa9GwC2ob6uHxppzC132uvrle+Pg1/NPGtyI2dPXuevtjyOyKNvJzM8Wj\n",
       "th1FSpW23fhtGwAAAJNBnoFFFSwj/wEmKg4PT253U4n+aQewxHu7I8Kkev9tx3HiWwO6jkRY10fr\n",
       "lPvEpUGMWSkS0+fGdWasAKvp0ZMmLu7Tp1KDlv7dM0pbXXkaBlFFDsXXK6ARSxecLMppZli+yPoR\n",
       "wCby9P0z4nsAMzObit9Gw+4hE/SYHEaxrIFXmL91sfyhvjrxnZgVJNvVaTw0VEAAAAC9AZ6gdEf/\n",
       "Ac+KoOmPEbihQlj2RGg6kkfwrPFYXKu4bABU7AAz9uZv+UYDHxWfcbGYsB0GwU/OR2IRYq3teszT\n",
       "CxybEBgd/HhX0BrIUlDS81dfjmMRJpQESFATxhFUxmVLXjy019bv6RFbPHSU8gyE8WlC91fsrmig\n",
       "Jry0gJ78M6u0SUJsluYBvF3DxrmQ6+xwhzmpKgrHCZhF+Mlqreph/TGcRlcQKYVulVwHVbJ4E2Sl\n",
       "bPx7ClKwbX7ecISBAAAAwAGeompH/wHQgDiwa0os0pzNGPy1Te6OrdqWJMtXblmAB5IoY2xogwWc\n",
       "Lip0U/hwWYSU45LrdJ8phkITrq7ba7d8CMUz+TjkXCYxUoZOsNXCPZ133gQ0ykMt0N7mhmtzAzQq\n",
       "4CwazCzld8P6rXCF6KhHbGssggbbmpIk9bfGpM5p79lJgWKki2zbHPtOVdOWMgny+WEy1WNaXvOM\n",
       "Ipowh1vQ1CgooGyknayMH5ADu9q0B65ISfSBXq6Awj1IgAjLSAAAAhhBmqZJqEFsmUwIX//+jLAA\n",
       "wCw7DcAZtgIRL8pq60OwuIDBGdvaNVJMsrByAP9HhkZYn/rgnjD+EK3xLgx3lUZKuuU6xrO5EH5h\n",
       "ghG1pAprwyTnm4gyGSGfOv2pzo73yvOsSb3vG3k9mt2h8nkAqCsJ3DMeaWgot1xJ2gTZV2qr6soo\n",
       "Upcu0gmNCHrf/eJU8IE5wGpFlEvWcVsSR6n3dfb5v/URn9f/rQWIdvIod91vuuzAB4O8FUjmtVIa\n",
       "uP231iiOms00hy9gM8IS4tp59Ub41URwZoABnmfLBsAV1wM41lU7bDxi3r0rBKhprA5LUKdSDO8F\n",
       "rb65TdjGpz9vAHkS98t96m8ZJM6espYeG/h6RtS7mGPiKNkwoD+fNPlk8BjZ3kFpoimaaaG9PzDs\n",
       "kenIC0ZXZRb6rOKcdEGnNxmEDPAHntKALK3GIyLWbb+lCTxBO43qerGpmAZLVPNbdt3ABYdzvRJv\n",
       "+el19O8cM3il8RQv8B0QK31QAIUHmwgLVB/hWUtstAVZcuyvaVnOiBrwGhXYXT0kYlhdLsOAqJKc\n",
       "kSwCKMErqZgJph2Un6s8E1EvxVScbITOBOW31YeLJ50QebawiFDOwt73mj93CcJD9uuzkPhexGrb\n",
       "eIBvRG+4BaLOukJB2x7ZWMScpFljLOdRzBHfaO+QeCI8D2zkn72rb/QbQf7WdkbygZOARSquuvxZ\n",
       "tNCbjGlV4QAAAP5BnsRFFSwj/wEmKg4PT2snmjFF+NkV1woI7THxkEOsAJJDVbnFS0lB0wtUcB7H\n",
       "s9VSTYpt3grhc8nLwzsK/8fcPYHI6n4abYWQKeGByEFq5FfbPyT5UXzCcEGaQTWuYouY5iAXikEY\n",
       "Kxx+8BEZ805+x+RRZ507VVZSLQ1CAAnJh3lgEd31ICOCgifB92zRil2R0scnPJifbWWjLM3IVwq0\n",
       "0gIqV8wrGzOWvn3S2N1drLsKq2MbQ9w9MHDCAcYguD0tGvdRG88GBc+2pOVBa0QY+3hOpM+bYgIU\n",
       "EjyRE7EvukKv1/xA/K4YMjNDGRs60YXluFzcGYvAM+Hj/gmDgwAAAKcBnuVqR/8B0IA4sGtAVuP1\n",
       "h9G95puTl1V+4zjbTungAgLhIr+jMsW+I32mP/jDow3YUpm7CGrv44G7yCNM03UERQQNnY5rjwJ/\n",
       "+ziOOVMwY3r/qGZCS/AxKHb9hP9rSJ52BceltIbEyHKNMEqBLbMW5ZPrfdKQRkIH/LYID6lxwSVF\n",
       "LZDD1pJqc/4SrvCLQa5Hs9lkPVkwGfpuAElUKtlJfRGBMjRYwQAAAZtBmulJqEFsmUwIZ//+nhAA\n",
       "v/Cc8TmE2dkoAQfeTiaEdxVTUU12vNbeEdLlHHS0CNoZuBhQ50iJL1l3UH2vFjd77gFQWkQYTL76\n",
       "NWJ64Xys4bZxvq6uwBfn8RNxbonEnAOCV9B+krTioF2qouZIZnHy3dt3vv4XdvU7O24CBwYKH3vf\n",
       "qN0sgEv9FQmsgR/eis8F/SvGgzOghU5IilFXVoyQApyXTGngrhubspegx1PAY1Mq+3EdFmAwSMjM\n",
       "7BWsOl6z4cKaKm9YMHjIRY/oirGfJezk77lxN0gbVvRT5ibKbqgMu31tjrPEmRbg73V420l9saH6\n",
       "wTb1elPOP+Nc2D5+zP1wcVB2LrM1jr5vp+dkJv91QKvTsOiToiblpS5gQZu93UMwdNuzYWsUkQJ/\n",
       "sMkp541EBwzZO1bq5RXGb06ot3r3Wcb4JkC5JkaC24FPhJAtNXV7x6JcvdcqKRd+zHb09jGqOyjv\n",
       "rtV+vb/U+y4MwYVFkONLHKZb14j1LihB6/nFMk/hfENLk+Ya6AmZD2+iLd32/vuP8yYhaRkAAAEa\n",
       "QZ8HRRUsI/8BJioOD09rg8F+zaGgA8ZeOfm8qjA3Nq+ZtR7UPlzx9AsVRPYDJW5dwoLY+1e3FBpZ\n",
       "WYRmj+iDqtl0rWWxllGwEKVrYsZTbBqVXp4ihtJ+m/4i8/kNrK7XzR0ht8XSOt9L7I20CGzC3D/A\n",
       "oA24PvqysdwF0bo/aYYIdPYqZZJQFDHcfmfa9QB3TIIGhAkQijz4LYZVjm/svtgQZr+83w2hwhv7\n",
       "9DrPt+rew1qQ3YrtHe2JFiArf0Cebhfc9ebN1pajMAYlWe48m12fhpg+vZzowFzSXT5+2uhoOu8A\n",
       "AAMACGEtbZOof0ZIiml3+o6z6OuYSDVSU7Jfd4V6zGsXStrKWTibPpLiBjaLEVbSl9w5chvQAAAA\n",
       "sAGfKGpH/wHQgDiwa0BWszDPwG8usY0QSb8NT0AHjvjflgh4UpRwXrfTAjbjfDG+vUPNIe5pReSk\n",
       "wkWnCSqqqaU3ZwSy66E8fICD75Ex5qfb7lFUusTIYEPh9P491BYOhUAjokZJ9LdzrDUizdyxnwXG\n",
       "4otqScLhoJnfBgsMMC9/xYXNp6/9Cf9EZrNL8u72DzhxvqSUzJ73QANvLyXXRECzNlJjygUGqgtB\n",
       "HPbRcPiAAAACBUGbLUmoQWyZTAhn//6eEAC6qPrzSIDABn69XRWzwnQ2bgzr4WJ3gPOVGXOD+L8f\n",
       "3Lfh4CCmCxX1zfwHdnFZO1iARoixw/dAOg9o+Gwz0VsdDHKSrPEIhSrL6mmjznhXF7NP9noGcfQl\n",
       "/D1kqEBCk0TODUr+Mk7C6QJbfCQoKzR5h0WgLyIdb7+5J7Uw3AKKQhZiaRWFiOcOAWWWvjXkV4bf\n",
       "mYC2e7Hwlh9EYBfPeYYq3uuHJJNNPuix8o/esqXUuaqA5NYgr3sDFqXOV+DOq+/GYLmPAvnNjWfK\n",
       "cJWr1UhadGJgY/vWvyvexg0TQ5ynrWVQ0RceM9EFERj+teVmp2dFFyI6Y+lAsjLJC+ZshU8pr4+a\n",
       "wgSvQquGXwXmEp7ZX5BHK6v/4ItZe7h36E9/TJ8AET1AcYE39xMPo5xj8jS1RP1MlqmcMHSqQ3Ef\n",
       "jyhFKOzE2WWTHXzMNaMo8nZyQWq6GlSJBSfQrd2r7KAS+572sUe2gOmmBKrOh7OY+GqUGl6IxAud\n",
       "+tMXtPKYpxe+/mxQUI1ARN0b6oPfrYmJkuCsqS5y2YpW5a01Gn7666dwjtmo+ni8iNGm5fmNrxnr\n",
       "xxj7jw6Cf7jVQcdLy5TL8BI/NBx//glptEjW1llrJFLbf3tGa6TDTrRgbXndHGyPlLOpUqJNIVEX\n",
       "aqktCAVOo+wBtpDvluEAAAEDQZ9LRRUsI/8BJioOD09r6Q7t+ZlKgBNGAAADAI2a0jMptyqk1nb6\n",
       "Vbzvv2+EsTKosWev4ra/hFPo9rpt2CrhdqGhfICila8j/QsOcRKRU0T6kmHVCEXH5z6tFlMpw/qm\n",
       "nANG88XCRdjBmdFuZFUiZ2jWHr00tauEX9SSrt1BOnGf9TVKQUlxZ+HghfJj0x8B8Kg6oLlblSYL\n",
       "UBgEvh2qxWEQyaJLKUax4jJI2O/a3OQg62XL4Iyc56NuFDQ9IubP/Tw3rCBIdF2F8718vr1zlwSQ\n",
       "GlOfonW2G4UF5oa6wAAbsZszjen4i8ugU1OX2BZrgGSEPiiZtXi7etOLBwI3I4CRBQAAAMcBn2p0\n",
       "R/8Bz4qg6Y8DHYQbFzQ/260frIsajIpvDXAAJSoAS97htooiEuTiXrP1QNV55MpR+V0t9m7LKGxq\n",
       "5FeHXj2MM4emBZOysso4qlmOYdmCBREdMj+Qa28p2JgPfVwhNtrTYcaehOSfe8x/+XwNLfTiAnkE\n",
       "7pfJbKzcqjCmY2l2WFdSpMLX8xQ3CKPKjObvn15zq5JucAh304HmNEJXBWuCmEjJq9+2WRqqoQpN\n",
       "guuSGQRdDeggHFjcAAnjKlQ0spfUR8KAAAAAsAGfbGpH/wHQgDiwa0BPENU6rYzUJ22WAeEwa/QN\n",
       "UwAeES21DktMn6azmlF1+xQzbH1M62oNTsNU4PFsAEWa1KlKysLoGwCyCewLu72nTY+CiC/yNaRS\n",
       "+AXt8BIIrTk1Ooli2nT/Kdivu3/jKaVFfmi9FPlOh5FD8MXSKtdPUg3YXRAJlasjLCNk9Wa9/naV\n",
       "GmGxZMlm/gU9e+Li8IfMoxm7W0BHqg+yQsUo4pI9XKaBAAAB90GbcUmoQWyZTAhn//6eEAC51znc\n",
       "Shcx6kLVRI4HSHABTwGgrStS9xjcOSpWTK4GqtjmVnOSl2hqqzoEidFJlf+DKA0ItngsvUcyDByH\n",
       "saR3EkfvrEyYvCivPJ6RqcoV6mfnKl9yuLdPZkx3Gm9zze7OfR87r/kxFmW/etRegty6E74Qz8FK\n",
       "xvhHxp3l+1gli3PlxBgzGvvrj16t60TYRL82TYXRs3dbhpciJ9byr/ctzWmbJH/URYw+JlGTdoLU\n",
       "psjSwITc2DwO69iNABMW9SGYrOJY0pvGtfDskMQNHYLD6+7V9AUjkDjWO4nj9gtAHzj65Bm4l8B7\n",
       "P4iNFr71+3kO5yO5vVdrRuPkZ/UcIWKUBvOkZ6zqdO0rkaFJwO+QGho4eRG8APlOrLkfXx/IaerZ\n",
       "UTyvh+IhA7nX2Kv3Ii8bWpT161hz5/5I9kkY8FJY/Ht2/0MuAWGNXKeUbqqXbCSa0ro9yW0iJSQJ\n",
       "brN+Yv/Ld99aq5OsHPd78atIuntAX53HnSPXOWE7yiitbQ1XpQ5JYvLinrOA2BykmYycV0gXk7sJ\n",
       "ZVCZka7n7QX7Aoak9UwTS4fcfVkQSzoK7T7AzxknT+keR85UTfKrDwZ1Ps7M0JMPad404c8/rrY4\n",
       "9j5K7ZS63cdGCslZ+qNc2fOoX9PVfms3zAT9AAAAzEGfj0UVLCP/ASYqDg9PcVjpIYVb5WaLDnY4\n",
       "WBgPaJ7q49MLxS842IrAQ8yD9C3Z89GPcmlXrJSAD9CjvefC4JPTWCGsKa74C5szeZCUSy70vVaK\n",
       "zbezynhjb3HiC/2ao2xnvIXsYgnLS694ZOsvDqA+TCOLPShjZ3YJzUzYBwxxCawGPaXhUx1h8Y4K\n",
       "EXU7DYxcZ+wJVG2F7HZ/mKfcDt1B3zgjzsBje37moJ6kh2bGgfymvD1sVfSTtpAfgdMNUeC1/L5u\n",
       "QCy+3eIjIQAAALMBn650R/8Bz4qg6Y7vnM2bGRXkVI6giJSocnwAQLXolj11EwJnu+hw7Iie243t\n",
       "KTRGhP7GF5gS02AvZl4p34Ix54KfomT6zZ7AeV1l1Lc9IWU26Vf7wPtG+aT2iKL/LupiQ6063T9M\n",
       "krZuo26P2UgoPZrp7s94xolasO+MIa22IG41edV6oodRnw/L2C0aB6s3IUDf00i92dRmYYUUDTtZ\n",
       "/xgLEvlA+zuA/QbHp487OM16QAAAAJYBn7BqR/8B0IA4sGvFRndzddtwM11RjN3f3wpE4vu+UIAA\n",
       "IdSXI7SlTNrqmqWxcZxCXR4G0SbIvku0FdYfn/MFDwhpXmEYcCULj0osY91AhckEBObLWrULltIM\n",
       "GOYFUr/JKa3YC3KBRNO/8bLsjthO0bgQCDMJyOneA2MrRLguxVrVkE3vpXCTf8l9D14FWPAsyK98\n",
       "qT8AAAGYQZu1SahBbJlMCF///oywALxzK9GAfpt3DPQA43gXFcXgOQOMTBQFAsZlobe4EiQYHzCl\n",
       "vRzZscPwHwuzPvLBp9EG7ja+ZkAsRXFKZovQ6c/24rGlJflygjWKNtZibKdWlq8l4AJ4+/5394SM\n",
       "D3WIowV7pzgur76QNOceLodrPLLJx1/OCtUNqgmIw9pATsT8qSh7ud7DYhS01xS5XDCeu9jcdl7b\n",
       "2YcT2W8rPR0+V+82/Zh8uJp/f4OK095sCMMJX2XAE1AEhzEDCDPydrGGQQqjgIEUeuriWoqB12Os\n",
       "QInMhknGG4d8YlhyNTw+b3I9ICh3ZSE50JF7GNnC3IZtuTv/dwaJFbhsuOU3ooaA3QAxgf3ijYP1\n",
       "qOKdqRsQ9o47W1uDGgTAMHrm+3g66f3xGfPVlZ/ZbZeUA+aqrqv9fuPVzkk9vuk/pAqaWjIe9o1P\n",
       "YKl9QUdNsaNx3CeBSwsosgKTn3JEAB9lRWE0yJ7JNDRpshjaVoRPY/aPABco1bPTehZahOTv/6Qz\n",
       "xfvjO+Jwn8WuAhXcsLDhAAAA+0Gf00UVLCP/ASYqDg9PcWBmaZhcLYB/Jtmr0acFKZ74o8YD4Awu\n",
       "fWjicCdt8AO0AO/UG6ezomG+rzQ0nwEFSK3wByb4q0MYLiqe3UzG0DUFWvAuttS8JU3d7h1qtz2B\n",
       "Ncuwr7pkpMQoMuHU1OhuNkuX0toJwgMIYQQQzaohCWNvsn91TJsn9J0EdF8kbS//ns2l0sPJELCr\n",
       "SUak5EQVrLEsDiZN5VWtIZ21//laRi8CDzqdBkkxyErwbzozu8GJcXrQM4iSwprNdmtHA0ooF7wH\n",
       "3s/1E9zNVO7AOF/eGactJVUYmDOsz3OwniNr0risGCvYnihmTUuaFkAcAAAAoAGf8nRH/wHPiqDp\n",
       "kAT9bQSEwQAo4MVDHCs6nyL1ABnSnjPDLfzyLD83WxPGxevXv97bzNBINDBmufk0t3/xoJv0DCXQ\n",
       "+KRp/x1P23xSObL1hYQj6/THk1YJYB05a1AX2wM8Fz+oK/0yLmnjVOY2lymER96Pk94XcK6IbWi9\n",
       "rx9yBuskWXFSDEe3YU9jT7X/IfTGgh+NTFZ2PHJFo6Z6CmgAAAC2AZ/0akf/AdCAOLBrxUB/QNjt\n",
       "iS78WEzcBNLAvyACR5LSOCJbRzPmX9Mn9mqXZSsKZxXbDFcckf7844a9dlQidjirKWbbuVaPrqRc\n",
       "W71p4qrLFbjxPK/34vr3a4ChdUh91HZVTYj05BnBOFUplwX2/jDdPqDc8bFF1viPccBBrga6ZJmD\n",
       "tmxO8tIr/LhFGwP+GkpgPsKB8dudB+7CD8/IicwaJ96qDZpB2WK067jvfEcgbgbPUfMAAAHlQZv4\n",
       "SahBbJlMCGf//p4QALWCwiToACunGAfeUkpU2InJQ+Ei3FNQndrQVpNI8P8eVZRgK0fjcgmfDjgw\n",
       "OhtZhtQzZEKwfu95tjwxplnHK4F61cNr9Ea6Y9hg14KXdy44ilGUC+LDxb8M+zqe+R/fAEBTjF8D\n",
       "0ZKRIliiFhUdkGcT1qhtE4klQ540BHw3RCEEr5E/mwzWrGxugXolOrQy0dKRT2VtUzqeSu5TrPJk\n",
       "Fjkgp7EFFyI0M6+LUeQmYebcTNbdlrbzdo0kGGtztRUT+r7kHDgnGHHkvbIDV7NFZRf/h5mj1Put\n",
       "FG2hlNDFYDAiog6SwZByk4zN3X/F/ZMHVveKq4HArZAOtNF3uCBMwJH9w5kTm2vtztliI/A6mErV\n",
       "O0hVhFBM61LArfYYNe7cIIh+pdarCHogUY3YBODXyXZlfkikCS8P+3QW59q7Tg3gno+qn4XB9+Jw\n",
       "NHzEIz6f0AngIYnezHK2kQBXzxZ0dBcnC+wVzPwP+beJuuZAR40HN4Zhq7FHspFMKY2LO5EfQZlq\n",
       "yMtFeuvLJxzcVGGAIfqcURz87e8nTiTC54Rq+yp88D4eNvbZ7jeiB6SP1+ETEM0yUIpy4phNUg14\n",
       "YxJ9p2m1zvQG2zR5y/JxCE+9CSJgCAnualAAAADgQZ4WRRUsI/8BJioOD09xRMxjFXvLSexppSqE\n",
       "ct9l8maXOvkr4773p9001tYH3BPZOABLjc57rbJnMDXFlLSUS8bw7BlahwuKNZqnMeS/8a9QQ0+1\n",
       "/U1AEDvldXlkyEe9JtswVlU9u6mREsPAuPRSXXBfuaq/ZzfC9robn1raqEyMTe1DsOGTZJucCqMy\n",
       "K2ny/5tq60rxH+MwFBuIAyoHtr4Ywu2nPVxn4s2/G/rr8YEh3MTZo87B2vNpaX4qNcpSusYCdsrm\n",
       "rOim/5s69hgrIBcSOA2pKHpFWINrOfLQDPkAAACeAZ43akf/AdCAOLBrMNdnujIU1HVPebX0yHqI\n",
       "LNYaoGcCHKP4VT4ASTcgLzIs11Dgbi8/vPBpRXgP0PUxsZK2B7GYnMOmTlfsUKmbWzmZYz1ejzsV\n",
       "Gsb2PZ3oFlFiw5qqzVaP+gtikaNJ0ZEC5Ml8l8OxRCRBokMkwRb9M7dMhJEy9U84TWk+c5fsw5TM\n",
       "TQVGwOv66DaeXB5zxLRIC7kAAAHeQZo8SahBbJlMCGf//p4QALZzLnic6cznStsNABOi5J4m5Wr4\n",
       "/TJPvDLU4gfxrMKlwJJy1D0n88REYKdiYrsdYiYUBJM7fcNG435fvlPQoklAlVSudiPBPdMS75pF\n",
       "pVcTS6fURBBYU/gJlcLPzz0b4G4X/RJbh7/Jt2+2AMvJBrDQgMBsr+qRGCn57eSIjNYafVulPZyM\n",
       "r52CZCynsfiVth4iYu9Mt8ri1AuzrPiQ1OlUWAiw1dSu25MeMClpDhNxaoeBzPZ6cyTX1IFzzSbl\n",
       "B/xrLecswqdQ/b7D1QUZhDPCW3vEvK3w1CtrP1SYYqz7Pi8H0IlvZ4ngDnziEEzQP7GBEqXzfY6N\n",
       "ilJ0po2FE+pU3YY/8GuiI8aftlEk5xq30pGxCBHbkaHEubNRQZJ08rb3CQbarCPcKELfoPyjby/t\n",
       "5AdfVrjAxAwmn71muSnPhZJ9PIJoTzjE1+gdXcQQ+s5tjt+qUwufLe2/YyyHJ+DeuaSgVuDhfRMu\n",
       "ZPd+0jQwzo8r46tMqwf5Xp95LHLLmmNKzYfroFn9rqgikJC7/d4CUFQBoK7DSUm54fr2DilVBkH0\n",
       "1cloqgeV5/HxIAb62HUwJAMQ+Nxjm/qXqxABwrTa6ojma8stGqqw0tSL2AAAAQ9BnlpFFSwj/wEm\n",
       "Kg4PT23djd99lrnF/NwydxezhMoD0NXQAftAAAATw+W6AuPeywTYVIkk1m1YUKvJJb4HJR193Gb0\n",
       "WYSmmJseuLuFK1sEWJ5Co6aUasxXVAt8uGS3xzG3UYjO5z4ygcviupa6fPYNUAYlD7gEESJPh7AY\n",
       "5AuT5EKHQPy8ibG1jseCfUJkvdK981J9WBG1LgiWovUn2Q/RYQjE81NWUKHfwCAQXsXfva2m/XIR\n",
       "vHlWVnjS4VzO2h9Yqzfjyqbs3Z05Wt+cso49H//hGTy0bLUn8C+p0PVGDd2eDz3/GAPSnLgPpy7U\n",
       "ABu82cYlKPZBFCoJzL7ejzZ8I4jxmjVqy1/CYlIIu3ZBAAAAtwGeeXRH/wHPiqDpjt+fTtZmn3t6\n",
       "qvPSkALnTa5dKObt+1QHZ8AEC1QxoSWDMcuucpSUlEE8ilwb6RCzFnMa0jknjn/2cJZXMSfQ9bQ9\n",
       "s1WO1UFzfAShJcGAI8eqqxYKMxUFe4MyWhKMvFdkhwRy0Y6mepBqHA/dp2RjZZUAq5Vk+zXv2a4A\n",
       "NY/eQmlXqIWFcvUvp/iDqB3cpmTISZeX9ARCjcEYTk74xg+OP6DDmB2/prYgaUZiJgAAAMkBnntq\n",
       "R/8B0IA4sGsw12Z9adTrmyuH61K05HfgyVlH/0kDiYANB73pAwY/B0kWFGDYKbCg30QnHDeyVb62\n",
       "KqVoOqyCNGdXflA6p1eqhqFf/VAtPzdt1A7fzMwNiAta94Hoa+hP5mvCgcUSNV61401LX/CEPThd\n",
       "xZI6glzrOX0p8P7p1T9rg5gh6KxS3uQLXKQj4JSNbiU39s3LAgJoT+f4eyulDeJa0t23jlKtz+wx\n",
       "Im04MJCjDFZgSGiQxC+flhz3RZjLn5WNUBUAAAJGQZpgSahBbJlMCGf//p4QALGo+PkJvocAQ2Td\n",
       "nYea4b/VyW0tpNMWx4/5Hp3/hq7tE94PUW2m+jS454aGLq5g+JEb7JAJQ+6BTl+0jsiF3H1dv29m\n",
       "Lp3+t1ooz9pjX+xBcGRw//f+6OnRi9RGNjtJnvKk2yCyipA/KvxQ/hzjBKhaPyO2uxyOEj2kMNdp\n",
       "PH6IP/HI/mfOf0PAWO6pvhyeqLWRkevP1qYlfF9y9a0MdEgb0IBFItx9hYcSjUAs4EbwlBj8u033\n",
       "yWeCzP0SEAC98wMEiO+wnO9UB9Huoq0ojLiqA0qp67eOMoUTZ5Bh1gkmakped+Kq8DbuNCJ98ZN5\n",
       "cdavrwcoyY5ozs6BGz+gkhkcUCz3Ad0sk52qvhfJVv5hy0933Yt46KqjfJ3jMWHv2JA/G7QVCqZW\n",
       "AH9btFmeg5ZFUy5DXFG/agcbIECjpa0yOFsSIkZuvwsBupyhYgF7/7znD3bd5fDPlbWgXaRfAamH\n",
       "uot4Pht3+2jQOe89BamCxlc+ifrtsmugoVokvuqENlZpRuonaQnTbKbi3xDxmI5K8yRRL8gRM5zi\n",
       "NAHPt/s9tTop20sGHwc7yjAoKkeSDv3RcQimq2GtS91gAASUvqMlSd5GjHUi0bLN7rt3GF3NM8Rw\n",
       "FSj3EUZ9HzwdboRUs0JLZxrtzDzoXLuzPsgojjJlZlEurkyoXFcxbmugxJAQydziqyi2RbyuvSGq\n",
       "eG70hvmZYQeBzPB3CjypoEAHL1LUWwBZBN/oo855gN3kia/yaYpV85uBAAAApUGenkUVLCP/ASYq\n",
       "Dg9Pbd17g/L6/2OJuIg6DkCcVIibDDptRCCogA4lYJrkF4B20fDhpxcgKQEc3SBRtEKSLZUqSwr/\n",
       "ImvuLiVZEvfLFAtSy/CYVdz6ZcYcA5zsxinIXPXXsdJZq1RSXyt68ApNzT4F/Mtc1ba50s3JVJkW\n",
       "/BgIiV67e+3ZQLKhu1jGvfoa37XlIRWMr+SFYodX8LXHPyGwxy4STAAAAKABnr10R/8Bz4qg6Y7f\n",
       "nzalBjGD4C+2tKOds6RIACHsAAAE6fX/8Zp8FroZw2hmgvRcKfDX58l0K/bZ8ba/GniM6J3Zr3Ia\n",
       "YzjmDbIpLUMVaXDYpB8X8M4VXxrw5An0fMs2/bvdoOmnxdcKlRpupecRj/5LjjAN3RoeUGiGu4VY\n",
       "yJLB+VvgY3Sa8uqZIY8WUhuuQvQGRYWJK1WbGtjLK+psAAAAuAGev2pH/wHQgDiwazDL7B3A6n5L\n",
       "6l4UXgwGekKk8lN/LCEZVusMej0YAHjCuP20XI+15mM1+BYq4inqtPa+tTngviSQ+TNe6leW4Rmq\n",
       "IO5FSv+/cd+9aCvXEhn2fvNBC6BjmziHesXd/YD04cbuXj14U7P5fpeCZrVZSypukfXNSfQAAo0P\n",
       "teWfL4dzGZGyfur4dUdWIB+bJUDpPZN8wVlwjAKUuweZUQfDsnu3I2Upyqi8ELfqzDEAAAHiQZqk\n",
       "SahBbJlMCGf//p4QANfuQuACn8qliVltPocvwu21YMk6HrhdNrcioshuwm4fNN6IWCjOtD82l/s+\n",
       "BurK+4O0AEdn5SwE/fbR0CO+vwDr7Ky5Mfjw+ko6J+E7z2akTjOOYmx9FaLyKSSFbmwWLGIx9Y5s\n",
       "IIygYRUnD7y+2G9muqKtlb8i+gZYbJZwdIGhYm5b2uR1xrOXGyGC9qI26Bi0pLyLFQRYQ+g7uia0\n",
       "htxry2NDPS5Qz9Vg38tijdwyLi9eEtq/wQ1mt/nKDA/sncTv5KKBxnIfwItkH9Jbtjz1PoKJOSNK\n",
       "OSFii5oFPfmLz1U1BuCEFWwuE+vqtHXWcSb63i0xUAdZgqZRsQ6kS3a4IuMaXhmxuiw6HnPCxpE1\n",
       "Atfe3b4leMny+gxwR6hNbVxf6HuwyI/JI2pJ2/OC+9gTypvmPOTUR9yTWz4bazHV+e7xQpfLk4fH\n",
       "bh6AHRIZi+evnNb/iHdiffh+YHGNBIRzasjddX100OtqZWCYNQSTimtAXrIyDOJQd0Dgmkik3dzB\n",
       "buDkT3y8YYSQv5pKNL0nPnnt1nTDyKbOrnCd1C/CK504/nLLagLezM9u1psjnmsl1YVsPcyAOjQD\n",
       "u24KJOj6C3VB3o4n5YfNhv39DFqqSYAAAAC4QZ7CRRUsI/8BJioOD09uAF2/pOCRxBFMwkwAmWIS\n",
       "sQ+09aVjW5szaaPn/w8c5g3kCP7V0fhCLBJEn7GvpoUSLUtMtDPMm5OsxAXyxAtTL0GBS0uS5wFv\n",
       "5/0NE2EN+87+BcuiFTOjg3dt3+2AWzvxoH1csktmjZLEHIAsKGsghH42wS/yFi4eGOWAODGmEfb3\n",
       "Kf8KGOE/+w6bqo40PCL6SLks7hidM/oKw238kvoeGPrYhX0xLMpqAwAAAKcBnuF0R/8Bz4qg6Y7v\n",
       "iI2776M//Y9f9NLJ1bdfCgSU4cEury4t/lABoGIVfpuuqsZx4ocsFslB1RTeKcpX++52RGx8Jz49\n",
       "1R2t3l4QHLETSp5nK5wlfbaEvUnwCiNIF5Gfr3rvuU78Ceiov8gvxERBa0ekE5RYRvW0FDR/w9pL\n",
       "qShc8nPzHjlWk4R/zDdTiC6VOCy2UzAy578AasdMGFd/9bUewjgQ0AAAAJwBnuNqR/8B0IA4sGsw\n",
       "2OR7AX4TvHOpJL7l1VOeHnZ8eQYtez8ERFk2r7KkiBsq2ZgAaFbmRzYjMeZ8zzIrm6sjQaWfZD9A\n",
       "ee7FFQIxsnKNPEj3efWR1ZAhzy7Rot7KVj66I1BFgBCj3Yj8qt9jgHSG9ePn0TFBo2a4Ka7ow9Zy\n",
       "+q7yqjbsmi0RpDLt+cGi7niyAICeBHyRXi/IwYEAAAHlQZroSahBbJlMCGf//p4QANjjNYt1TX2y\n",
       "AA7Q+4C+4TwXNhj/IcL0mb8VpYN9Y61xLMgegnI5YdpOcFu28fDxBS57gJU96skmVguYiKAqxcEn\n",
       "byDyXm3mXY9PUrCUvzJ5mI4Otr/Ee7i7WeK7BniMUV/i2AMl5GU+8hOFJqmrC57lixeZ+pwNviey\n",
       "MUUEha+iWbP1hKcH+Wlb6RaStydRmUHj74yNsXEf/CQEVHkmD//yRRtekT8mIFEF1nIsueqg32l8\n",
       "BwVLunDgGyFZ4wYaN7T4DiMOUSg8uuKwr9oee/JgzJVjSDnMbVoV/Sy/jx6AuQdqVNgBPZRHLRY0\n",
       "jKdNyDTJLNsBxrQR7udSFKge62zW/wYrhtrbfpF6GbPzouPRKM0QfeBBBjmRrXZNAxou31wa/fGL\n",
       "/uEocbA2/lk9fV+B3qZOsRabad1QByILTDHE0S7vNY6O//tm2yIXAPukypVUh0BA/+0zmTYXoLuz\n",
       "CgA2iqcDk1p57Wv9Py0RzANY/X/waQwxW28urACbGDyWYqGJc2bMAvoYPU57SGoZ5m9MMsnh7s+D\n",
       "yAOLfEqRwZPrsIYClyy0JNl4u9a3Lkq0fXMyDF0x/oCrXYrqBu30VNlZEwTnMo0/4TkjPhBHyxmr\n",
       "Tt4wO6EAAADgQZ8GRRUsI/8BJioOD09wYGRcInmOVd0329bJ2UAD+Z1H0BlzIAnA6DXe9AokWuTP\n",
       "/UL7xotIB5g/GzZpbZ+Xr5BPnUVrn16DPyowM6Ym4kCQH8M38WuZWfTB3x0VBdFfooKQx8lOENNn\n",
       "/RNnECopRNNsoat1+SkFLDvmJbJiAsEzsOjyAkpWELsLgK6sa5qZiE3pjPAXqbsHH6WMy520wxtb\n",
       "NTcubFLxQ/0lvPY7C7dY1nQr3TiFjkNsWUpErHWkazm0SVw9xLSwVgaOH3OcXwXyk1N4O+udbW4A\n",
       "fzZ3xoMAAACmAZ8ldEf/Ac+KoOmO33rTD24l5/o3YC3BX6AFqRfPPD5SVrv7kACHbTuitHEHecBj\n",
       "8pCOEgLzJpNaXs/a+C+rOX/cSlZuwcD4JXlApwAdgcDjN+PEW2x2CgeieCyIoHdUvTGvE5FP6wn6\n",
       "2d8oSXq/acTcP5Hs4OllJ1jfnD9dXNbuV+pZJlAV3ZdqU12oOT8kixZEsV3NHKfDkZu6Na622UNA\n",
       "z6nlgQAAAMIBnydqR/8B0IA4sGuaqAMbJojYSZ+38gADY8mjPXFArZsQYF20N1Mp8t+5IRzndG+i\n",
       "z2xgJsZDT3cHKIygPj3ZNOhxNPNamb2NM4orwxgflBRSuCYhxJUMiElewov26ZD+Skfv5y5S7ZDN\n",
       "I5S4/73LGqh5meNs+py+vnzCdG2LqM9ta/akBNlnqJf4Gb1zElUbU/T1CkHaXq7rPxZcz7CdO6P8\n",
       "GJfXbWP2yAdWxMQq+lYJnzHKTD2l112QWMB2OXP4QAAAAZNBmyxJqEFsmUwIX//+jLAA2mNts1OM\n",
       "ncEgAsCUCl6yT9x+AmAXN5buvPmqgcJ96OZ+lDrIhIubeWERVUwZW9P2Pofppe+tbPqCWa6vzY+9\n",
       "85cXWcwGHvPMiBmVO8uMAswq+/uk3y3AB9dEa4oc76UHxiYEFin85E40nRqgcx0b/FTX5U2Gmt35\n",
       "6knU36KOp+cTKz8nyqhhjCsCG5IJJzMBzCAwi6TznxCgmup75OPK/XtsR2F6j4iegqHagcWKZAn4\n",
       "RV90822GeyPrtl7JLNOV0GY5IejSTTAyhnAJchoZjcgWm2FfKSVfX/dNxWaz3u5M3BUmWE5EoJkM\n",
       "JuzGyHNQ/fVtM6zHer8MzakiWJRfwqkVQA957phDEX4kYLAFqJcudKBFpIQgn7PL08ASlKzRHMWy\n",
       "vFQ/q6YlEoYD/SbBg1QjTvQn60Dl8TsnJlaLiDc7wpUdcQcsivv9l+fPBZU/GO4DL9oZg801y/0B\n",
       "TOA2kIBq9LXOymsfDzHYz2P0YOQ6GonOtCgTv0v2FTAR/dglEBB0AAAAu0GfSkUVLCP/ASYqD2wL\n",
       "7oF39+psgPU7lCMYARo8FsrTdAIJJQAAAwBZ+KoIyILjMF912jr8bnSfF/PFGlx4dX+YavRCnIyO\n",
       "/YrEVajjaF4p2rbL4S0ulLVBpj4iTP4OGOrb9Wu5HsmQ/kAUJs7KwwT+3Q5fWhBMO3sONQlHGeG7\n",
       "n85/9/mR7+3Px8D0mz/6z/1qD0CBL0eNeYPB5PsadZzBL1fINSrR9A7yJFBofJBOCKdkGz0kOqHT\n",
       "i8kAAAC8AZ9pdEf/Ac+KoOmPr9tD3QFoQ0nPNLvr9Ek0AYVRhTlrL5HAAIFG/ZgnEKTPFjOqfTyK\n",
       "dNPoTQI4Q/Mg2qITE8vulRBrY5BVBWf+aN/DCefEupwmiLCAUvh9pAgBZU9ohVnenOPw6Hq8M12+\n",
       "Jcc47z71/ZDbo+ClJ+ud+JXjQuGmsuMCfdiBGps9tMfJOAgtI+h8yrqQ/PDoxYOOR8yXbb5oiF/K\n",
       "dXK/7mFJk8eW8jMaxwH+05/80AZ+M2AAAAC3AZ9rakf/AdCAPi0xt0/a2kJiMjbvcMfkV+1U5Ltp\n",
       "mc57gcmgA8YVxzG/WzirwEEm5TtOxmmTo3Xe/GHvff1yieSCKgRLX8uR1KmAq3lgCpVDzdzMjnB9\n",
       "X67/FshOEMtA9JB9nXcHhz/38Nh6I1wXZra5YQsEkcw7ofIQzheZV167MK5yYnX9z20y9l0ecPMX\n",
       "vJHW7Rkmz3oadlSLn+KRevbP0EN4K5jdd91E0YiqP+HAWcWt8IU8AAABpEGbcEmoQWyZTAhf//6M\n",
       "sAGzFBtHD+JxzkllFrQA43gpV7ggI602mPbV5xLf4MRB3Sp/nw8wnC/+ZJu7Y/N8oKNkkBtYzTIJ\n",
       "KwUKASdbNjBkLR9YgMBuA7bnP9hSlM5fMRyfksJs6p7mjZeQTQ8xYj/ChWNfvkFX3Uq60Bb+i4LL\n",
       "gfn0ZyswCl8zUntFu6dTn098gjF1dYek81ermhxDf8UKE5v6BoI2PO7KH6M7qa6bxtDmYZQp9OEk\n",
       "W/jvwd9Z5C171/BNlaadprR798zYpbU1NDM+k37NtGU0M7+Imumv1/Ju3XSCn4W512XQHF3dTjyY\n",
       "gf3os8soS7zyJiNqgyY/z5Yxg2mimywsXK+Bf459i9W17Jw4M3uMV/A6KvZ9NF23qp880hsXirSr\n",
       "K/3790f1xukxrqiSg+n9jfvZ6th2NeNp0SVthrnJpZKImwZkypBIx6ys0YYp+vUrhzhqBOeTra1E\n",
       "VquVJsFzMnNNzJAYUC2PefL8CRhW+m84EpyLNj0STPRauhC1+cBy893noUbP+LslwtFXr7azQWUF\n",
       "4Su45NgKmQAAANJBn45FFSwj/wEmKg9vWuJAx0feYnbpsGCWJlJuuaqTrlLblza6Jr9BD8TxmACc\n",
       "8mLtyctlgBhlLctuD1AHAVbMU/zsXJuuFVBMV3ztg2RlwasZFVf9QWCLOXg62XZoXTxBA5PogOGq\n",
       "rZmLTjY3QGCsbX5ppv8IZSu88LtxRoA/bMrhQUxf2H/aOZMZOnWSpPVkuMHOoW4IbhJESbeeulW/\n",
       "CozfPhD/4kn47gUhFqOhRAXWeavtjCI7pCaf+1j+IjvW4lBbHBGq9febVR3a+Lq47oEAAAC9AZ+t\n",
       "dEf/Ac+KqJGBHJRqqA0k83VSxBJYmezYHFHnfZjfzKp07MADxhXHyfLSRop7x8Iylu7bNqy3nFg/\n",
       "tcVifWd1c4wNVg9xwr1j6WqKptpcTY5k897Y44mmBA42C1wEWT7PECD6GQEqTgpwYff3etuxSPDg\n",
       "WrZKpAV/R4KvG1lU7XVqRpMpSolQEnTt9nK47zUCZc3vanrAoIOLFha3JcjvILBXsOGrlHmOODMS\n",
       "cSzsekwZAB8p4ooX6JfxAAAAmAGfr2pH/wHQgD4tMbdNrnLTq+mowNa9jYKofPSC70gAbJJglq1E\n",
       "URrMO3TD2vkTpXBveGM48erxbMRCWpvisG8zAQ1zjzcbBeK+RALbJuIycy6vRinVtSp+1BnxYUzW\n",
       "YPC+hfOHQILDDhxMRlPqSLvJfzfQv8JrkHGGp+u+KLurYxzDp/pNPHBWwVFeDQiLGuV+peFeUSCc\n",
       "AAAB9EGbs0moQWyZTAhf//6MsAFL9zRjTZIroIRgAjykCqEov8NK99PrZeA0gpe7T14C9/9U0aBd\n",
       "kaxpV1zqSv/WMjfnbfEdx7qx2KGWIP3XsoLLWuXpN1MJ1qY4t5KznE5xGUV/GEFOuL5RyAYUHdqa\n",
       "XVDzk23AhhPgH1gDF+l1Fw5/ty0MwnPnOQ5j5LpHdWWXHVpg+i5iNrmxuw4HlnxqwjTvc61Yrc9m\n",
       "udn1e0uts12DnEZ5obEOZYloprGcBiQY7o92sOyrCVeXbIX5nMhJRzL/8Uwl8ysVqrl2l7ZpCgqE\n",
       "6CytvidM/QAQ/8tj2OmF+40QvMGxrwdrCYnB4/EdCRoKrBJruiHwpFPX0+DuD/92+vMsy12lHNip\n",
       "o8l+swXBJdUfHZ0M6nSmoF8nppIB3YgXcZCteyOaIERlqkgVinhkFsNVeECdorp0YEA2xmEzcpnH\n",
       "C8B4Smip8xBUQjrvE8VU7wReDWf7h1yXqzRopvmDp8qMxnSnDcZLpaWuBcPc9eAK/KBCNp8RPdHH\n",
       "V7nQz78rTjxEPUbruxtgE5EP3URoWlwtlFgDkXP09RgvEHQPKqSBRsDD3r1bJYfs+qSgBhMocOCP\n",
       "6hrsUMDeRvccVWDkcoA3b3SGDZUepksghZ3B4o5XYSuv0Zx/X5mifEiRU+PozjfQAAAAyEGf0UUV\n",
       "LCP/ASYqD29a4kDC+DNUTg83rfEAH0l3M+wnUzyNou/2G/pRgMJerpImUIgGrqCIjz04SwCh0t6o\n",
       "FiY0vIRa1I1Z/dsmYr1bJ9APJB2mI+4rnONfYyvPv+mpuGarhsYBPSfKGiGIJcTl3uahMIWBF55v\n",
       "AtDxw/0ZF2es/N4Tw7DY8IiluK8Ft5WrD349RRnNM7uzO/I9KYJp2eQoPLFIqNyrw5PuQxeRmgbK\n",
       "Z70UcZxERbY3k410DPmnVe8DRjbCgDdhAAAAhQGf8mpH/wHQgDiwawL4Sd4DVGbQgTENZLZW19+0\n",
       "RubZguDkR/uM6Wmw2f9/JYOwXXVP4KEcp++rxnwe5Q1cVZGkgfEgg1nNPwL5irS+mb32f9l+jl/x\n",
       "w9qxLqKHa1i8R2HWarwCSJLuEvCq4A5J3iM+vaKlm0SFPp3OxciX1rLPZaiKL2AAAAGjQZv3SahB\n",
       "bJlMCF///oywANmKyvezeABdBjG5utx/5qwwiWT9JlSCe5shIwzrkbWPObmX+fFExwiRO73Qi/fJ\n",
       "MFr2srJ95v29glSYQL9W67X6Yrgzw6ElP/jeLlLdBfgf3phMWN8axeL8++AHEb7SEKEX0DmYgNX8\n",
       "86k+MSvHHsnb1HtJqqheriNrFNJtxwPSgzJzrVE0ciVE4s2vAc4q+W/Ai9iHf5oROh9u5QJwWoIp\n",
       "xltjLwz2Ly/2VGvWaLWEDxcfuqvh8SW7sv/ZBA0j8oPxvosNWJT6QrL+XyzvfgkIlCzhB5DKMwS4\n",
       "2nVTVtvnyUNZppIy3HYvO9kN6KON0x0rRiEqPJ9SsAgj06zgDyRaGf4YWow+j8x0RT1s2tWYEAvg\n",
       "nyPlVSAxgtnnb5KR0SCvTx2MHf1W/uQ+wsgT0gFG7MBklpdCMNubRM6gAXf6InYxX4uow2PNmv9X\n",
       "BagPKkdNBbMO16A5eRyZ/mzW05FRVmbHPaEiVPqN6sueSSShSDoEAr3MqRSnSz8IRyUc5PPRMf28\n",
       "0jS8iH3sv2+19n6HEi4AAADrQZ4VRRUsI/8BJioPPf5XefndYaQiswPQaAxQAYwAfub92GnnOgtJ\n",
       "XD/pU2RrqA58U4xSHnrPNP3K5aT1Z3qjEYMXiI99yfc1yJxbG62Rj1RqQvnp1l8f9Hmgye/F2/rI\n",
       "xXPoishYolPWwACCL5C6ihsDSxemUGQMOAHGKnMOvW8e4lBlU7pMj9lBxjfPn5SN79PBPbPUYudt\n",
       "TSKDHrZP2+B53HxQA/TLMU8/mQonIVJZq/KThzsbaQS9PvyV+JPHAwyYelc7KkeT/ZJM1fNM+4nP\n",
       "MwAERJjJN1X7ZzzqKHx7uUVXycXdxHkDVwAAANMBnjR0R/8Bz4qn2glzisPfn+lIHs+rgsRoLtSo\n",
       "AEOXS+cIZVo3CT7H10bLIC7rafYX68JjirAip5n0iW1BLCbLIwJzgWhdTxm7eJu7EPhLrw3ZO3Cm\n",
       "maU0X402MxRqsqseMSRVtEYG+UAfYsLooc52dMDXU3Zk9KDCfWUWO5GvCTUfBhxEMBlQEBUCRhBw\n",
       "9ptCGi7A/QqmG27Jlgf9GO/JAhaybU1gp/IsND/FGyqfrs7yv17gHock4Qn5AGx35ysr/YKyE6Wp\n",
       "5io9ILcMoGIB+U6YAAAAvQGeNmpH/wHQgD17dY/6LO+rIAzMlwa8YAQoqcMdrufacawGhZLhhd5e\n",
       "WNmK5f5vRc3b4AoRayx8iDmLYTkoRWZ+4tK6DoJwF6mmMpDWzIFNZ6Uuz2fJWuc42sTcuewyb2bo\n",
       "eworxxnUkg3vEx64HLVQ7yfXcd9zQPcS5TrbzJDC982Ui4qmUary8x7DNbogrfmSPgEiiTvBncZR\n",
       "adVd8XvAgnsOV9hNi6zFSSJ+yyBPfyGxThl0TBib8lqK4QAAAXlBmjtJqEFsmUwIX//+jLAA2Qbd\n",
       "TGiWx6rsAHG9Jbs1bbly9Mcievmq46Cdt40OHXS+5u4HtZdfZOB89Uq8Ms/atkT63io3pwxOJk6F\n",
       "/2Zc3UT0h2PmOj640GLaav+qqIAutq/ELqXqsKRFfQ35OPYWmi5izyZoY/K6SWofBWzz9hlxAJqz\n",
       "UDi83uv7ZW+SSC2Vg+778jAqmoaLE/h3UIMo7QAAZrWMutuqACwsOH2cAysj5lzCZ0apL+uYpvSG\n",
       "3XAXG44g1dwXWj/OeArwRJVvFBsfqzr5rwtwoBzOWlfDbnxMevVaWKXnLzmYtoilu0L8qJgVV1P8\n",
       "CQrmtkW5mSby9TdeY9QHxSYVh7ZFnVADXQ7sKyA+45Wjh+SeA5A5K/bgDBp+rpD0KoHF1k+1tCDB\n",
       "AADdhSv29ssKonYo+X2NuzifunQTBQk3G1QVrz1K3h1rcJBo0QMCPe82EOXvjqb06+SSckiGBbBq\n",
       "ZMxyajlzStlP7Wfj9JvcYQAAANFBnllFFSwj/wEmKg89/ld5+byFGGOC4ATkPntBMarFM7zNzXTg\n",
       "9CWk5vloRgVymrTtHx4+HqCMlQ2lLKZQ27TJAMR/cG+6rOcAdibxCvkLM7Qf4Y/YA7ymHj08LbnW\n",
       "GRFG+1PmNVk9V+ay5lj8Wm/4qACQ/3qINJqS/jyDUgUw5oU8vu5lNgm+jUYAPuGv8w70XIZm9mBA\n",
       "MX4L+9nrdh0Ol3eK9zXAEczOPrm4yBK/sJQXBr61r6tiZYKx6UfVybaSoi+3yyijd795zOvOLu6H\n",
       "bAAAALIBnnh0R/8Bz4qokYEcZRbG1psFV5fpo99XSOjukq7n1gUInpXWgF+l9AAJWQ0TEskzCYPN\n",
       "CLPGVXkAWfEoSzs3wnQnRqCV0sOL+0s3Bu7vm9k2tmGk7VBiar84gwAi8sKhoIeBvrH1s8ONgY/x\n",
       "80kAiZJyLxB0ChDF1qsnKPUVXLp5LLDsXpl4CsLyUfWJGQloB8JrXGQbuEAZUjdV2rMbVrTx8Z0Y\n",
       "HEIlhEvWbAvMORifAAAAuQGeempH/wHQgD4tMbdBkHe8ITQPg+ZAfEnbijuosjuAAlRIKOiCAEEv\n",
       "Iocn9ihH2KsJ9CKQBYoiwUntDYfkZRvrQpa+T7Psl7wrVTQm7bJl3A5wd/n97xcF819n3oZCgfVd\n",
       "+csp1MNAwlTCH1F/mZ/4OvFLryRl85hc0Dza7LUb3qSuAU33jXaF6jpFAkGx6wb4YE5nXbcHE8F4\n",
       "HsV88ndmsnmHSul83J4hGDCL8+q2f9I/B1Xo7RgoAAABFkGaf0moQWyZTAhX//44QANJ0vD456r+\n",
       "UNsU/bH6+/BIXZmiiVpuJkAPtmzeOMd79vsSIOXmZaYmHxQvtCr1fM7OcLAXL8ttVDUPvfzN8tEt\n",
       "eFOqye5fnJXkW+B0ZxZPkUfR2avCU+TpxHz+Ftz67ediLi8lLzVWg8aqZO/zi/umjnMSqHLypMwd\n",
       "MmTGfwNQawtl1RBwhMJLn88yuEf/iilGgfo+E5D6pVo0CUXPNakXzikG1ZeVs0ti+mx05rVHvIZH\n",
       "xtQm22WuwuM0d6PgbsR7cPhetzSGkh1EGhaJbS+ZeH0yeC1Fms1uZWdFTUsTMoTD624PdSs+5Eab\n",
       "VPmE5I16JnbB7cW+TQpDFWpvLjhM1Aw7Km6pAAAAr0GenUUVLCP/ASYqDg9PbOidUE4mpk4909Ux\n",
       "gRCBnJj8hikvI21sF+BMGxhZlp2KnqjolUOCiZSOQAaNPmc1tq4JxZGECZFIvS2Px7cdULRrPPyw\n",
       "F31P8w9knlCXlbefU62KvySVxgEXCtLJVy6sTe+Pp3Fr4oOB0K2A0tln0+5yfL3O3QBlrB3iDyP+\n",
       "JbWNCNOBEP3F5Pqu1KGsbmewQ9t5HJDbUn8ehOGQRGo9wsEAAAC/AZ68dEf/Ac+KoOmOiTg68K2o\n",
       "536LtfTsHxQ8TJLO+ACBD0qoLWAXC/ILmyG69ZoiIRzLrBUUE7/8IoiRLuCvSY4d982ejgZvC1/c\n",
       "tehm7NMbg8DxxSO2ZXFhM0XNBu7yROhAKY59TwK0OJmObTLdbkfavuTUhZX3yvqjF90vA7xZZF/Z\n",
       "O8PzfcqzYubM4vUp8YxNKj06aR55nSrRtn5VRX9xBn84IXHGlqFcrXBcbEMoejnAK5qjL82rROee\n",
       "xrwAAAC1AZ6+akf/AdCAOLBrAeqdXUDZWwmmuizHFRWuZACEsAAABbw3mF2v5EqoS9ZO8gzg/LrR\n",
       "7NKrz51wSwxDNFP+sSoDDGSfb2MMyRiHiZm2f0T8ssfAhsZQHwxAcEw81mIdsFNwUjHznOGEr+LT\n",
       "gWLTU4ephzI0PDkz3UEXw6PRdRAKDlsGRPXM+Xs+8YBuc3Y2wIcH0sWwISJpHQYZwvoYMf5SKbRM\n",
       "aieDGSHIi7KnulalGRxFyAAAAONBmqNJqEFsmUwI//yEADEAeHKfoA/S39+51qdD06YDYx1oAPv7\n",
       "d6+yufv3O569FD/0ElGzt4PT6ghCnuvWO0k8TcKXpkjPLz55GgjcTCgVSjct/pZy6mqQcA/UZGo6\n",
       "xsG9T7oBTVeSea6qHdT2LPiyZ8j6sI0aOp+ghSjKYSw8qVxlVvx6QNkjEwUZxp8TOkH+Op+TgMlA\n",
       "XjQLKurS/iTApyIoANa4w8ZwZKnQ19cYNPZnPBcSbXFb8QulH7wmZMtzjL59J5BnI06LB0d0fX0D\n",
       "5Zh1dD5qZjbL0xdV2bnuHSPzoQAAAQxBnsFFFSwj/wEmKg7l/me7ovEc5NKAArqf/ujoiiLAxVgM\n",
       "gk45I81PqW183GlnGFWj+w3UVQExCvXfphs10HSDczjcstfO4ZggTTRBcgP7Plb9X5Sf3Ubf8fev\n",
       "F4E24xN5l8nbPx97lZrbGLVqa1vHRcL+AAltMgcQYN9p4YXdLljoWyCKRS6Q24q70zyPYLRqWo3H\n",
       "ScOkwgogm4E+P65sZ8r53/YU9TtUzI7kKfR0gZ8D80QY3LJeIXgEfwFu4v4uz6gnFuy2VJUDnEtf\n",
       "7qkWm9eRrw6FpglULlbo0hMoSsVyhLMF0SAEHmK+Ggl9xtOX7Z8KJLde/m0AlFBQ1D24J0BBgfD1\n",
       "hZOKgE9AAAAA4wGe4HRH/wHPiqbFfdOwSCKSX51EFzy4ufTieCvDabJB4XkhTbcRL0gBLKKiXz0R\n",
       "M+onZ3aKGGM1P8wVjCJ2JBr+7WRpyUNCBta50DzVCS3oGACHV4vb3wurcVTilxkdGD36MnedKS0V\n",
       "HLYDyr/HuCPpUlb2AddQ5NChz3vGNmusLg51Y3GL0griBAZkst3/tV0vUw4q99z+cFAdVwpk4+lo\n",
       "RMfHh5ADAbirHKRdxW6HAaUwd/Q60quoK6Q9iAewStRdhIgR249vcroUGFKqRQiwSmSMuDyKYPbL\n",
       "5jWKRM6OfnXBAAAAvgGe4mpH/wHQgDzLshStURLv2Qg9gDICzkhSWROMrkvRUnB0azSIO32q5wMW\n",
       "uTABoYUOU1wQKkSMPxmMU8SbTPBfFsw8k1DDABwy5jLEnYxecbPOmhblbLLYSSN5ScLr/I36Bkxl\n",
       "bPJgIK3oL+XaHvLGi+94WASqfWQ4VaFPczIDHW77/xHghGnzpuZaWOtd7NHSdmi6u2E0Lq2rT0lD\n",
       "rJXx9BgEg7o4Tp3V6NMFCRRsQXhu7xn7Mr3xrJLcQj4AAAeWbW9vdgAAAGxtdmhkAAAAAAAAAAAA\n",
       "AAAAAAAD6AAAB9AAAQAAAQAAAAAAAAAAAAAAAAEAAAAAAAAAAAAAAAAAAAABAAAAAAAAAAAAAAAA\n",
       "AABAAAAAAAAAAAAAAAAAAAAAAAAAAAAAAAAAAAAAAAAAAgAABsB0cmFrAAAAXHRraGQAAAADAAAA\n",
       "AAAAAAAAAAABAAAAAAAAB9AAAAAAAAAAAAAAAAAAAAAAAAEAAAAAAAAAAAAAAAAAAAABAAAAAAAA\n",
       "AAAAAAAAAABAAAAAAbAAAAEgAAAAAAAkZWR0cwAAABxlbHN0AAAAAAAAAAEAAAfQAAACAAABAAAA\n",
       "AAY4bWRpYQAAACBtZGhkAAAAAAAAAAAAAAAAAAAyAAAAZABVxAAAAAAALWhkbHIAAAAAAAAAAHZp\n",
       "ZGUAAAAAAAAAAAAAAABWaWRlb0hhbmRsZXIAAAAF421pbmYAAAAUdm1oZAAAAAEAAAAAAAAAAAAA\n",
       "ACRkaW5mAAAAHGRyZWYAAAAAAAAAAQAAAAx1cmwgAAAAAQAABaNzdGJsAAAAs3N0c2QAAAAAAAAA\n",
       "AQAAAKNhdmMxAAAAAAAAAAEAAAAAAAAAAAAAAAAAAAAAAbABIABIAAAASAAAAAAAAAABAAAAAAAA\n",
       "AAAAAAAAAAAAAAAAAAAAAAAAAAAAAAAAAAAAGP//AAAAMWF2Y0MBZAAe/+EAGGdkAB6s2UGwloQA\n",
       "AAMABAAAAwGQPFi2WAEABmjr48siwAAAABx1dWlka2hA8l8kT8W6OaUbzwMj8wAAAAAAAAAYc3R0\n",
       "cwAAAAAAAAABAAAAZAAAAQAAAAAUc3RzcwAAAAAAAAABAAAAAQAAAuhjdHRzAAAAAAAAAFsAAAAB\n",
       "AAACAAAAAAEAAAUAAAAAAQAAAgAAAAABAAAAAAAAAAEAAAEAAAAAAQAABQAAAAABAAACAAAAAAEA\n",
       "AAAAAAAAAQAAAQAAAAABAAAEAAAAAAIAAAEAAAAAAQAABAAAAAACAAABAAAAAAEAAAQAAAAAAgAA\n",
       "AQAAAAABAAAEAAAAAAIAAAEAAAAAAQAABAAAAAACAAABAAAAAAEAAAUAAAAAAQAAAgAAAAABAAAA\n",
       "AAAAAAEAAAEAAAAAAQAABQAAAAABAAACAAAAAAEAAAAAAAAAAQAAAQAAAAABAAAFAAAAAAEAAAIA\n",
       "AAAAAQAAAAAAAAABAAABAAAAAAEAAAQAAAAAAgAAAQAAAAABAAAEAAAAAAIAAAEAAAAAAQAABQAA\n",
       "AAABAAACAAAAAAEAAAAAAAAAAQAAAQAAAAABAAAFAAAAAAEAAAIAAAAAAQAAAAAAAAABAAABAAAA\n",
       "AAEAAAUAAAAAAQAAAgAAAAABAAAAAAAAAAEAAAEAAAAAAQAABAAAAAACAAABAAAAAAEAAAUAAAAA\n",
       "AQAAAgAAAAABAAAAAAAAAAEAAAEAAAAAAQAABQAAAAABAAACAAAAAAEAAAAAAAAAAQAAAQAAAAAB\n",
       "AAAFAAAAAAEAAAIAAAAAAQAAAAAAAAABAAABAAAAAAEAAAUAAAAAAQAAAgAAAAABAAAAAAAAAAEA\n",
       "AAEAAAAAAQAABQAAAAABAAACAAAAAAEAAAAAAAAAAQAAAQAAAAABAAAFAAAAAAEAAAIAAAAAAQAA\n",
       "AAAAAAABAAABAAAAAAEAAAQAAAAAAgAAAQAAAAABAAAFAAAAAAEAAAIAAAAAAQAAAAAAAAABAAAB\n",
       "AAAAAAEAAAUAAAAAAQAAAgAAAAABAAAAAAAAAAEAAAEAAAAAAQAABQAAAAABAAACAAAAAAEAAAAA\n",
       "AAAAAQAAAQAAAAABAAAFAAAAAAEAAAIAAAAAAQAAAAAAAAABAAABAAAAABxzdHNjAAAAAAAAAAEA\n",
       "AAABAAAAZAAAAAEAAAGkc3RzegAAAAAAAAAAAAAAZAAAE3MAAAMvAAABLgAAAOwAAADMAAACMAAA\n",
       "ANUAAACwAAAAqgAAAh4AAADKAAAAvQAAAX8AAAEVAAAArgAAAbkAAAEaAAAAwgAAAYcAAAEPAAAA\n",
       "owAAAXoAAAEkAAAAwAAAAfEAAADpAAAAsgAAAL0AAAIOAAAAugAAANwAAADFAAACFgAAAJcAAADB\n",
       "AAAAxAAAAhwAAAECAAAAqwAAAZ8AAAEeAAAAtAAAAgkAAAEHAAAAywAAALQAAAH7AAAA0AAAALcA\n",
       "AACaAAABnAAAAP8AAACkAAAAugAAAekAAADkAAAAogAAAeIAAAETAAAAuwAAAM0AAAJKAAAAqQAA\n",
       "AKQAAAC8AAAB5gAAALwAAACrAAAAoAAAAekAAADkAAAAqgAAAMYAAAGXAAAAvwAAAMAAAAC7AAAB\n",
       "qAAAANYAAADBAAAAnAAAAfgAAADMAAAAiQAAAacAAADvAAAA1wAAAMEAAAF9AAAA1QAAALYAAAC9\n",
       "AAABGgAAALMAAADDAAAAuQAAAOcAAAEQAAAA5wAAAMIAAAAUc3RjbwAAAAAAAAABAAAALAAAAGJ1\n",
       "ZHRhAAAAWm1ldGEAAAAAAAAAIWhkbHIAAAAAAAAAAG1kaXJhcHBsAAAAAAAAAAAAAAAALWlsc3QA\n",
       "AAAlqXRvbwAAAB1kYXRhAAAAAQAAAABMYXZmNTcuNDEuMTAw\n",
       "\">\n",
       "  Your browser does not support the video tag.\n",
       "</video>"
      ],
      "text/plain": [
       "<IPython.core.display.HTML object>"
      ]
     },
     "execution_count": 7,
     "metadata": {},
     "output_type": "execute_result"
    }
   ],
   "source": [
    "HTML(anim.to_html5_video())"
   ]
  },
  {
   "cell_type": "code",
   "execution_count": 8,
   "metadata": {
    "collapsed": true
   },
   "outputs": [],
   "source": [
    "# equivalent to rcParams['animation.html'] = 'html5'\n",
    "rc('animation', html='html5')"
   ]
  },
  {
   "cell_type": "code",
   "execution_count": 12,
   "metadata": {
    "collapsed": false
   },
   "outputs": [
    {
     "data": {
      "text/plain": [
       "(<matplotlib.lines.Line2D at 0xd604ac1c88>,)"
      ]
     },
     "execution_count": 12,
     "metadata": {},
     "output_type": "execute_result"
    }
   ],
   "source": [
    "animate(1)"
   ]
  },
  {
   "cell_type": "code",
   "execution_count": 10,
   "metadata": {
    "collapsed": true
   },
   "outputs": [],
   "source": [
    "x = np.linspace(0, 2, 1000)\n",
    "y = np.sin(2 * np.pi * x )"
   ]
  },
  {
   "cell_type": "code",
   "execution_count": 11,
   "metadata": {
    "collapsed": false
   },
   "outputs": [
    {
     "data": {
      "text/plain": [
       "(0, 2)"
      ]
     },
     "execution_count": 11,
     "metadata": {},
     "output_type": "execute_result"
    },
    {
     "data": {
      "image/png": "[encoded data removed]",
      "text/plain": [
       "<matplotlib.figure.Figure at 0xd60576b940>"
      ]
     },
     "metadata": {},
     "output_type": "display_data"
    }
   ],
   "source": [
    "fig, ax = plt.subplots()\n",
    "\n",
    "ax.set_xlim((0,2))"
   ]
  },
  {
   "cell_type": "code",
   "execution_count": 21,
   "metadata": {
    "collapsed": true
   },
   "outputs": [],
   "source": [
    "line, = ax.plot([], [], lw=4)"
   ]
  },
  {
   "cell_type": "code",
   "execution_count": 7,
   "metadata": {
    "collapsed": true
   },
   "outputs": [],
   "source": [
    "ax=fig.add_axes"
   ]
  },
  {
   "cell_type": "code",
   "execution_count": null,
   "metadata": {
    "collapsed": true
   },
   "outputs": [],
   "source": [
    "ax."
   ]
  },
  {
   "cell_type": "code",
   "execution_count": 12,
   "metadata": {
    "collapsed": false
   },
   "outputs": [
    {
     "data": {
      "text/plain": [
       "[<matplotlib.lines.Line2D at 0x858b5c0>]"
      ]
     },
     "execution_count": 12,
     "metadata": {},
     "output_type": "execute_result"
    },
    {
     "data": {
      "image/png": "[encoded data removed]",
      "text/plain": [
       "<matplotlib.figure.Figure at 0x7fcb780>"
      ]
     },
     "metadata": {},
     "output_type": "display_data"
    }
   ],
   "source": [
    "plt.plot(x,y)"
   ]
  },
  {
   "cell_type": "code",
   "execution_count": 14,
   "metadata": {
    "collapsed": false
   },
   "outputs": [
    {
     "ename": "AttributeError",
     "evalue": "'function' object has no attribute 'plot'",
     "traceback": [
      "\u001b[0;31m---------------------------------------------------------------------------\u001b[0m",
      "\u001b[0;31mAttributeError\u001b[0m                            Traceback (most recent call last)",
      "\u001b[0;32m<ipython-input-14-ad11266ff84a>\u001b[0m in \u001b[0;36m<module>\u001b[0;34m()\u001b[0m\n\u001b[0;32m----> 1\u001b[0;31m \u001b[0mline\u001b[0m\u001b[1;33m,\u001b[0m \u001b[1;33m=\u001b[0m \u001b[0max\u001b[0m\u001b[1;33m.\u001b[0m\u001b[0mplot\u001b[0m\u001b[1;33m(\u001b[0m\u001b[1;33m[\u001b[0m\u001b[1;33m]\u001b[0m\u001b[1;33m,\u001b[0m \u001b[1;33m[\u001b[0m\u001b[1;33m]\u001b[0m\u001b[1;33m,\u001b[0m \u001b[0mlw\u001b[0m\u001b[1;33m=\u001b[0m\u001b[1;36m2\u001b[0m\u001b[1;33m)\u001b[0m\u001b[1;33m\u001b[0m\u001b[0m\n\u001b[0m",
      "\u001b[0;31mAttributeError\u001b[0m: 'function' object has no attribute 'plot'"
     ],
     "output_type": "error"
    }
   ],
   "source": [
    "line, = ax.plot([], [], lw=2)"
   ]
  },
  {
   "cell_type": "code",
   "execution_count": 8,
   "metadata": {
    "collapsed": false
   },
   "outputs": [
    {
     "data": {
      "image/png": "[encoded data removed]",
      "text/plain": [
       "<matplotlib.figure.Figure at 0x7c5fa90>"
      ]
     },
     "metadata": {},
     "output_type": "display_data"
    }
   ],
   "source": [
    "# First set up the figure, the axis, and the plot element we want to animate\n",
    "fig2, ax2 = plt.subplots()"
   ]
  },
  {
   "cell_type": "code",
   "execution_count": 10,
   "metadata": {
    "collapsed": false
   },
   "outputs": [
    {
     "data": {
      "text/plain": [
       "[<matplotlib.lines.Line2D at 0x854c128>]"
      ]
     },
     "execution_count": 10,
     "metadata": {},
     "output_type": "execute_result"
    }
   ],
   "source": [
    "x = np.linspace(0, 2, 10)\n",
    "y = np.sin(2 * np.pi * x)\n",
    "ax.plot(x,y)"
   ]
  },
  {
   "cell_type": "code",
   "execution_count": 11,
   "metadata": {
    "collapsed": false
   },
   "outputs": [
    {
     "data": {
      "image/png": "[encoded data removed]",
      "text/plain": [
       "<matplotlib.figure.Figure at 0x7c5fa90>"
      ]
     },
     "execution_count": 11,
     "metadata": {},
     "output_type": "execute_result"
    }
   ],
   "source": [
    "fig2"
   ]
  },
  {
   "cell_type": "code",
   "execution_count": null,
   "metadata": {
    "collapsed": true
   },
   "outputs": [],
   "source": [
    ""
   ]
  }
 ],
 "metadata": {
  "anaconda-cloud": {},
  "kernelspec": {
   "display_name": "Python [conda root]",
   "language": "python",
   "name": "conda-root-py"
  },
  "language_info": {
   "codemirror_mode": {
    "name": "ipython",
    "version": 3.0
   },
   "file_extension": ".py",
   "mimetype": "text/x-python",
   "name": "python",
   "nbconvert_exporter": "python",
   "pygments_lexer": "ipython3",
   "version": "3.5.2"
  }
 },
 "nbformat": 4,
 "nbformat_minor": 0
}