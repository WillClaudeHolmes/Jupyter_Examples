{
 "cells": [
  {
   "cell_type": "markdown",
   "metadata": {
    "collapsed": true
   },
   "source": [
    "<h1>3D Truss Analysis Example</h1>\n",
    "<p>This document demonstrates using Jupyter for vector operations by determinging the axial forces in a simple 3D space truss.</p>\n",
    "<h2>Initialization</h2>\n",
    "<p>The code below imports the required modules into the notebook.  We use <a href = https://docs.scipy.org/doc/numpy-dev/user/quickstart.html>numpy</a> for its <a href = https://docs.scipy.org/doc/numpy-dev/reference/generated/numpy.array.html#numpy.array>arrays</a>.  The <code>nump.linalg</code> gives us <a href = https://docs.scipy.org/doc/numpy/reference/generated/numpy.linalg.norm.html>norm</a> to determine a vectors magnitude.  I use <code>X=0, Y=1, Z=2</code> as index values to return the comonents of a vector.</p>"
   ]
  },
  {
   "cell_type": "code",
   "execution_count": 1,
   "metadata": {
    "collapsed": false
   },
   "outputs": [],
   "source": [
    "from numpy import *\n",
    "from numpy.linalg import *\n",
    "set_printoptions(precision=3, suppress=True)\n",
    "X=0\n",
    "Y=1\n",
    "Z=2"
   ]
  },
  {
   "cell_type": "markdown",
   "metadata": {},
   "source": [
    "<h2>Problem Statement</h2>\n",
    "<p><img src=\"3D Space Truss.jpg\" style=\"float:right;width:3.5in;\">For the image shown to the right, determine all axial forces as well as all reaction forces.  The applied force is $F=\\left( 0, 40kN, 0 \\right)$</p>"
   ]
  },
  {
   "cell_type": "markdown",
   "metadata": {},
   "source": [
    "<p>We define all the ponits for use later in computing unit vectors.  We also define a function to make this a trivial task.</p>"
   ]
  },
  {
   "cell_type": "code",
   "execution_count": 2,
   "metadata": {
    "collapsed": false
   },
   "outputs": [],
   "source": [
    "a=array((1.1, -0.4, 0))\n",
    "b=array((1,0,0))\n",
    "c=array((0,0,0.6))\n",
    "d=array((0,0,-0.4))\n",
    "e=array((0,0.8,0))\n",
    "\n",
    "Fapp=array((0, 40, 0))\n",
    "\n",
    "def λ(a,b):\n",
    "    return (b-a)/norm(b-a)"
   ]
  },
  {
   "cell_type": "markdown",
   "metadata": {},
   "source": [
    "<h2>Joint A</h2>\n",
    "<p>I should have an FBD of joint A here, but I will save that for another update.<p>\n",
    "<p>In vector form, force equilibrium at joint A gives $T_{AB} \\lambda_{AB}+T_{AC} \\lambda_{AC}+T_{AD} \\lambda_{AD}+F_{app}=0$.  We need to calculate the unit vectors.</p>"
   ]
  },
  {
   "cell_type": "code",
   "execution_count": 3,
   "metadata": {
    "collapsed": false,
    "scrolled": true
   },
   "outputs": [
    {
     "name": "stdout",
     "output_type": "stream",
     "text": [
      "The unit vectors λab, λac, λad are: \n",
      " [-0.243  0.97   0.   ] \n",
      " [-0.836  0.304  0.456] \n",
      " [-0.889  0.323 -0.323]\n"
     ]
    }
   ],
   "source": [
    "λab=λ(a,b)\n",
    "λac=λ(a,c)\n",
    "λad=λ(a,d)\n",
    "print('The unit vectors λab, λac, λad are:', '\\n',λab, '\\n',λac,'\\n', λad)"
   ]
  },
  {
   "cell_type": "markdown",
   "metadata": {},
   "source": [
    "<p>We can write the above equilibrium equation in matrx form as $M \\centerdot T = -F_{app}$.</p>\n",
    "<p>In this case, $$T=\\left[ \\begin{array}{c} T_{AB} \\\\ T_{AC} \\\\ T_{AD} \\end{array} \\right]$$\n",
    "and $M$ is composed of the unit vectors as defined in the cell below.</p>"
   ]
  },
  {
   "cell_type": "code",
   "execution_count": 4,
   "metadata": {
    "collapsed": false
   },
   "outputs": [
    {
     "name": "stdout",
     "output_type": "stream",
     "text": [
      "[[-0.243 -0.836 -0.889]\n",
      " [ 0.97   0.304  0.323]\n",
      " [ 0.     0.456 -0.323]]\n"
     ]
    }
   ],
   "source": [
    "m=matrix(((λab[X],λac[X],λad[X]),\n",
    "          (λab[Y],λac[Y],λad[Y]),\n",
    "          (λab[Z],λac[Z],λad[Z])))\n",
    "print(m)"
   ]
  },
  {
   "cell_type": "markdown",
   "metadata": {},
   "source": [
    "<p>The solution is then:\n",
    "$$\\left[ \\begin{array}{c} T_{AB} \\\\ T_{AC} \\\\ T_{AD} \\end{array} \\right]=M^{-1} \\centerdot \\left(-F_{app}\\right)$$which we calculate in the following cells.</p>"
   ]
  },
  {
   "cell_type": "code",
   "execution_count": 5,
   "metadata": {
    "collapsed": false
   },
   "outputs": [
    {
     "name": "stdout",
     "output_type": "stream",
     "text": [
      "[[ 0.412  1.134 -0.   ]\n",
      " [-0.526 -0.132  1.315]\n",
      " [-0.742 -0.186 -1.237]]\n"
     ]
    }
   ],
   "source": [
    "minv=inv(m)\n",
    "print(minv)"
   ]
  },
  {
   "cell_type": "code",
   "execution_count": 6,
   "metadata": {
    "collapsed": false
   },
   "outputs": [
    {
     "name": "stdout",
     "output_type": "stream",
     "text": [
      "The results are TAB=-45.354, TAC=5.261 and TAD=7.422.\n"
     ]
    }
   ],
   "source": [
    "answer=minv.dot(-Fapp)\n",
    "(TAB, TAC, TAD)=answer.tolist()[0]\n",
    "print(\"The results are TAB={:.3f}, TAC={:.3f} and TAD={:.3f}.\".format(TAB, TAC, TAD))"
   ]
  },
  {
   "cell_type": "markdown",
   "metadata": {},
   "source": [
    "<h2>Joint B</h2>\n",
    "<p>We proceed in the exact same way at this joint.  The only difference is that the known force comes from TAB, not an externally applied force.</p>"
   ]
  },
  {
   "cell_type": "code",
   "execution_count": 9,
   "metadata": {
    "collapsed": false,
    "scrolled": true
   },
   "outputs": [
    {
     "name": "stdout",
     "output_type": "stream",
     "text": [
      "[ 0.243 -0.97   0.   ] \n",
      " [-0.857  0.     0.514] \n",
      " [-0.928  0.    -0.371] \n",
      " [-0.781  0.625  0.   ]\n"
     ]
    }
   ],
   "source": [
    "λba=λ(b,a)\n",
    "λbc=λ(b,c)\n",
    "λbd=λ(b,d)\n",
    "λbe=λ(b,e)\n",
    "print(λba, '\\n',λbc,'\\n', λbd,'\\n', λbe)"
   ]
  },
  {
   "cell_type": "code",
   "execution_count": 10,
   "metadata": {
    "collapsed": false
   },
   "outputs": [
    {
     "name": "stdout",
     "output_type": "stream",
     "text": [
      "[[-0.857 -0.928 -0.781]\n",
      " [ 0.     0.     0.625]\n",
      " [ 0.514 -0.371  0.   ]]\n"
     ]
    }
   ],
   "source": [
    "m=matrix(((λbc[X],λbd[X],λbe[X]),\n",
    "          (λbc[Y],λbd[Y],λbe[Y]),\n",
    "          (λbc[Z],λbd[Z],λbe[Z])))\n",
    "print(m)"
   ]
  },
  {
   "cell_type": "code",
   "execution_count": 11,
   "metadata": {
    "collapsed": false
   },
   "outputs": [
    {
     "name": "stdout",
     "output_type": "stream",
     "text": [
      "[[-0.466 -0.583  1.166]\n",
      " [-0.646 -0.808 -1.077]\n",
      " [ 0.     1.601  0.   ]]\n"
     ]
    }
   ],
   "source": [
    "minv=inv(m)\n",
    "print(minv)"
   ]
  },
  {
   "cell_type": "code",
   "execution_count": 12,
   "metadata": {
    "collapsed": false
   },
   "outputs": [
    {
     "name": "stdout",
     "output_type": "stream",
     "text": [
      "[-11.  44.  -0.]\n"
     ]
    }
   ],
   "source": [
    "FonBfromA=TAB * λba #note this is the unit vector from B to A, not A to B.\n",
    "print(FonBfromA)"
   ]
  },
  {
   "cell_type": "code",
   "execution_count": 13,
   "metadata": {
    "collapsed": false
   },
   "outputs": [
    {
     "name": "stdout",
     "output_type": "stream",
     "text": [
      "The results are TBC=20.525, TBD=28.434 and TBE=-70.434.\n"
     ]
    }
   ],
   "source": [
    "answer=minv.dot(-FonBfromA)\n",
    "(TBC, TBD, TBE)=answer.tolist()[0]\n",
    "print(\"The results are TBC={:.3f}, TBD={:.3f} and TBE={:.3f}.\".format(TBC, TBD, TBE))"
   ]
  },
  {
   "cell_type": "markdown",
   "metadata": {},
   "source": [
    "<h2>Joint E</h2>\n",
    "<p>In this case, the equilibrium equation only has the known axial force from BE and the three reaction forces at E.  This makes the equilibrium equation very simple.</p> "
   ]
  },
  {
   "cell_type": "code",
   "execution_count": 15,
   "metadata": {
    "collapsed": false
   },
   "outputs": [
    {
     "name": "stdout",
     "output_type": "stream",
     "text": [
      "[[ 1.  0.  0.]\n",
      " [ 0.  1.  0.]\n",
      " [ 0.  0.  1.]]\n"
     ]
    }
   ],
   "source": [
    "λeb=-λbe\n",
    "m=identity(3)\n",
    "print(m)"
   ]
  },
  {
   "cell_type": "code",
   "execution_count": 16,
   "metadata": {
    "collapsed": false
   },
   "outputs": [
    {
     "data": {
      "text/plain": [
       "array([[ 1.,  0.,  0.],\n",
       "       [ 0.,  1.,  0.],\n",
       "       [ 0.,  0.,  1.]])"
      ]
     },
     "execution_count": 16,
     "metadata": {},
     "output_type": "execute_result"
    }
   ],
   "source": [
    "minv=inv(m)\n",
    "minv"
   ]
  },
  {
   "cell_type": "code",
   "execution_count": 17,
   "metadata": {
    "collapsed": false
   },
   "outputs": [
    {
     "name": "stdout",
     "output_type": "stream",
     "text": [
      "[-55.  44.   0.]\n"
     ]
    }
   ],
   "source": [
    "FonEfromBE= TBE * λeb\n",
    "print(FonEfromBE)"
   ]
  },
  {
   "cell_type": "code",
   "execution_count": 19,
   "metadata": {
    "collapsed": false
   },
   "outputs": [
    {
     "name": "stdout",
     "output_type": "stream",
     "text": [
      "[ 55. -44.   0.]\n"
     ]
    }
   ],
   "source": [
    "E=dot(minv,-FonEfromBE)\n",
    "print(E)"
   ]
  },
  {
   "cell_type": "markdown",
   "metadata": {},
   "source": [
    "<h2>Joint C</h2>"
   ]
  },
  {
   "cell_type": "code",
   "execution_count": 21,
   "metadata": {
    "collapsed": false
   },
   "outputs": [],
   "source": [
    "λca=-λac\n",
    "λcb=-λbc"
   ]
  },
  {
   "cell_type": "code",
   "execution_count": 24,
   "metadata": {
    "collapsed": false
   },
   "outputs": [
    {
     "name": "stdout",
     "output_type": "stream",
     "text": [
      "The force on C from member AC is [ 4.4 -1.6 -2.4] \n",
      "The force on C from member BC is [ 17.6   -0.   -10.56]\n"
     ]
    }
   ],
   "source": [
    "FonCfromAC=TAC * λca\n",
    "FonCfromBC=TBC * λcb\n",
    "print('The force on C from member AC is {} \\n''The force on C from member BC is {}'\n",
    ".format(FonCfromAC, FonCfromBC))"
   ]
  },
  {
   "cell_type": "code",
   "execution_count": 26,
   "metadata": {
    "collapsed": false
   },
   "outputs": [
    {
     "name": "stdout",
     "output_type": "stream",
     "text": [
      "[-22.     1.6   12.96]\n"
     ]
    }
   ],
   "source": [
    "C=dot(minv,-(FonCfromAC+FonCfromBC))\n",
    "print(C)"
   ]
  },
  {
   "cell_type": "markdown",
   "metadata": {},
   "source": [
    "<h2>Joint D</h2>"
   ]
  },
  {
   "cell_type": "code",
   "execution_count": 28,
   "metadata": {
    "collapsed": false
   },
   "outputs": [],
   "source": [
    "λda=-λad\n",
    "λdb=-λbd"
   ]
  },
  {
   "cell_type": "code",
   "execution_count": 29,
   "metadata": {
    "collapsed": false
   },
   "outputs": [
    {
     "name": "stdout",
     "output_type": "stream",
     "text": [
      "[-33.     2.4  -12.96]\n"
     ]
    }
   ],
   "source": [
    "D=dot(minv,-(TAD * λda + TBD * λdb))\n",
    "print(D)"
   ]
  },
  {
   "cell_type": "markdown",
   "metadata": {},
   "source": [
    "<p>We can now check our work.  The sum of the reaction forces should equal the applided force.</p>"
   ]
  },
  {
   "cell_type": "code",
   "execution_count": 30,
   "metadata": {
    "collapsed": false
   },
   "outputs": [
    {
     "name": "stdout",
     "output_type": "stream",
     "text": [
      "[  0. -40.   0.]\n"
     ]
    }
   ],
   "source": [
    "Freaction=C + D + E\n",
    "print(Freaction)"
   ]
  },
  {
   "cell_type": "markdown",
   "metadata": {
    "collapsed": true
   },
   "source": [
    "<p>This is the negative of the applided force</p>"
   ]
  },
  {
   "cell_type": "code",
   "execution_count": 32,
   "metadata": {
    "collapsed": false
   },
   "outputs": [
    {
     "name": "stdout",
     "output_type": "stream",
     "text": [
      "[ 0 40  0]\n"
     ]
    }
   ],
   "source": [
    "print(Fapp)"
   ]
  },
  {
   "cell_type": "code",
   "execution_count": null,
   "metadata": {
    "collapsed": true
   },
   "outputs": [],
   "source": [
    ""
   ]
  }
 ],
 "metadata": {
  "anaconda-cloud": {},
  "kernelspec": {
   "display_name": "Python [conda root]",
   "language": "python",
   "name": "conda-root-py"
  },
  "language_info": {
   "codemirror_mode": {
    "name": "ipython",
    "version": 3.0
   },
   "file_extension": ".py",
   "mimetype": "text/x-python",
   "name": "python",
   "nbconvert_exporter": "python",
   "pygments_lexer": "ipython3",
   "version": "3.5.2"
  }
 },
 "nbformat": 4,
 "nbformat_minor": 0
}