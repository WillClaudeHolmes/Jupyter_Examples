{
 "cells": [
  {
   "cell_type": "markdown",
   "metadata": {
    "collapsed": true
   },
   "source": [
    "<h1>3D Truss Analysis Example</h1>\n",
    "<p>This document demonstrates using Jupyter for vector operations by determinging the axial forces in a simple 3D space truss.</p>"
   ]
  },
  {
   "cell_type": "code",
   "execution_count": 13,
   "metadata": {
    "collapsed": true
   },
   "outputs": [],
   "source": [
    "from numpy import *\n",
    "from scipy.linalg import *\n",
    "from IPython.display import display\n",
    "X=0\n",
    "Y=1\n",
    "Z=2"
   ]
  },
  {
   "cell_type": "code",
   "execution_count": 2,
   "metadata": {
    "collapsed": false
   },
   "outputs": [],
   "source": [
    "a=array((1.1, -0.4, 0))\n",
    "b=array((1,0,0))\n",
    "c=array((0,0,0.6))\n",
    "d=array((0,0,-0.4))\n",
    "e=array((0,0.8,0))"
   ]
  },
  {
   "cell_type": "code",
   "execution_count": 3,
   "metadata": {
    "collapsed": false,
    "scrolled": true
   },
   "outputs": [
    {
     "name": "stdout",
     "output_type": "stream",
     "text": [
      "[-0.24253563  0.9701425   0.        ] \n",
      " [-0.83631451  0.30411437  0.45617155] \n",
      " [-0.88929729  0.32338083 -0.32338083]\n"
     ]
    }
   ],
   "source": [
    "def λ(a,b):\n",
    "    return (b-a)/norm(b-a)\n",
    "λab=λ(a,b)\n",
    "λac=λ(a,c)\n",
    "λad=λ(a,d)\n",
    "print(λab, '\\n',λac,'\\n', λad)"
   ]
  },
  {
   "cell_type": "code",
   "execution_count": 4,
   "metadata": {
    "collapsed": false
   },
   "outputs": [
    {
     "data": {
      "text/plain": [
       "matrix([[-0.24253563, -0.83631451, -0.88929729],\n",
       "        [ 0.9701425 ,  0.30411437,  0.32338083],\n",
       "        [ 0.        ,  0.45617155, -0.32338083]])"
      ]
     },
     "execution_count": 4,
     "metadata": {},
     "output_type": "execute_result"
    }
   ],
   "source": [
    "m=matrix(((λab[X],λac[X],λad[X]),\n",
    "          (λab[Y],λac[Y],λad[Y]),\n",
    "          (λab[Z],λac[Z],λad[Z])))\n",
    "m"
   ]
  },
  {
   "cell_type": "code",
   "execution_count": 5,
   "metadata": {
    "collapsed": false
   },
   "outputs": [
    {
     "data": {
      "text/plain": [
       "array([[  4.12310563e-01,   1.13385405e+00,   1.51255974e-17],\n",
       "       [ -5.26117858e-01,  -1.31529464e-01,   1.31529464e+00],\n",
       "       [ -7.42159013e-01,  -1.85539753e-01,  -1.23693169e+00]])"
      ]
     },
     "execution_count": 5,
     "metadata": {},
     "output_type": "execute_result"
    }
   ],
   "source": [
    "minv=inv(m)\n",
    "minv"
   ]
  },
  {
   "cell_type": "code",
   "execution_count": 6,
   "metadata": {
    "collapsed": false
   },
   "outputs": [
    {
     "data": {
      "text/plain": [
       "(-45.35416188179428, 5.261178575186367, 7.421590126111796)"
      ]
     },
     "execution_count": 6,
     "metadata": {},
     "output_type": "execute_result"
    }
   ],
   "source": [
    "(TAB, TAC, TAD)=dot(minv,array((0,-40,0))).tolist()\n",
    "(TAB, TAC, TAD)"
   ]
  },
  {
   "cell_type": "markdown",
   "metadata": {},
   "source": [
    "<h2>Joint B</h2>"
   ]
  },
  {
   "cell_type": "code",
   "execution_count": 7,
   "metadata": {
    "collapsed": false,
    "scrolled": true
   },
   "outputs": [
    {
     "name": "stdout",
     "output_type": "stream",
     "text": [
      "[ 0.24253563 -0.9701425   0.        ] \n",
      " [-0.85749293  0.          0.51449576] \n",
      " [-0.92847669  0.         -0.37139068] \n",
      " [-0.78086881  0.62469505  0.        ]\n"
     ]
    }
   ],
   "source": [
    "λba=λ(b,a)\n",
    "λbc=λ(b,c)\n",
    "λbd=λ(b,d)\n",
    "λbe=λ(b,e)\n",
    "print(λba, '\\n',λbc,'\\n', λbd,'\\n', λbe)"
   ]
  },
  {
   "cell_type": "code",
   "execution_count": 8,
   "metadata": {
    "collapsed": false
   },
   "outputs": [
    {
     "data": {
      "text/plain": [
       "matrix([[-0.85749293, -0.92847669, -0.78086881],\n",
       "        [ 0.        ,  0.        ,  0.62469505],\n",
       "        [ 0.51449576, -0.37139068,  0.        ]])"
      ]
     },
     "execution_count": 8,
     "metadata": {},
     "output_type": "execute_result"
    }
   ],
   "source": [
    "m=matrix(((λbc[X],λbd[X],λbe[X]),\n",
    "          (λbc[Y],λbd[Y],λbe[Y]),\n",
    "          (λbc[Z],λbd[Z],λbe[Z])))\n",
    "m"
   ]
  },
  {
   "cell_type": "code",
   "execution_count": 9,
   "metadata": {
    "collapsed": false
   },
   "outputs": [
    {
     "data": {
      "text/plain": [
       "array([[-0.46647615, -0.58309519,  1.16619038],\n",
       "       [-0.64621978, -0.80777472, -1.07703296],\n",
       "       [ 0.        ,  1.60078106,  0.        ]])"
      ]
     },
     "execution_count": 9,
     "metadata": {},
     "output_type": "execute_result"
    }
   ],
   "source": [
    "minv=inv(m)\n",
    "minv"
   ]
  },
  {
   "cell_type": "code",
   "execution_count": 10,
   "metadata": {
    "collapsed": false
   },
   "outputs": [
    {
     "data": {
      "text/plain": [
       "array([-11.,  44.,  -0.])"
      ]
     },
     "execution_count": 10,
     "metadata": {},
     "output_type": "execute_result"
    }
   ],
   "source": [
    "TAB * λba"
   ]
  },
  {
   "cell_type": "code",
   "execution_count": 11,
   "metadata": {
    "collapsed": false
   },
   "outputs": [
    {
     "data": {
      "text/plain": [
       "(20.524950669855468, 28.43367018167018, -70.43436661176136)"
      ]
     },
     "execution_count": 11,
     "metadata": {},
     "output_type": "execute_result"
    }
   ],
   "source": [
    "(TBC, TBD, TBE)=dot(minv,-TAB * λba).tolist()\n",
    "(TBC, TBD, TBE)"
   ]
  },
  {
   "cell_type": "markdown",
   "metadata": {},
   "source": [
    "<h2>Joint E</h2>"
   ]
  },
  {
   "cell_type": "code",
   "execution_count": 14,
   "metadata": {
    "collapsed": false
   },
   "outputs": [
    {
     "data": {
      "text/plain": [
       "array([ 0.78086881, -0.62469505, -0.        ])"
      ]
     },
     "metadata": {},
     "output_type": "display_data"
    },
    {
     "data": {
      "text/plain": [
       "array([[ 1.,  0.,  0.],\n",
       "       [ 0.,  1.,  0.],\n",
       "       [ 0.,  0.,  1.]])"
      ]
     },
     "execution_count": 14,
     "metadata": {},
     "output_type": "execute_result"
    }
   ],
   "source": [
    "λeb=-λbe\n",
    "display(λeb)\n",
    "m=identity(3)\n",
    "m"
   ]
  },
  {
   "cell_type": "code",
   "execution_count": 15,
   "metadata": {
    "collapsed": false
   },
   "outputs": [
    {
     "data": {
      "text/plain": [
       "array([[ 1.,  0., -0.],\n",
       "       [ 0.,  1., -0.],\n",
       "       [ 0.,  0.,  1.]])"
      ]
     },
     "execution_count": 15,
     "metadata": {},
     "output_type": "execute_result"
    }
   ],
   "source": [
    "minv=inv(m)\n",
    "minv"
   ]
  },
  {
   "cell_type": "code",
   "execution_count": 16,
   "metadata": {
    "collapsed": false
   },
   "outputs": [
    {
     "data": {
      "text/plain": [
       "array([-55.,  44.,   0.])"
      ]
     },
     "execution_count": 16,
     "metadata": {},
     "output_type": "execute_result"
    }
   ],
   "source": [
    "TBE * λeb"
   ]
  },
  {
   "cell_type": "code",
   "execution_count": 22,
   "metadata": {
    "collapsed": false
   },
   "outputs": [
    {
     "data": {
      "text/plain": [
       "array([ 55., -44.,   0.])"
      ]
     },
     "execution_count": 22,
     "metadata": {},
     "output_type": "execute_result"
    }
   ],
   "source": [
    "E=dot(minv,-TBE * λeb)\n",
    "E"
   ]
  },
  {
   "cell_type": "markdown",
   "metadata": {},
   "source": [
    "<h2>Joint C</h2>"
   ]
  },
  {
   "cell_type": "code",
   "execution_count": 26,
   "metadata": {
    "collapsed": false
   },
   "outputs": [],
   "source": [
    "λca=-λac\n",
    "λcb=-λbc"
   ]
  },
  {
   "cell_type": "code",
   "execution_count": 28,
   "metadata": {
    "collapsed": false
   },
   "outputs": [
    {
     "name": "stdout",
     "output_type": "stream",
     "text": [
      "[ 4.4 -1.6 -2.4] \n",
      " [ 17.6   -0.   -10.56]\n"
     ]
    }
   ],
   "source": [
    "print(TAC * λca, '\\n', TBC * λcb)"
   ]
  },
  {
   "cell_type": "code",
   "execution_count": 31,
   "metadata": {
    "collapsed": false
   },
   "outputs": [
    {
     "data": {
      "text/plain": [
       "array([-22.  ,   1.6 ,  12.96])"
      ]
     },
     "execution_count": 31,
     "metadata": {},
     "output_type": "execute_result"
    }
   ],
   "source": [
    "C=dot(minv,-(TAC * λca+TBC * λcb))\n",
    "C"
   ]
  },
  {
   "cell_type": "markdown",
   "metadata": {},
   "source": [
    "<h2>Joint D</h2>"
   ]
  },
  {
   "cell_type": "code",
   "execution_count": 33,
   "metadata": {
    "collapsed": false
   },
   "outputs": [],
   "source": [
    "λda=-λad\n",
    "λdb=-λbd"
   ]
  },
  {
   "cell_type": "code",
   "execution_count": 34,
   "metadata": {
    "collapsed": false
   },
   "outputs": [
    {
     "data": {
      "text/plain": [
       "array([-33.  ,   2.4 , -12.96])"
      ]
     },
     "execution_count": 34,
     "metadata": {},
     "output_type": "execute_result"
    }
   ],
   "source": [
    "D=dot(minv,-(TAD * λda + TBD * λdb))\n",
    "D"
   ]
  },
  {
   "cell_type": "code",
   "execution_count": 36,
   "metadata": {
    "collapsed": false
   },
   "outputs": [
    {
     "data": {
      "text/plain": [
       "array([  0.00000000e+00,  -4.00000000e+01,   3.55271368e-15])"
      ]
     },
     "execution_count": 36,
     "metadata": {},
     "output_type": "execute_result"
    }
   ],
   "source": [
    "C + D + E"
   ]
  },
  {
   "cell_type": "code",
   "execution_count": null,
   "metadata": {
    "collapsed": true
   },
   "outputs": [],
   "source": []
  }
 ],
 "metadata": {
  "anaconda-cloud": {},
  "kernelspec": {
   "display_name": "Python [conda root]",
   "language": "python",
   "name": "conda-root-py"
  },
  "language_info": {
   "codemirror_mode": {
    "name": "ipython",
    "version": 3
   },
   "file_extension": ".py",
   "mimetype": "text/x-python",
   "name": "python",
   "nbconvert_exporter": "python",
   "pygments_lexer": "ipython3",
   "version": "3.5.2"
  }
 },
 "nbformat": 4,
 "nbformat_minor": 0
}
