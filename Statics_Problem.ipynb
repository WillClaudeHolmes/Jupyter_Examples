{
 "cells": [
  {
   "cell_type": "code",
   "execution_count": 1,
   "metadata": {
    "collapsed": true
   },
   "outputs": [],
   "source": [
    "#import stuff for working with matrices.\n",
    "from numpy import *\n",
    "from numpy.linalg import inv\n",
    "#Set printing of numpy items to 3 decimal points.\n",
    "set_printoptions(precision = 3)\n",
    "#Use X, Y, Z for matrix indexing.\n",
    "X, Y, Z =(0, 1, 2)\n",
    "\n",
    "#Define function for calculating unit vector from given input vector.\n",
    "def λ(v):\n",
    "    return v/sqrt(v.dot(v))"
   ]
  },
  {
   "cell_type": "markdown",
   "metadata": {},
   "source": [
    "# Problem 3.50 (Statics by Hibbler 6<sup>th</sup> Edition)\n",
    "<img src=\"Statics_Problem.png\" style=\"float:right;width:3.5in;\">Using the figure to the right, determine the tensions in cables AB and AC. The\n",
    "applied force F is $500\\ lbf$, $F = 500\\ lbf$, and the tension in cable AD\n",
    "is 210 lbf, $T_{\\text{AD}} = 210\\ lbf$. For this problem, you must complete\n",
    "the following steps.\n",
    "1.  Determine the unit vectors AB and AC and AD\n",
    "2.  Write down force equilibrium conditions for point A.\n",
    "3.  Clearly Indicate the two equations you need to solve to determine the\n",
    "    tensions $T_{AB}$ and $T_{AC}$. This may be in matrix form\n",
    "    or as written out equations.\n",
    "4.  Solve your two equations for $T_{AB}$ and $T_{AC}$ using\n",
    "    whatever method you wish.\n",
    "5.  In step 2, you should have written down three equations for force\n",
    "    equilibrium at point A. You then used two of them to solve for\n",
    "    $T_{AB}$ and $T_{AC}$. Check your answers for\n",
    "    $T_{AB}$ and $T_{AC}$ using the third equation. Clearly indicate if your answer is correct or incorrect. If it is incorrect and time remains, correct your errors."
   ]
  },
  {
   "cell_type": "markdown",
   "metadata": {},
   "source": [
    "## Problem Overview\n",
    "The fundamental idea for this problem is to complete a free body diagram for point A.  In this case, we have one applied force and a known cable tension force.  Even though this is a 3D FBD which can give us three equilibrium equations, we only need two equations to solve the problem.  We will use two equations and then use the third as a check of our work.  Our Equilibrium Equation is then:\n",
    "$$F_{AB}\\lambda_{AB}+F_{AC}\\lambda_{AC}+F_{AD}\\lambda_{AD}+F_{app}=0$$"
   ]
  },
  {
   "cell_type": "markdown",
   "metadata": {},
   "source": [
    "## Unit Vectors\n",
    "To solve this, we first need to determine the unit vectors.  To find the unit vectors we write down the points, find the position vectors, and then find the unit vectors."
   ]
  },
  {
   "cell_type": "code",
   "execution_count": 2,
   "metadata": {
    "collapsed": false,
    "scrolled": false
   },
   "outputs": [
    {
     "name": "stdout",
     "output_type": "stream",
     "text": [
      "The unit vectors are:\n",
      " λ_AB= [ 0.429 -0.286 -0.857] \n",
      " λ_AC= [-0.442 -0.147 -0.885] \n",
      " λ_AD= [-0.286  0.429 -0.857]\n"
     ]
    }
   ],
   "source": [
    "A=array([ 0,  0,  6])\n",
    "B=array([3,  -2,  0])\n",
    "C=array([-3, -1,  0])\n",
    "D=array([-2,  3,  0])\n",
    "λ_AB=λ(B-A)\n",
    "λ_AC=λ(C-A)\n",
    "λ_AD=λ(D-A)\n",
    "print(\"The unit vectors are:\\n λ_AB=\",λ_AB,\"\\n λ_AC=\",λ_AC,\"\\n λ_AD=\",λ_AD)"
   ]
  },
  {
   "cell_type": "markdown",
   "metadata": {},
   "source": [
    "## Applied Forces\n",
    "We are given values for the applied force and $T_{AD}$."
   ]
  },
  {
   "cell_type": "code",
   "execution_count": 3,
   "metadata": {
    "collapsed": false
   },
   "outputs": [
    {
     "name": "stdout",
     "output_type": "stream",
     "text": [
      "F_app is:\n",
      " [   0.    0.  500.]\n",
      "\n",
      "F_AD is:\n",
      " [ -60.   90. -180.]\n"
     ]
    }
   ],
   "source": [
    "F_app=array([0, 0, 500.])\n",
    "print(\"F_app is:\\n\",F_app)\n",
    "T_AD=210\n",
    "F_AD=T_AD*λ_AD\n",
    "print(\"\\nF_AD is:\\n\",F_AD)"
   ]
  },
  {
   "cell_type": "markdown",
   "metadata": {},
   "source": [
    "## Equilibrium\n",
    "The equilibrium equation, $F_{AB}\\lambda_{AB}+F_{AC}\\lambda_{AC}+F_{AD}\\lambda_{AD}+F_{app}=0$, is then:\n",
    "\n",
    "$$\\mathbf{M} \\left[ \\begin{array}{c}T_{AB}\\\\T_{AC}\\end{array} \\right] = -F_{app} - F_{AD}$$\n",
    "\n",
    "Using the x and y equations, the matrix $\\mathbf{M}$ is defined below."
   ]
  },
  {
   "cell_type": "code",
   "execution_count": 4,
   "metadata": {
    "collapsed": false,
    "scrolled": false
   },
   "outputs": [
    {
     "name": "stdout",
     "output_type": "stream",
     "text": [
      "[[ 0.429 -0.442]\n",
      " [-0.286 -0.147]]\n"
     ]
    }
   ],
   "source": [
    "M=array([[λ_AB[X],λ_AC[X]],\n",
    "          [λ_AB[Y],λ_AC[Y]]])\n",
    "print(M)"
   ]
  },
  {
   "cell_type": "markdown",
   "metadata": {},
   "source": [
    "The matrix $\\mathbf{M}$ could also be formed using the [numpy stack](https://docs.scipy.org/doc/numpy/reference/generated/numpy.stack.html#numpy.stack) function to combine the unit vectors into an array.  The code below does this and gives the same result as above.  The code `axis=-1` tells stack to place the columns side by side rather than as one long array.  The code `[0:2,:]` is a [python slice](http://stackoverflow.com/a/509295/6854613) and returns only the x and y components."
   ]
  },
  {
   "cell_type": "code",
   "execution_count": 5,
   "metadata": {
    "collapsed": false
   },
   "outputs": [
    {
     "name": "stdout",
     "output_type": "stream",
     "text": [
      "[[ 0.429 -0.442]\n",
      " [-0.286 -0.147]]\n"
     ]
    }
   ],
   "source": [
    "M=stack((λ_AB,λ_AC),axis=-1)[0:2,:]\n",
    "print(M)"
   ]
  },
  {
   "cell_type": "markdown",
   "metadata": {},
   "source": [
    "The RHS, $-F_{app} - F_{AD}$, is"
   ]
  },
  {
   "cell_type": "code",
   "execution_count": 6,
   "metadata": {
    "collapsed": false
   },
   "outputs": [
    {
     "data": {
      "text/plain": [
       "array([ 60., -90.])"
      ]
     },
     "execution_count": 6,
     "metadata": {},
     "output_type": "execute_result"
    }
   ],
   "source": [
    "RHS=(-F_app-F_AD)[0:2]\n",
    "RHS"
   ]
  },
  {
   "cell_type": "markdown",
   "metadata": {},
   "source": [
    "## Solution\n",
    "The inverse of $\\mathbf{M}$ is:"
   ]
  },
  {
   "cell_type": "code",
   "execution_count": 7,
   "metadata": {
    "collapsed": false,
    "scrolled": true
   },
   "outputs": [
    {
     "name": "stdout",
     "output_type": "stream",
     "text": [
      "[[ 0.778 -2.333]\n",
      " [-1.507 -2.261]]\n"
     ]
    }
   ],
   "source": [
    "print(inv(M))"
   ]
  },
  {
   "cell_type": "markdown",
   "metadata": {},
   "source": [
    "The solution for the tensions, $T_{AB}$ and $T_{AC}$, is then:"
   ]
  },
  {
   "cell_type": "code",
   "execution_count": 8,
   "metadata": {
    "collapsed": false
   },
   "outputs": [
    {
     "name": "stdout",
     "output_type": "stream",
     "text": [
      "The solution is\n",
      " T_AB =  256.666666667 \n",
      " T_AC =  113.038833052\n"
     ]
    }
   ],
   "source": [
    "solutions=inv(M).dot(RHS)\n",
    "T_AB, T_AC =[solutions[0],solutions[1]]\n",
    "print('The solution is\\n T_AB = ',T_AB,'\\n T_AC = ',T_AC)"
   ]
  },
  {
   "cell_type": "markdown",
   "metadata": {
    "collapsed": true
   },
   "source": [
    "We can check our solution using equilibrium in the z direction.  Our Z eqation is:\n",
    "$$F_{AB}\\lambda_{AB}+F_{AC}\\lambda_{AC}+F_{AD}\\lambda_{AD}+F_{app}=0$$"
   ]
  },
  {
   "cell_type": "code",
   "execution_count": 9,
   "metadata": {
    "collapsed": false
   },
   "outputs": [
    {
     "data": {
      "text/plain": [
       "0.0"
      ]
     },
     "execution_count": 9,
     "metadata": {},
     "output_type": "execute_result"
    }
   ],
   "source": [
    "T_AB*λ_AB[Z]+T_AC*λ_AC[Z]+T_AD*λ_AD[Z]+F_app[Z]"
   ]
  },
  {
   "cell_type": "markdown",
   "metadata": {},
   "source": [
    "Since the above equation does give zero, the system is in equilibrium in the z direction.  Note that we could also run this check with all the equations as shown below."
   ]
  },
  {
   "cell_type": "code",
   "execution_count": 10,
   "metadata": {
    "collapsed": false
   },
   "outputs": [
    {
     "data": {
      "text/plain": [
       "array([ 0.,  0.,  0.])"
      ]
     },
     "execution_count": 10,
     "metadata": {},
     "output_type": "execute_result"
    }
   ],
   "source": [
    "T_AB*λ_AB+T_AC*λ_AC+T_AD*λ_AD+F_app"
   ]
  }
 ],
 "metadata": {
  "anaconda-cloud": {},
  "celltoolbar": "Raw Cell Format",
  "kernelspec": {
   "display_name": "Python [conda root]",
   "language": "python",
   "name": "conda-root-py"
  },
  "language_info": {
   "codemirror_mode": {
    "name": "ipython",
    "version": 3
   },
   "file_extension": ".py",
   "mimetype": "text/x-python",
   "name": "python",
   "nbconvert_exporter": "python",
   "pygments_lexer": "ipython3",
   "version": "3.5.2"
  }
 },
 "nbformat": 4,
 "nbformat_minor": 1
}
