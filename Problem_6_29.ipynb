{
 "cells": [
  {
   "cell_type": "markdown",
   "metadata": {},
   "source": [
    "# Problem 6.29 from Callister\n",
    "A cylindrical specimen of aluminum having a diameter of 0.505 in (12.8 mm) and a guage length of 2.000 in (50.800 mm) is pulled in tension.  Use the load - elongation characteristics shown in the following table to complete the following:\n",
    "1. Plot the data as engineering stress versus engineering strain.\n",
    "1. Compute the modulus of elasticity.\n",
    "1. Determine the yield strength using a strain offset of 0.002.\n",
    "1. Determine the ultimate tensile strength of this allow.\n",
    "1. Determine the ductility in percent elongation.\n",
    "1. Compute the modulus of resilience."
   ]
  },
  {
   "cell_type": "markdown",
   "metadata": {},
   "source": [
    "## Read Values and Calculate Stress and Strain\n",
    "The values given in the problem are stored in an external comma separated file.  We read them into this notebook using pandas.  This creates a [DataFrame](http://pandas.pydata.org/pandas-docs/stable/dsintro.html#dataframe) object."
   ]
  },
  {
   "cell_type": "code",
   "execution_count": 1,
   "metadata": {
    "collapsed": false,
    "scrolled": false
   },
   "outputs": [
    {
     "data": {
      "text/html": [
       "<div>\n",
       "<table border=\"1\" class=\"dataframe\">\n",
       "  <thead>\n",
       "    <tr style=\"text-align: right;\">\n",
       "      <th></th>\n",
       "      <th>Load (N)</th>\n",
       "      <th>Length (mm)</th>\n",
       "    </tr>\n",
       "  </thead>\n",
       "  <tbody>\n",
       "    <tr>\n",
       "      <th>0</th>\n",
       "      <td>0</td>\n",
       "      <td>50.800</td>\n",
       "    </tr>\n",
       "    <tr>\n",
       "      <th>1</th>\n",
       "      <td>7330</td>\n",
       "      <td>50.851</td>\n",
       "    </tr>\n",
       "    <tr>\n",
       "      <th>2</th>\n",
       "      <td>15100</td>\n",
       "      <td>50.902</td>\n",
       "    </tr>\n",
       "    <tr>\n",
       "      <th>3</th>\n",
       "      <td>23100</td>\n",
       "      <td>50.952</td>\n",
       "    </tr>\n",
       "    <tr>\n",
       "      <th>4</th>\n",
       "      <td>30400</td>\n",
       "      <td>51.003</td>\n",
       "    </tr>\n",
       "    <tr>\n",
       "      <th>5</th>\n",
       "      <td>34400</td>\n",
       "      <td>51.054</td>\n",
       "    </tr>\n",
       "    <tr>\n",
       "      <th>6</th>\n",
       "      <td>38400</td>\n",
       "      <td>51.308</td>\n",
       "    </tr>\n",
       "    <tr>\n",
       "      <th>7</th>\n",
       "      <td>41300</td>\n",
       "      <td>51.816</td>\n",
       "    </tr>\n",
       "    <tr>\n",
       "      <th>8</th>\n",
       "      <td>44800</td>\n",
       "      <td>52.832</td>\n",
       "    </tr>\n",
       "    <tr>\n",
       "      <th>9</th>\n",
       "      <td>46200</td>\n",
       "      <td>53.848</td>\n",
       "    </tr>\n",
       "  </tbody>\n",
       "</table>\n",
       "</div>"
      ],
      "text/plain": [
       "   Load (N)  Length (mm)\n",
       "0         0       50.800\n",
       "1      7330       50.851\n",
       "2     15100       50.902\n",
       "3     23100       50.952\n",
       "4     30400       51.003\n",
       "5     34400       51.054\n",
       "6     38400       51.308\n",
       "7     41300       51.816\n",
       "8     44800       52.832\n",
       "9     46200       53.848"
      ]
     },
     "execution_count": 1,
     "metadata": {},
     "output_type": "execute_result"
    }
   ],
   "source": [
    "import pandas as pd; import numpy as np;from math import *\n",
    "Data=pd.read_csv('6_29.csv');\n",
    "Data.head(10)"
   ]
  },
  {
   "cell_type": "markdown",
   "metadata": {},
   "source": [
    "We then calculate the stress and strain.  In doing so we create new Numpy arrays since we are mainly need to numerical calculations."
   ]
  },
  {
   "cell_type": "code",
   "execution_count": 2,
   "metadata": {
    "collapsed": false,
    "scrolled": false
   },
   "outputs": [],
   "source": [
    "d=12.8; area=pi*(d/2)**2;\n",
    "Stress = Data[\"Load (N)\"].values/area"
   ]
  },
  {
   "cell_type": "code",
   "execution_count": 3,
   "metadata": {
    "collapsed": false,
    "scrolled": false
   },
   "outputs": [],
   "source": [
    "l_0=50.800\n",
    "Strain = (Data[\"Length (mm)\"]-l_0).values/l_0"
   ]
  },
  {
   "cell_type": "markdown",
   "metadata": {},
   "source": [
    "## Plot the data as engineering stress versus engineering strain."
   ]
  },
  {
   "cell_type": "code",
   "execution_count": 4,
   "metadata": {
    "collapsed": false,
    "scrolled": false
   },
   "outputs": [],
   "source": [
    "from matplotlib import pyplot as plt\n",
    "import matplotlib\n",
    "%matplotlib inline"
   ]
  },
  {
   "cell_type": "code",
   "execution_count": 5,
   "metadata": {
    "collapsed": true,
    "scrolled": false
   },
   "outputs": [],
   "source": [
    "def format_plot(a):\n",
    "    \"\"\"Format a plot for presenation.  Function takes one parameter, a matplotlib.axes object.\"\"\"\n",
    "    fsx = 4.5\n",
    "    fsy = 4.5\n",
    "\n",
    "    a.tick_params(labelsize=14)\n",
    "    a.xaxis.label.set_size(16)\n",
    "    a.yaxis.label.set_size(16)\n",
    "    a.title.set_size(16)\n",
    "    a.get_figure().set_size_inches(fsx, fsy)\n",
    "    a.grid(1)"
   ]
  },
  {
   "cell_type": "code",
   "execution_count": 6,
   "metadata": {
    "collapsed": false,
    "scrolled": false
   },
   "outputs": [
    {
     "data": {
      "image/png": "[encoded data removed]",
      "text/plain": [
       "<matplotlib.figure.Figure at 0x9e4c320>"
      ]
     },
     "metadata": {},
     "output_type": "display_data"
    }
   ],
   "source": [
    "MyFigure, MyAxes = plt.subplots(1, 1);\n",
    "MyAxes.plot(Strain,Stress,'-o');MyAxes.set_xlabel(\"Strain\");MyAxes.set_ylabel(\"Stress in MPa\")\n",
    "MyAxes.set_xlim((0,0.20));MyAxes.set_ylim((0,400))\n",
    "format_plot(MyAxes)"
   ]
  },
  {
   "cell_type": "markdown",
   "metadata": {},
   "source": [
    "## Compute the modulus of elasticity\n",
    "For this, we to calculate the slope of the first few data points.  For this, we will use the [linear regression function](https://docs.scipy.org/doc/scipy-0.14.0/reference/generated/scipy.stats.linregress.html) from [SciPy](https://docs.scipy.org/doc/scipy-0.14.0/reference/index.html)"
   ]
  },
  {
   "cell_type": "code",
   "execution_count": 7,
   "metadata": {
    "collapsed": false,
    "scrolled": false
   },
   "outputs": [
    {
     "name": "stdout",
     "output_type": "stream",
     "text": [
      "The modulus of elasticity is 60005 MPA. \n",
      "The intercept is -1.6\n"
     ]
    }
   ],
   "source": [
    "from scipy.stats import linregress\n",
    "(m,b)=linregress(Strain[0:4],Stress[0:4])[0:2];\n",
    "print(\"The modulus of elasticity is {:.0f} MPA. \\nThe intercept is {:3.1f}\".format(m,b))"
   ]
  },
  {
   "cell_type": "markdown",
   "metadata": {},
   "source": [
    "We will now plot the data with the linear line."
   ]
  },
  {
   "cell_type": "code",
   "execution_count": 8,
   "metadata": {
    "collapsed": false,
    "scrolled": false
   },
   "outputs": [
    {
     "data": {
      "image/png": "[encoded data removed]",
      "text/plain": [
       "<matplotlib.figure.Figure at 0xc03c9b0>"
      ]
     },
     "metadata": {},
     "output_type": "display_data"
    }
   ],
   "source": [
    "s=np.linspace(0,Strain[4],2)\n",
    "y=m*s+b\n",
    "FigureB, AxesB = plt.subplots(1, 1);\n",
    "AxesB.plot (Strain,Stress,'o'); AxesB.set_xlabel(\"Strain\"); AxesB.set_ylabel(\"Stress in MPa\")\n",
    "AxesB.plot(s,y);AxesB.set_xlim(0,.1);AxesB.set_ylim(0,400);\n",
    "format_plot(AxesB)"
   ]
  },
  {
   "cell_type": "markdown",
   "metadata": {},
   "source": [
    "## Determine the yield strength using a strain offset of 0.002\n",
    "We will graphical determine where a line with an offset of 0.002 intercepts the data."
   ]
  },
  {
   "cell_type": "code",
   "execution_count": 9,
   "metadata": {
    "collapsed": false,
    "scrolled": false
   },
   "outputs": [
    {
     "name": "stdout",
     "output_type": "stream",
     "text": [
      "The yield strength is 278.\n"
     ]
    },
    {
     "data": {
      "image/png": "[encoded data removed]",
      "text/plain": [
       "<matplotlib.figure.Figure at 0xc03c9b0>"
      ]
     },
     "execution_count": 9,
     "metadata": {},
     "output_type": "execute_result"
    }
   ],
   "source": [
    "offset=0.002\n",
    "σ_ys=278; ss=np.linspace(0,0.01,2)\n",
    "yy=m*ss+b\n",
    "AxesB.plot(ss+offset,yy);AxesB.set_xlim(0,.02);AxesB.set_ylim(0,400);\n",
    "AxesB.axhline(σ_ys,c='k');\n",
    "AxesB.add_line(matplotlib.lines.Line2D(Strain[5:7],Stress[5:7]));\n",
    "print(\"The yield strength is {:.0f}.\".format(σ_ys))\n",
    "FigureB"
   ]
  },
  {
   "cell_type": "markdown",
   "metadata": {},
   "source": [
    "## Determine the ultimate tensile strength of this alloy\n",
    "This is the maximum value of the stress."
   ]
  },
  {
   "cell_type": "code",
   "execution_count": 10,
   "metadata": {
    "collapsed": false,
    "scrolled": false
   },
   "outputs": [
    {
     "name": "stdout",
     "output_type": "stream",
     "text": [
      "The ultimate tensile strength is 369 MPa\n"
     ]
    }
   ],
   "source": [
    "print(\"The ultimate tensile strength is {:.0f} MPa\".format(Stress.max()))"
   ]
  },
  {
   "cell_type": "markdown",
   "metadata": {},
   "source": [
    "## Determine the ductility in percent elongation\n",
    "This is the maximum of the strain."
   ]
  },
  {
   "cell_type": "code",
   "execution_count": 11,
   "metadata": {
    "collapsed": false,
    "scrolled": false
   },
   "outputs": [
    {
     "name": "stdout",
     "output_type": "stream",
     "text": [
      "The strain at fracture is 0.165\n"
     ]
    }
   ],
   "source": [
    "print(\"The strain at fracture is {:.3f}\".format(Strain.max()))"
   ]
  },
  {
   "cell_type": "markdown",
   "metadata": {},
   "source": [
    "## Compute the modulus of resilience\n",
    "The modulus of resilience is the area under the curve of the stress - stain plot.  The code below calculates that area by approximating that area as rectangles. "
   ]
  },
  {
   "cell_type": "code",
   "execution_count": 12,
   "metadata": {
    "collapsed": false,
    "scrolled": false
   },
   "outputs": [
    {
     "name": "stdout",
     "output_type": "stream",
     "text": [
      "The modulus of resilience is 55.9 MPa\n"
     ]
    }
   ],
   "source": [
    "a=Strain[0:len(Data.index)-1]; b=Strain[1:len(Data.index)];Δϵ=b-a;\n",
    "a=Stress[0:len(Data.index)-1]; b=Stress[1:len(Data.index)]; h=(a+b)/2;\n",
    "area=Δϵ*h;\n",
    "print('The modulus of resilience is {:.1f} MPa'.format(area.sum()))"
   ]
  },
  {
   "cell_type": "markdown",
   "metadata": {},
   "source": [
    "The plot below shows the stress stain curve with the area calculation rectangles."
   ]
  },
  {
   "cell_type": "code",
   "execution_count": 13,
   "metadata": {
    "collapsed": false,
    "scrolled": false
   },
   "outputs": [
    {
     "data": {
      "image/png": "[encoded data removed]",
      "text/plain": [
       "<matplotlib.figure.Figure at 0x9e4c320>"
      ]
     },
     "execution_count": 13,
     "metadata": {},
     "output_type": "execute_result"
    }
   ],
   "source": [
    "MyAxes.bar(Strain[0:len(Strain)-1]+Δϵ/2, h, Δϵ, alpha=0.2, color='b'); MyFigure"
   ]
  }
 ],
 "metadata": {
  "anaconda-cloud": {},
  "kernelspec": {
   "display_name": "Python [default]",
   "language": "python",
   "name": "python3"
  },
  "language_info": {
   "codemirror_mode": {
    "name": "ipython",
    "version": 3
   },
   "file_extension": ".py",
   "mimetype": "text/x-python",
   "name": "python",
   "nbconvert_exporter": "python",
   "pygments_lexer": "ipython3",
   "version": "3.5.2"
  }
 },
 "nbformat": 4,
 "nbformat_minor": 1
}
