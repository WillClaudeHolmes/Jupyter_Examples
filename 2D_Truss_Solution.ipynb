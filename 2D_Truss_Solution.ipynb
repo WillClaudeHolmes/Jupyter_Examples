{
 "cells": [
  {
   "cell_type": "markdown",
   "metadata": {},
   "source": [
    "Solution of 2D Truss Problems\n",
    "=============================\n",
    "<img src=\"2D_Truss.png\" style=\"float:right;width:4.5in;\">This notebook solves for the axial forces in a 2D Truss.  Specifically, it determines the axial forces in the truss shown to the right.  In this notebook, we use a [pandas data frame](http://pandas.pydata.org/pandas-docs/stable/dsintro.html#dataframe) to store the joint locations.  This allows us to easily reference the joint locations with single letter joint label.  The axial forces are calculated using the process of method of joints.  This is automated by the function [SolveJoint](#Code-for-Solving-Equilibrium-Equations) which forms and solves the equilibrium equations for a joint.  SolveJoint does this by forming and solving a matrix equation which represents the equilibrium conditions."
   ]
  },
  {
   "cell_type": "markdown",
   "metadata": {},
   "source": [
    "## Initialization and Code"
   ]
  },
  {
   "cell_type": "code",
   "execution_count": 1,
   "metadata": {
    "collapsed": false
   },
   "outputs": [
    {
     "data": {
      "text/plain": [
       "'%.1f'"
      ]
     },
     "execution_count": 1,
     "metadata": {},
     "output_type": "execute_result"
    }
   ],
   "source": [
    "from matplotlib import pyplot\n",
    "import matplotlib\n",
    "from matplotlib import markers\n",
    "import numpy as np\n",
    "import pandas as pd\n",
    "np.set_printoptions(precision = 1)\n",
    "%precision 1\n",
    "\n",
    "#from IPython.core.interactiveshell import InteractiveShell\n",
    "#InteractiveShell.ast_node_interactivity = \"all\""
   ]
  },
  {
   "cell_type": "markdown",
   "metadata": {},
   "source": [
    "## Code for Plotting Joints / Members\n",
    "The code below uses matplotlib to plot the truss.  These function enable us to visually check the definition of\n",
    "\n",
    "-  `LabeledPoints` plots the points passed through a pandas data frame on a matplotlib axes object.  'LabeledPoints' uses the [scatter](http://matplotlib.org/api/_as_gen/matplotlib.axes.Axes.scatter.html#matplotlib.axes.Axes.scatter) method of the [axes class](http://matplotlib.org/api/axes_api.html).  The proper order of plotting (lines behind points behind text) is set by the zorder parameter as described in this [example](http://matplotlib.org/examples/pylab_examples/zorder_demo.html).\n",
    "- `PlaceLabel` adds [text](http://matplotlib.org/api/_as_gen/matplotlib.axes.Axes.text.html#matplotlib.axes.Axes.text) to the point.\n",
    "- `MakeLines` adds the members (or elements) to the figure.  The list llist passes the points to connect as a list of strings.  For instance llist=['AB','AF','CD'] makes connecting lines between points A and B, A and F, as well as C and D.  An individual row from the passed data frame is returned by [.loc](http://pandas.pydata.org/pandas-docs/stable/generated/pandas.DataFrame.loc.html) which is also [described in the introduction pages](http://pandas.pydata.org/pandas-docs/stable/dsintro.html#indexing-selection)."
   ]
  },
  {
   "cell_type": "code",
   "execution_count": 2,
   "metadata": {
    "collapsed": false
   },
   "outputs": [],
   "source": [
    "TextKwargs={'ha':'center','va':'center'}\n",
    "ms = markers.MarkerStyle(marker='o',fillstyle='full')\n",
    "def PlaceLabel(t,axes):\n",
    "    axes.text(t[1],t[2],s=t[0],**TextKwargs)\n",
    "\n",
    "def LabeledPoints(df,axes):\n",
    "    c='w'#[0]*df.shape[0]\n",
    "    axes.scatter(df.values[:,0],df.values[:,1],s= 200,marker=ms,c=c,\n",
    "                 alpha=1,edgecolors='k',zorder=3)\n",
    "    for r in df.itertuples():\n",
    "        PlaceLabel(r,axes)\n",
    "        \n",
    "def MakeLines(df,llist,axes):\n",
    "    for l in llist:\n",
    "        x=(df.loc[l[0]].values[0],df.loc[l[1]].values[0])\n",
    "        y=(df.loc[l[0]].values[1],df.loc[l[1]].values[1])\n",
    "        axes.add_line(matplotlib.lines.Line2D(x,y))"
   ]
  },
  {
   "cell_type": "markdown",
   "metadata": {},
   "source": [
    "## Code for Solving Equilibrium Equations\n",
    "`SolveJoint` solves joint equilibrium equations.  The parameter `mlist` passes it a list of the members which connect to the joint.  It determines the unit vectors in each member's direction and [stacks](https://docs.scipy.org/doc/numpy/reference/generated/numpy.stack.html#numpy.stack) these unit vectors to form a matrix.  The axial force is returned by [inverting](https://docs.scipy.org/doc/numpy/reference/generated/numpy.linalg.inv.html) that matrix and [multiplying](https://docs.scipy.org/doc/numpy/reference/generated/numpy.dot.html#numpy.dot) by the external force applied to the joint.  This external force is passed as a numpy array trough Fapp."
   ]
  },
  {
   "cell_type": "code",
   "execution_count": 3,
   "metadata": {
    "collapsed": false
   },
   "outputs": [],
   "source": [
    "from numpy.linalg import inv\n",
    "from numpy.linalg import norm\n",
    "#def λ(v):\n",
    "#    return v/norm(v)\n",
    "def λ(m,points):\n",
    "    l=(Points.loc[m[1]].values-Points.loc[m[0]].values)\n",
    "    return l/norm(l)\n",
    "\n",
    "def SolveJoint(mlist,points,Fapp):\n",
    "    M=1\n",
    "    for m in mlist:\n",
    "        l=λ(m,points)\n",
    "        if not isinstance(M,np.ndarray):\n",
    "            M=l\n",
    "        else:\n",
    "            M=np.stack((M,l),axis=-1)\n",
    "    return inv(M).dot(-Fapp)"
   ]
  },
  {
   "cell_type": "markdown",
   "metadata": {},
   "source": [
    "## Problem Statement\n",
    "### Joint Locations\n",
    "The points in alphabetical order are below.  These are used to create a [pandas data frame](http://pandas.pydata.org/pandas-docs/stable/dsintro.html#dataframe).  The main reason for using the data frame is that individual points may be referenced using their label.  These labels are the [index](http://pandas.pydata.org/pandas-docs/stable/dsintro.html#indexing-selection) of the data frame."
   ]
  },
  {
   "cell_type": "code",
   "execution_count": 4,
   "metadata": {
    "collapsed": false
   },
   "outputs": [
    {
     "name": "stdout",
     "output_type": "stream",
     "text": [
      "The joint locations are:\n"
     ]
    },
    {
     "data": {
      "text/html": [
       "<div>\n",
       "<table border=\"1\" class=\"dataframe\">\n",
       "  <thead>\n",
       "    <tr style=\"text-align: right;\">\n",
       "      <th></th>\n",
       "      <th>X</th>\n",
       "      <th>Y</th>\n",
       "    </tr>\n",
       "  </thead>\n",
       "  <tbody>\n",
       "    <tr>\n",
       "      <th>A</th>\n",
       "      <td>0.0</td>\n",
       "      <td>0.0</td>\n",
       "    </tr>\n",
       "    <tr>\n",
       "      <th>B</th>\n",
       "      <td>2.5</td>\n",
       "      <td>1.5</td>\n",
       "    </tr>\n",
       "    <tr>\n",
       "      <th>C</th>\n",
       "      <td>5.0</td>\n",
       "      <td>3.0</td>\n",
       "    </tr>\n",
       "    <tr>\n",
       "      <th>D</th>\n",
       "      <td>7.5</td>\n",
       "      <td>1.5</td>\n",
       "    </tr>\n",
       "    <tr>\n",
       "      <th>E</th>\n",
       "      <td>10.0</td>\n",
       "      <td>0.0</td>\n",
       "    </tr>\n",
       "    <tr>\n",
       "      <th>F</th>\n",
       "      <td>2.5</td>\n",
       "      <td>0.0</td>\n",
       "    </tr>\n",
       "    <tr>\n",
       "      <th>G</th>\n",
       "      <td>5.0</td>\n",
       "      <td>0.0</td>\n",
       "    </tr>\n",
       "    <tr>\n",
       "      <th>H</th>\n",
       "      <td>7.5</td>\n",
       "      <td>0.0</td>\n",
       "    </tr>\n",
       "  </tbody>\n",
       "</table>\n",
       "</div>"
      ],
      "text/plain": [
       "      X    Y\n",
       "A   0.0  0.0\n",
       "B   2.5  1.5\n",
       "C   5.0  3.0\n",
       "D   7.5  1.5\n",
       "E  10.0  0.0\n",
       "F   2.5  0.0\n",
       "G   5.0  0.0\n",
       "H   7.5  0.0"
      ]
     },
     "execution_count": 4,
     "metadata": {},
     "output_type": "execute_result"
    }
   ],
   "source": [
    "#Create an alphabetical list of point locations in (x,y) format.\n",
    "pl=[(0,0),(2.5,1.5),(5,3),(7.5,1.5),(10,0),(2.5,0),(5,0),(7.5,0)]\n",
    "#Create list for point labels.\n",
    "i=[]\n",
    "for c in 'ABCDEFGH':\n",
    "    i.append(c)\n",
    "print('The joint locations are:')\n",
    "Points=pd.DataFrame(pl,columns=['X','Y'],index=i ); Points"
   ]
  },
  {
   "cell_type": "markdown",
   "metadata": {},
   "source": [
    "### Connecting Members"
   ]
  },
  {
   "cell_type": "code",
   "execution_count": 5,
   "metadata": {
    "collapsed": false
   },
   "outputs": [
    {
     "data": {
      "image/png": "[encoded data removed]",
      "text/plain": [
       "<matplotlib.figure.Figure at 0xfc72b877b8>"
      ]
     },
     "execution_count": 5,
     "metadata": {},
     "output_type": "execute_result"
    }
   ],
   "source": [
    "lines=('AB','AF','BF','FG','BG','BC','CG','CD','DG','DH','DE','HE','HG')\n",
    "ar=10/3;fsx=7.5;fsy=fsx/ar\n",
    "MyFigure, MyAxes = pyplot.subplots(1,1,figsize=(fsx,fsy));\n",
    "LabeledPoints(Points,MyAxes)\n",
    "MakeLines(Points,lines,MyAxes)\n",
    "MyFigure"
   ]
  },
  {
   "cell_type": "markdown",
   "metadata": {},
   "source": [
    "### External Forces\n",
    "The applied and reaction forces are:"
   ]
  },
  {
   "cell_type": "code",
   "execution_count": 6,
   "metadata": {
    "collapsed": false
   },
   "outputs": [
    {
     "data": {
      "text/html": [
       "<div>\n",
       "<table border=\"1\" class=\"dataframe\">\n",
       "  <thead>\n",
       "    <tr style=\"text-align: right;\">\n",
       "      <th></th>\n",
       "      <th>Fx</th>\n",
       "      <th>Fy</th>\n",
       "    </tr>\n",
       "  </thead>\n",
       "  <tbody>\n",
       "    <tr>\n",
       "      <th>A</th>\n",
       "      <td>0</td>\n",
       "      <td>4</td>\n",
       "    </tr>\n",
       "    <tr>\n",
       "      <th>E</th>\n",
       "      <td>0</td>\n",
       "      <td>4</td>\n",
       "    </tr>\n",
       "    <tr>\n",
       "      <th>F</th>\n",
       "      <td>0</td>\n",
       "      <td>-4</td>\n",
       "    </tr>\n",
       "    <tr>\n",
       "      <th>H</th>\n",
       "      <td>0</td>\n",
       "      <td>-4</td>\n",
       "    </tr>\n",
       "    <tr>\n",
       "      <th>B</th>\n",
       "      <td>0</td>\n",
       "      <td>0</td>\n",
       "    </tr>\n",
       "    <tr>\n",
       "      <th>C</th>\n",
       "      <td>0</td>\n",
       "      <td>0</td>\n",
       "    </tr>\n",
       "    <tr>\n",
       "      <th>D</th>\n",
       "      <td>0</td>\n",
       "      <td>0</td>\n",
       "    </tr>\n",
       "    <tr>\n",
       "      <th>G</th>\n",
       "      <td>0</td>\n",
       "      <td>0</td>\n",
       "    </tr>\n",
       "  </tbody>\n",
       "</table>\n",
       "</div>"
      ],
      "text/plain": [
       "   Fx  Fy\n",
       "A   0   4\n",
       "E   0   4\n",
       "F   0  -4\n",
       "H   0  -4\n",
       "B   0   0\n",
       "C   0   0\n",
       "D   0   0\n",
       "G   0   0"
      ]
     },
     "execution_count": 6,
     "metadata": {},
     "output_type": "execute_result"
    }
   ],
   "source": [
    "Fapp=pd.DataFrame(\n",
    "    [(0,4),(0,4),(0,-4),(0,-4),(0,0),(0,0),(0,0),(0,0)],columns=['Fx','Fy'],\n",
    "    index=['A','E','F','H','B','C','D','G']); Fapp"
   ]
  },
  {
   "cell_type": "markdown",
   "metadata": {},
   "source": [
    "## Solve System\n",
    "### Joint A"
   ]
  },
  {
   "cell_type": "code",
   "execution_count": 7,
   "metadata": {
    "collapsed": false
   },
   "outputs": [
    {
     "data": {
      "text/plain": [
       "(-7.8, 6.7)"
      ]
     },
     "execution_count": 7,
     "metadata": {},
     "output_type": "execute_result"
    }
   ],
   "source": [
    "mlist=['AB','AF']\n",
    "T_AB,T_AF = SolveJoint(mlist,Points,Fapp.loc['A'].values)\n",
    "(T_AB,T_AF)"
   ]
  },
  {
   "cell_type": "markdown",
   "metadata": {},
   "source": [
    "### Joint F"
   ]
  },
  {
   "cell_type": "code",
   "execution_count": 8,
   "metadata": {
    "collapsed": false
   },
   "outputs": [
    {
     "data": {
      "text/plain": [
       "(4.0, 6.7)"
      ]
     },
     "execution_count": 8,
     "metadata": {},
     "output_type": "execute_result"
    }
   ],
   "source": [
    "mlist=['FB','FG']\n",
    "T_FB,T_FG = SolveJoint(mlist,Points,Fapp.loc['F'].values+T_AF*λ('FA',Points))\n",
    "(T_FB,T_FG)"
   ]
  },
  {
   "cell_type": "markdown",
   "metadata": {},
   "source": [
    "### Joint B"
   ]
  },
  {
   "cell_type": "code",
   "execution_count": 9,
   "metadata": {
    "collapsed": false
   },
   "outputs": [
    {
     "data": {
      "text/plain": [
       "(-3.9, -3.9)"
      ]
     },
     "execution_count": 9,
     "metadata": {},
     "output_type": "execute_result"
    }
   ],
   "source": [
    "mlist=['BG','BC']\n",
    "T_BG,T_BC = SolveJoint(mlist,Points,Fapp.loc['B'].values+\n",
    "                       T_AB*λ('BA',Points)+T_FB*λ('BF',Points))\n",
    "(T_BG,T_BC)"
   ]
  },
  {
   "cell_type": "markdown",
   "metadata": {},
   "source": [
    "### Joint C"
   ]
  },
  {
   "cell_type": "code",
   "execution_count": 10,
   "metadata": {
    "collapsed": false
   },
   "outputs": [
    {
     "data": {
      "text/plain": [
       "(-3.9, 4.0)"
      ]
     },
     "execution_count": 10,
     "metadata": {},
     "output_type": "execute_result"
    }
   ],
   "source": [
    "mlist=['CD','CG']\n",
    "T_CD,T_CG = SolveJoint(mlist,Points,Fapp.loc['C'].values+\n",
    "                       T_BC*λ('CB',Points))\n",
    "(T_CD,T_CG)"
   ]
  },
  {
   "cell_type": "markdown",
   "metadata": {},
   "source": [
    "### Joint G"
   ]
  },
  {
   "cell_type": "code",
   "execution_count": 11,
   "metadata": {
    "collapsed": false,
    "scrolled": true
   },
   "outputs": [
    {
     "name": "stdout",
     "output_type": "stream",
     "text": [
      "T_GH = 6.7 and T_DG = -3.9.  By symmetry these are the same as T_FG and T_BG\n",
      "T_FG = 6.7 and T_BG = -3.9.\n"
     ]
    }
   ],
   "source": [
    "mlist=['GD','GH']\n",
    "T_DG,T_GH = SolveJoint(mlist,Points,Fapp.loc['G'].values+\n",
    "                       T_FG*λ('GF',Points)+T_BG*λ('GB',Points)+T_CG*λ('GC',Points))\n",
    "print('T_GH = {:.1f} and T_DG = {:.1f}.  By symmetry these are the same as T_FG and T_BG'.format(T_GH,T_DG))\n",
    "print('T_FG = {:.1f} and T_BG = {:.1f}.'.format(T_FG,T_BG))"
   ]
  },
  {
   "cell_type": "markdown",
   "metadata": {},
   "source": [
    "### Joint D"
   ]
  },
  {
   "cell_type": "code",
   "execution_count": 12,
   "metadata": {
    "collapsed": false,
    "scrolled": true
   },
   "outputs": [
    {
     "data": {
      "text/plain": [
       "(4.0, -7.8)"
      ]
     },
     "execution_count": 12,
     "metadata": {},
     "output_type": "execute_result"
    }
   ],
   "source": [
    "mlist=['DH','DE']\n",
    "T_DH,T_DE = SolveJoint(mlist,Points,Fapp.loc['D'].values+\n",
    "                       T_DG*λ('DG',Points)+T_CD*λ('DC',Points))\n",
    "(T_DH,T_DE)"
   ]
  },
  {
   "cell_type": "markdown",
   "metadata": {},
   "source": [
    "### Joint H"
   ]
  },
  {
   "cell_type": "code",
   "execution_count": 13,
   "metadata": {
    "collapsed": false,
    "scrolled": true
   },
   "outputs": [
    {
     "data": {
      "text/plain": [
       "6.7"
      ]
     },
     "execution_count": 13,
     "metadata": {},
     "output_type": "execute_result"
    }
   ],
   "source": [
    "mlist=['HE']\n",
    "T_HE = T_GH - Fapp.loc['H'].values[0];\n",
    "T_HE"
   ]
  },
  {
   "cell_type": "markdown",
   "metadata": {},
   "source": [
    "### Check at joint E"
   ]
  },
  {
   "cell_type": "code",
   "execution_count": 14,
   "metadata": {
    "collapsed": false,
    "scrolled": true
   },
   "outputs": [
    {
     "data": {
      "text/plain": [
       "array([ 0.,  0.])"
      ]
     },
     "execution_count": 14,
     "metadata": {},
     "output_type": "execute_result"
    }
   ],
   "source": [
    "T_DE*λ('ED',Points)+T_HE*λ('EH',Points)+Fapp.loc['E'].values"
   ]
  }
 ],
 "metadata": {
  "anaconda-cloud": {},
  "kernelspec": {
   "display_name": "Python [default]",
   "language": "python",
   "name": "python3"
  },
  "language_info": {
   "codemirror_mode": {
    "name": "ipython",
    "version": 3
   },
   "file_extension": ".py",
   "mimetype": "text/x-python",
   "name": "python",
   "nbconvert_exporter": "python",
   "pygments_lexer": "ipython3",
   "version": "3.5.2"
  }
 },
 "nbformat": 4,
 "nbformat_minor": 1
}
